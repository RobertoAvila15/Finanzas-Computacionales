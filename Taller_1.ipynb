{
  "nbformat": 4,
  "nbformat_minor": 0,
  "metadata": {
    "colab": {
      "provenance": [],
      "authorship_tag": "ABX9TyN2lqKjRXARG4vX/S6HX5qZ",
      "include_colab_link": true
    },
    "kernelspec": {
      "name": "python3",
      "display_name": "Python 3"
    },
    "language_info": {
      "name": "python"
    }
  },
  "cells": [
    {
      "cell_type": "markdown",
      "metadata": {
        "id": "view-in-github",
        "colab_type": "text"
      },
      "source": [
        "<a href=\"https://colab.research.google.com/github/RobertoAvila15/Finanzas-Computacionales/blob/main/Taller_1.ipynb\" target=\"_parent\"><img src=\"https://colab.research.google.com/assets/colab-badge.svg\" alt=\"Open In Colab\"/></a>"
      ]
    },
    {
      "cell_type": "markdown",
      "source": [
        "#Taller 1"
      ],
      "metadata": {
        "id": "O3XBhs9aaHeO"
      }
    },
    {
      "cell_type": "markdown",
      "source": [
        "\n",
        "*   Roberto José Ávila Moreno\n",
        "\n",
        "*   Salim Abou-Ammar Garcia\n",
        "\n",
        "\n"
      ],
      "metadata": {
        "id": "xKGJo3gqaEP8"
      }
    },
    {
      "cell_type": "markdown",
      "source": [
        "###Librerias"
      ],
      "metadata": {
        "id": "S04O4_F8aA0s"
      }
    },
    {
      "cell_type": "code",
      "execution_count": null,
      "metadata": {
        "id": "cmw1AvkbZ8dW"
      },
      "outputs": [],
      "source": [
        "# Librerias\n",
        "import pandas as pd\n",
        "import numpy as np\n",
        "from scipy import stats\n",
        "from matplotlib import pyplot as plt\n",
        "!pip install --quiet yfinance \n",
        "import yfinance as yf"
      ]
    },
    {
      "cell_type": "code",
      "source": [
        "import pandas_datareader.data as pdr"
      ],
      "metadata": {
        "id": "VeB8XuQ1V-i3"
      },
      "execution_count": 63,
      "outputs": []
    },
    {
      "cell_type": "code",
      "source": [
        "!pip install pandas_datareader\n",
        "import pandas_datareader as pdr"
      ],
      "metadata": {
        "id": "pq73gQ6vpHfQ"
      },
      "execution_count": null,
      "outputs": []
    },
    {
      "cell_type": "code",
      "source": [
        "from pandas_datareader import wb\n",
        "from datetime import datetime"
      ],
      "metadata": {
        "id": "gilF1lswpZj1"
      },
      "execution_count": 65,
      "outputs": []
    },
    {
      "cell_type": "markdown",
      "source": [
        "###Punto 1"
      ],
      "metadata": {
        "id": "pX1LQfqYaQfn"
      }
    },
    {
      "cell_type": "markdown",
      "source": [
        "####Subida de datos"
      ],
      "metadata": {
        "id": "ETW_49acaW5s"
      }
    },
    {
      "cell_type": "markdown",
      "source": [
        "Por un lado, cargamos la accion de Raytheon Technologies (RTX), una empresa estadounidense dedicada al negocio aeroespacial y militar."
      ],
      "metadata": {
        "id": "67hgqX0bacDC"
      }
    },
    {
      "cell_type": "code",
      "source": [
        "precios_1_RTX = yf.download(\"RTX\",start=\"2021-01-01\",end=\"2022-12-31\",period=\"1D\")['Adj Close']\n",
        "precios_1_RTX = pd.DataFrame(precios_1_RTX)\n",
        "precios_1_RTX"
      ],
      "metadata": {
        "colab": {
          "base_uri": "https://localhost:8080/",
          "height": 472
        },
        "id": "TXKwM_P3vHQJ",
        "outputId": "f34c9634-b81d-4995-b8c0-3e08da0f2ea2"
      },
      "execution_count": 66,
      "outputs": [
        {
          "output_type": "stream",
          "name": "stdout",
          "text": [
            "\r[*********************100%***********************]  1 of 1 completed\n"
          ]
        },
        {
          "output_type": "execute_result",
          "data": {
            "text/plain": [
              "             Adj Close\n",
              "Date                  \n",
              "2021-01-04   65.280037\n",
              "2021-01-05   66.224472\n",
              "2021-01-06   67.044884\n",
              "2021-01-07   66.567902\n",
              "2021-01-08   66.644203\n",
              "...                ...\n",
              "2022-12-23   99.300003\n",
              "2022-12-27   99.660004\n",
              "2022-12-28   99.139999\n",
              "2022-12-29  100.330002\n",
              "2022-12-30  100.919998\n",
              "\n",
              "[503 rows x 1 columns]"
            ],
            "text/html": [
              "\n",
              "  <div id=\"df-156e6a95-8530-4dff-adcd-066975c51116\">\n",
              "    <div class=\"colab-df-container\">\n",
              "      <div>\n",
              "<style scoped>\n",
              "    .dataframe tbody tr th:only-of-type {\n",
              "        vertical-align: middle;\n",
              "    }\n",
              "\n",
              "    .dataframe tbody tr th {\n",
              "        vertical-align: top;\n",
              "    }\n",
              "\n",
              "    .dataframe thead th {\n",
              "        text-align: right;\n",
              "    }\n",
              "</style>\n",
              "<table border=\"1\" class=\"dataframe\">\n",
              "  <thead>\n",
              "    <tr style=\"text-align: right;\">\n",
              "      <th></th>\n",
              "      <th>Adj Close</th>\n",
              "    </tr>\n",
              "    <tr>\n",
              "      <th>Date</th>\n",
              "      <th></th>\n",
              "    </tr>\n",
              "  </thead>\n",
              "  <tbody>\n",
              "    <tr>\n",
              "      <th>2021-01-04</th>\n",
              "      <td>65.280037</td>\n",
              "    </tr>\n",
              "    <tr>\n",
              "      <th>2021-01-05</th>\n",
              "      <td>66.224472</td>\n",
              "    </tr>\n",
              "    <tr>\n",
              "      <th>2021-01-06</th>\n",
              "      <td>67.044884</td>\n",
              "    </tr>\n",
              "    <tr>\n",
              "      <th>2021-01-07</th>\n",
              "      <td>66.567902</td>\n",
              "    </tr>\n",
              "    <tr>\n",
              "      <th>2021-01-08</th>\n",
              "      <td>66.644203</td>\n",
              "    </tr>\n",
              "    <tr>\n",
              "      <th>...</th>\n",
              "      <td>...</td>\n",
              "    </tr>\n",
              "    <tr>\n",
              "      <th>2022-12-23</th>\n",
              "      <td>99.300003</td>\n",
              "    </tr>\n",
              "    <tr>\n",
              "      <th>2022-12-27</th>\n",
              "      <td>99.660004</td>\n",
              "    </tr>\n",
              "    <tr>\n",
              "      <th>2022-12-28</th>\n",
              "      <td>99.139999</td>\n",
              "    </tr>\n",
              "    <tr>\n",
              "      <th>2022-12-29</th>\n",
              "      <td>100.330002</td>\n",
              "    </tr>\n",
              "    <tr>\n",
              "      <th>2022-12-30</th>\n",
              "      <td>100.919998</td>\n",
              "    </tr>\n",
              "  </tbody>\n",
              "</table>\n",
              "<p>503 rows × 1 columns</p>\n",
              "</div>\n",
              "      <button class=\"colab-df-convert\" onclick=\"convertToInteractive('df-156e6a95-8530-4dff-adcd-066975c51116')\"\n",
              "              title=\"Convert this dataframe to an interactive table.\"\n",
              "              style=\"display:none;\">\n",
              "        \n",
              "  <svg xmlns=\"http://www.w3.org/2000/svg\" height=\"24px\"viewBox=\"0 0 24 24\"\n",
              "       width=\"24px\">\n",
              "    <path d=\"M0 0h24v24H0V0z\" fill=\"none\"/>\n",
              "    <path d=\"M18.56 5.44l.94 2.06.94-2.06 2.06-.94-2.06-.94-.94-2.06-.94 2.06-2.06.94zm-11 1L8.5 8.5l.94-2.06 2.06-.94-2.06-.94L8.5 2.5l-.94 2.06-2.06.94zm10 10l.94 2.06.94-2.06 2.06-.94-2.06-.94-.94-2.06-.94 2.06-2.06.94z\"/><path d=\"M17.41 7.96l-1.37-1.37c-.4-.4-.92-.59-1.43-.59-.52 0-1.04.2-1.43.59L10.3 9.45l-7.72 7.72c-.78.78-.78 2.05 0 2.83L4 21.41c.39.39.9.59 1.41.59.51 0 1.02-.2 1.41-.59l7.78-7.78 2.81-2.81c.8-.78.8-2.07 0-2.86zM5.41 20L4 18.59l7.72-7.72 1.47 1.35L5.41 20z\"/>\n",
              "  </svg>\n",
              "      </button>\n",
              "      \n",
              "  <style>\n",
              "    .colab-df-container {\n",
              "      display:flex;\n",
              "      flex-wrap:wrap;\n",
              "      gap: 12px;\n",
              "    }\n",
              "\n",
              "    .colab-df-convert {\n",
              "      background-color: #E8F0FE;\n",
              "      border: none;\n",
              "      border-radius: 50%;\n",
              "      cursor: pointer;\n",
              "      display: none;\n",
              "      fill: #1967D2;\n",
              "      height: 32px;\n",
              "      padding: 0 0 0 0;\n",
              "      width: 32px;\n",
              "    }\n",
              "\n",
              "    .colab-df-convert:hover {\n",
              "      background-color: #E2EBFA;\n",
              "      box-shadow: 0px 1px 2px rgba(60, 64, 67, 0.3), 0px 1px 3px 1px rgba(60, 64, 67, 0.15);\n",
              "      fill: #174EA6;\n",
              "    }\n",
              "\n",
              "    [theme=dark] .colab-df-convert {\n",
              "      background-color: #3B4455;\n",
              "      fill: #D2E3FC;\n",
              "    }\n",
              "\n",
              "    [theme=dark] .colab-df-convert:hover {\n",
              "      background-color: #434B5C;\n",
              "      box-shadow: 0px 1px 3px 1px rgba(0, 0, 0, 0.15);\n",
              "      filter: drop-shadow(0px 1px 2px rgba(0, 0, 0, 0.3));\n",
              "      fill: #FFFFFF;\n",
              "    }\n",
              "  </style>\n",
              "\n",
              "      <script>\n",
              "        const buttonEl =\n",
              "          document.querySelector('#df-156e6a95-8530-4dff-adcd-066975c51116 button.colab-df-convert');\n",
              "        buttonEl.style.display =\n",
              "          google.colab.kernel.accessAllowed ? 'block' : 'none';\n",
              "\n",
              "        async function convertToInteractive(key) {\n",
              "          const element = document.querySelector('#df-156e6a95-8530-4dff-adcd-066975c51116');\n",
              "          const dataTable =\n",
              "            await google.colab.kernel.invokeFunction('convertToInteractive',\n",
              "                                                     [key], {});\n",
              "          if (!dataTable) return;\n",
              "\n",
              "          const docLinkHtml = 'Like what you see? Visit the ' +\n",
              "            '<a target=\"_blank\" href=https://colab.research.google.com/notebooks/data_table.ipynb>data table notebook</a>'\n",
              "            + ' to learn more about interactive tables.';\n",
              "          element.innerHTML = '';\n",
              "          dataTable['output_type'] = 'display_data';\n",
              "          await google.colab.output.renderOutput(dataTable, element);\n",
              "          const docLink = document.createElement('div');\n",
              "          docLink.innerHTML = docLinkHtml;\n",
              "          element.appendChild(docLink);\n",
              "        }\n",
              "      </script>\n",
              "    </div>\n",
              "  </div>\n",
              "  "
            ]
          },
          "metadata": {},
          "execution_count": 66
        }
      ]
    },
    {
      "cell_type": "markdown",
      "source": [
        "Por otro lado, cargamos la accion de Abbott Laboratories (ABT), una empresa farmaceutica estadounidense."
      ],
      "metadata": {
        "id": "o6dUqgyVnVT0"
      }
    },
    {
      "cell_type": "code",
      "source": [
        "precios_1_ABT = yf.download(\"ABT\",start=\"2021-01-01\",end=\"2022-12-31\",period=\"1D\")['Adj Close']\n",
        "precios_1_ABT = pd.DataFrame(precios_1_ABT)\n",
        "precios_1_ABT"
      ],
      "metadata": {
        "colab": {
          "base_uri": "https://localhost:8080/",
          "height": 472
        },
        "id": "CRQoQCTZvLV3",
        "outputId": "9cc74240-28c4-466d-fb70-596596b68509"
      },
      "execution_count": 67,
      "outputs": [
        {
          "output_type": "stream",
          "name": "stdout",
          "text": [
            "\r[*********************100%***********************]  1 of 1 completed\n"
          ]
        },
        {
          "output_type": "execute_result",
          "data": {
            "text/plain": [
              "             Adj Close\n",
              "Date                  \n",
              "2021-01-04  105.199547\n",
              "2021-01-05  106.501160\n",
              "2021-01-06  106.279411\n",
              "2021-01-07  107.311073\n",
              "2021-01-08  107.609940\n",
              "...                ...\n",
              "2022-12-23  107.692398\n",
              "2022-12-27  108.080643\n",
              "2022-12-28  107.343979\n",
              "2022-12-29  109.812798\n",
              "2022-12-30  109.295143\n",
              "\n",
              "[503 rows x 1 columns]"
            ],
            "text/html": [
              "\n",
              "  <div id=\"df-77ff8a96-7d96-4420-a007-4e69611bc373\">\n",
              "    <div class=\"colab-df-container\">\n",
              "      <div>\n",
              "<style scoped>\n",
              "    .dataframe tbody tr th:only-of-type {\n",
              "        vertical-align: middle;\n",
              "    }\n",
              "\n",
              "    .dataframe tbody tr th {\n",
              "        vertical-align: top;\n",
              "    }\n",
              "\n",
              "    .dataframe thead th {\n",
              "        text-align: right;\n",
              "    }\n",
              "</style>\n",
              "<table border=\"1\" class=\"dataframe\">\n",
              "  <thead>\n",
              "    <tr style=\"text-align: right;\">\n",
              "      <th></th>\n",
              "      <th>Adj Close</th>\n",
              "    </tr>\n",
              "    <tr>\n",
              "      <th>Date</th>\n",
              "      <th></th>\n",
              "    </tr>\n",
              "  </thead>\n",
              "  <tbody>\n",
              "    <tr>\n",
              "      <th>2021-01-04</th>\n",
              "      <td>105.199547</td>\n",
              "    </tr>\n",
              "    <tr>\n",
              "      <th>2021-01-05</th>\n",
              "      <td>106.501160</td>\n",
              "    </tr>\n",
              "    <tr>\n",
              "      <th>2021-01-06</th>\n",
              "      <td>106.279411</td>\n",
              "    </tr>\n",
              "    <tr>\n",
              "      <th>2021-01-07</th>\n",
              "      <td>107.311073</td>\n",
              "    </tr>\n",
              "    <tr>\n",
              "      <th>2021-01-08</th>\n",
              "      <td>107.609940</td>\n",
              "    </tr>\n",
              "    <tr>\n",
              "      <th>...</th>\n",
              "      <td>...</td>\n",
              "    </tr>\n",
              "    <tr>\n",
              "      <th>2022-12-23</th>\n",
              "      <td>107.692398</td>\n",
              "    </tr>\n",
              "    <tr>\n",
              "      <th>2022-12-27</th>\n",
              "      <td>108.080643</td>\n",
              "    </tr>\n",
              "    <tr>\n",
              "      <th>2022-12-28</th>\n",
              "      <td>107.343979</td>\n",
              "    </tr>\n",
              "    <tr>\n",
              "      <th>2022-12-29</th>\n",
              "      <td>109.812798</td>\n",
              "    </tr>\n",
              "    <tr>\n",
              "      <th>2022-12-30</th>\n",
              "      <td>109.295143</td>\n",
              "    </tr>\n",
              "  </tbody>\n",
              "</table>\n",
              "<p>503 rows × 1 columns</p>\n",
              "</div>\n",
              "      <button class=\"colab-df-convert\" onclick=\"convertToInteractive('df-77ff8a96-7d96-4420-a007-4e69611bc373')\"\n",
              "              title=\"Convert this dataframe to an interactive table.\"\n",
              "              style=\"display:none;\">\n",
              "        \n",
              "  <svg xmlns=\"http://www.w3.org/2000/svg\" height=\"24px\"viewBox=\"0 0 24 24\"\n",
              "       width=\"24px\">\n",
              "    <path d=\"M0 0h24v24H0V0z\" fill=\"none\"/>\n",
              "    <path d=\"M18.56 5.44l.94 2.06.94-2.06 2.06-.94-2.06-.94-.94-2.06-.94 2.06-2.06.94zm-11 1L8.5 8.5l.94-2.06 2.06-.94-2.06-.94L8.5 2.5l-.94 2.06-2.06.94zm10 10l.94 2.06.94-2.06 2.06-.94-2.06-.94-.94-2.06-.94 2.06-2.06.94z\"/><path d=\"M17.41 7.96l-1.37-1.37c-.4-.4-.92-.59-1.43-.59-.52 0-1.04.2-1.43.59L10.3 9.45l-7.72 7.72c-.78.78-.78 2.05 0 2.83L4 21.41c.39.39.9.59 1.41.59.51 0 1.02-.2 1.41-.59l7.78-7.78 2.81-2.81c.8-.78.8-2.07 0-2.86zM5.41 20L4 18.59l7.72-7.72 1.47 1.35L5.41 20z\"/>\n",
              "  </svg>\n",
              "      </button>\n",
              "      \n",
              "  <style>\n",
              "    .colab-df-container {\n",
              "      display:flex;\n",
              "      flex-wrap:wrap;\n",
              "      gap: 12px;\n",
              "    }\n",
              "\n",
              "    .colab-df-convert {\n",
              "      background-color: #E8F0FE;\n",
              "      border: none;\n",
              "      border-radius: 50%;\n",
              "      cursor: pointer;\n",
              "      display: none;\n",
              "      fill: #1967D2;\n",
              "      height: 32px;\n",
              "      padding: 0 0 0 0;\n",
              "      width: 32px;\n",
              "    }\n",
              "\n",
              "    .colab-df-convert:hover {\n",
              "      background-color: #E2EBFA;\n",
              "      box-shadow: 0px 1px 2px rgba(60, 64, 67, 0.3), 0px 1px 3px 1px rgba(60, 64, 67, 0.15);\n",
              "      fill: #174EA6;\n",
              "    }\n",
              "\n",
              "    [theme=dark] .colab-df-convert {\n",
              "      background-color: #3B4455;\n",
              "      fill: #D2E3FC;\n",
              "    }\n",
              "\n",
              "    [theme=dark] .colab-df-convert:hover {\n",
              "      background-color: #434B5C;\n",
              "      box-shadow: 0px 1px 3px 1px rgba(0, 0, 0, 0.15);\n",
              "      filter: drop-shadow(0px 1px 2px rgba(0, 0, 0, 0.3));\n",
              "      fill: #FFFFFF;\n",
              "    }\n",
              "  </style>\n",
              "\n",
              "      <script>\n",
              "        const buttonEl =\n",
              "          document.querySelector('#df-77ff8a96-7d96-4420-a007-4e69611bc373 button.colab-df-convert');\n",
              "        buttonEl.style.display =\n",
              "          google.colab.kernel.accessAllowed ? 'block' : 'none';\n",
              "\n",
              "        async function convertToInteractive(key) {\n",
              "          const element = document.querySelector('#df-77ff8a96-7d96-4420-a007-4e69611bc373');\n",
              "          const dataTable =\n",
              "            await google.colab.kernel.invokeFunction('convertToInteractive',\n",
              "                                                     [key], {});\n",
              "          if (!dataTable) return;\n",
              "\n",
              "          const docLinkHtml = 'Like what you see? Visit the ' +\n",
              "            '<a target=\"_blank\" href=https://colab.research.google.com/notebooks/data_table.ipynb>data table notebook</a>'\n",
              "            + ' to learn more about interactive tables.';\n",
              "          element.innerHTML = '';\n",
              "          dataTable['output_type'] = 'display_data';\n",
              "          await google.colab.output.renderOutput(dataTable, element);\n",
              "          const docLink = document.createElement('div');\n",
              "          docLink.innerHTML = docLinkHtml;\n",
              "          element.appendChild(docLink);\n",
              "        }\n",
              "      </script>\n",
              "    </div>\n",
              "  </div>\n",
              "  "
            ]
          },
          "metadata": {},
          "execution_count": 67
        }
      ]
    },
    {
      "cell_type": "markdown",
      "source": [
        "#### **a.** Calculo de Retornos Logaritmicos"
      ],
      "metadata": {
        "id": "jW52mZWyalBw"
      }
    },
    {
      "cell_type": "markdown",
      "source": [
        "#####Diarios"
      ],
      "metadata": {
        "id": "HeBQP6Wmaw8X"
      }
    },
    {
      "cell_type": "markdown",
      "source": [
        "#####RTX"
      ],
      "metadata": {
        "id": "yV7qYKyHzKTO"
      }
    },
    {
      "cell_type": "code",
      "source": [
        "ret_diarios_RTX = pd.DataFrame(np.log(precios_1_RTX/precios_1_RTX.shift(1)).dropna())\n",
        "ret_diarios_RTX = ret_diarios_RTX.rename(columns={'Adj Close':'Retorno Diario RTX'})\n",
        "ret_diarios_RTX"
      ],
      "metadata": {
        "colab": {
          "base_uri": "https://localhost:8080/",
          "height": 455
        },
        "id": "YXc7zl_-veEz",
        "outputId": "36ff38b2-e05f-45e7-a194-65022b80e15e"
      },
      "execution_count": 68,
      "outputs": [
        {
          "output_type": "execute_result",
          "data": {
            "text/plain": [
              "            Retorno Diario RTX\n",
              "Date                          \n",
              "2021-01-05            0.014364\n",
              "2021-01-06            0.012312\n",
              "2021-01-07           -0.007140\n",
              "2021-01-08            0.001146\n",
              "2021-01-11           -0.000859\n",
              "...                        ...\n",
              "2022-12-23            0.007988\n",
              "2022-12-27            0.003619\n",
              "2022-12-28           -0.005231\n",
              "2022-12-29            0.011932\n",
              "2022-12-30            0.005863\n",
              "\n",
              "[502 rows x 1 columns]"
            ],
            "text/html": [
              "\n",
              "  <div id=\"df-c08d6493-c71b-48e2-8226-ed1ac78b11d8\">\n",
              "    <div class=\"colab-df-container\">\n",
              "      <div>\n",
              "<style scoped>\n",
              "    .dataframe tbody tr th:only-of-type {\n",
              "        vertical-align: middle;\n",
              "    }\n",
              "\n",
              "    .dataframe tbody tr th {\n",
              "        vertical-align: top;\n",
              "    }\n",
              "\n",
              "    .dataframe thead th {\n",
              "        text-align: right;\n",
              "    }\n",
              "</style>\n",
              "<table border=\"1\" class=\"dataframe\">\n",
              "  <thead>\n",
              "    <tr style=\"text-align: right;\">\n",
              "      <th></th>\n",
              "      <th>Retorno Diario RTX</th>\n",
              "    </tr>\n",
              "    <tr>\n",
              "      <th>Date</th>\n",
              "      <th></th>\n",
              "    </tr>\n",
              "  </thead>\n",
              "  <tbody>\n",
              "    <tr>\n",
              "      <th>2021-01-05</th>\n",
              "      <td>0.014364</td>\n",
              "    </tr>\n",
              "    <tr>\n",
              "      <th>2021-01-06</th>\n",
              "      <td>0.012312</td>\n",
              "    </tr>\n",
              "    <tr>\n",
              "      <th>2021-01-07</th>\n",
              "      <td>-0.007140</td>\n",
              "    </tr>\n",
              "    <tr>\n",
              "      <th>2021-01-08</th>\n",
              "      <td>0.001146</td>\n",
              "    </tr>\n",
              "    <tr>\n",
              "      <th>2021-01-11</th>\n",
              "      <td>-0.000859</td>\n",
              "    </tr>\n",
              "    <tr>\n",
              "      <th>...</th>\n",
              "      <td>...</td>\n",
              "    </tr>\n",
              "    <tr>\n",
              "      <th>2022-12-23</th>\n",
              "      <td>0.007988</td>\n",
              "    </tr>\n",
              "    <tr>\n",
              "      <th>2022-12-27</th>\n",
              "      <td>0.003619</td>\n",
              "    </tr>\n",
              "    <tr>\n",
              "      <th>2022-12-28</th>\n",
              "      <td>-0.005231</td>\n",
              "    </tr>\n",
              "    <tr>\n",
              "      <th>2022-12-29</th>\n",
              "      <td>0.011932</td>\n",
              "    </tr>\n",
              "    <tr>\n",
              "      <th>2022-12-30</th>\n",
              "      <td>0.005863</td>\n",
              "    </tr>\n",
              "  </tbody>\n",
              "</table>\n",
              "<p>502 rows × 1 columns</p>\n",
              "</div>\n",
              "      <button class=\"colab-df-convert\" onclick=\"convertToInteractive('df-c08d6493-c71b-48e2-8226-ed1ac78b11d8')\"\n",
              "              title=\"Convert this dataframe to an interactive table.\"\n",
              "              style=\"display:none;\">\n",
              "        \n",
              "  <svg xmlns=\"http://www.w3.org/2000/svg\" height=\"24px\"viewBox=\"0 0 24 24\"\n",
              "       width=\"24px\">\n",
              "    <path d=\"M0 0h24v24H0V0z\" fill=\"none\"/>\n",
              "    <path d=\"M18.56 5.44l.94 2.06.94-2.06 2.06-.94-2.06-.94-.94-2.06-.94 2.06-2.06.94zm-11 1L8.5 8.5l.94-2.06 2.06-.94-2.06-.94L8.5 2.5l-.94 2.06-2.06.94zm10 10l.94 2.06.94-2.06 2.06-.94-2.06-.94-.94-2.06-.94 2.06-2.06.94z\"/><path d=\"M17.41 7.96l-1.37-1.37c-.4-.4-.92-.59-1.43-.59-.52 0-1.04.2-1.43.59L10.3 9.45l-7.72 7.72c-.78.78-.78 2.05 0 2.83L4 21.41c.39.39.9.59 1.41.59.51 0 1.02-.2 1.41-.59l7.78-7.78 2.81-2.81c.8-.78.8-2.07 0-2.86zM5.41 20L4 18.59l7.72-7.72 1.47 1.35L5.41 20z\"/>\n",
              "  </svg>\n",
              "      </button>\n",
              "      \n",
              "  <style>\n",
              "    .colab-df-container {\n",
              "      display:flex;\n",
              "      flex-wrap:wrap;\n",
              "      gap: 12px;\n",
              "    }\n",
              "\n",
              "    .colab-df-convert {\n",
              "      background-color: #E8F0FE;\n",
              "      border: none;\n",
              "      border-radius: 50%;\n",
              "      cursor: pointer;\n",
              "      display: none;\n",
              "      fill: #1967D2;\n",
              "      height: 32px;\n",
              "      padding: 0 0 0 0;\n",
              "      width: 32px;\n",
              "    }\n",
              "\n",
              "    .colab-df-convert:hover {\n",
              "      background-color: #E2EBFA;\n",
              "      box-shadow: 0px 1px 2px rgba(60, 64, 67, 0.3), 0px 1px 3px 1px rgba(60, 64, 67, 0.15);\n",
              "      fill: #174EA6;\n",
              "    }\n",
              "\n",
              "    [theme=dark] .colab-df-convert {\n",
              "      background-color: #3B4455;\n",
              "      fill: #D2E3FC;\n",
              "    }\n",
              "\n",
              "    [theme=dark] .colab-df-convert:hover {\n",
              "      background-color: #434B5C;\n",
              "      box-shadow: 0px 1px 3px 1px rgba(0, 0, 0, 0.15);\n",
              "      filter: drop-shadow(0px 1px 2px rgba(0, 0, 0, 0.3));\n",
              "      fill: #FFFFFF;\n",
              "    }\n",
              "  </style>\n",
              "\n",
              "      <script>\n",
              "        const buttonEl =\n",
              "          document.querySelector('#df-c08d6493-c71b-48e2-8226-ed1ac78b11d8 button.colab-df-convert');\n",
              "        buttonEl.style.display =\n",
              "          google.colab.kernel.accessAllowed ? 'block' : 'none';\n",
              "\n",
              "        async function convertToInteractive(key) {\n",
              "          const element = document.querySelector('#df-c08d6493-c71b-48e2-8226-ed1ac78b11d8');\n",
              "          const dataTable =\n",
              "            await google.colab.kernel.invokeFunction('convertToInteractive',\n",
              "                                                     [key], {});\n",
              "          if (!dataTable) return;\n",
              "\n",
              "          const docLinkHtml = 'Like what you see? Visit the ' +\n",
              "            '<a target=\"_blank\" href=https://colab.research.google.com/notebooks/data_table.ipynb>data table notebook</a>'\n",
              "            + ' to learn more about interactive tables.';\n",
              "          element.innerHTML = '';\n",
              "          dataTable['output_type'] = 'display_data';\n",
              "          await google.colab.output.renderOutput(dataTable, element);\n",
              "          const docLink = document.createElement('div');\n",
              "          docLink.innerHTML = docLinkHtml;\n",
              "          element.appendChild(docLink);\n",
              "        }\n",
              "      </script>\n",
              "    </div>\n",
              "  </div>\n",
              "  "
            ]
          },
          "metadata": {},
          "execution_count": 68
        }
      ]
    },
    {
      "cell_type": "markdown",
      "source": [
        "#####ABT"
      ],
      "metadata": {
        "id": "m6-E9T-JzLX_"
      }
    },
    {
      "cell_type": "code",
      "source": [
        "ret_diarios_ABT = pd.DataFrame(np.log(precios_1_ABT/precios_1_ABT.shift(1)).dropna())\n",
        "ret_diarios_ABT = ret_diarios_ABT.rename(columns={'Adj Close':'Retorno Diario ABT'})\n",
        "ret_diarios_ABT"
      ],
      "metadata": {
        "colab": {
          "base_uri": "https://localhost:8080/",
          "height": 455
        },
        "id": "YjS0Ik-evjV3",
        "outputId": "9803c593-a725-499f-a1f3-6a4924a78c40"
      },
      "execution_count": 69,
      "outputs": [
        {
          "output_type": "execute_result",
          "data": {
            "text/plain": [
              "            Retorno Diario ABT\n",
              "Date                          \n",
              "2021-01-05            0.012297\n",
              "2021-01-06           -0.002084\n",
              "2021-01-07            0.009660\n",
              "2021-01-08            0.002781\n",
              "2021-01-11           -0.006923\n",
              "...                        ...\n",
              "2022-12-23            0.001388\n",
              "2022-12-27            0.003599\n",
              "2022-12-28           -0.006839\n",
              "2022-12-29            0.022739\n",
              "2022-12-30           -0.004725\n",
              "\n",
              "[502 rows x 1 columns]"
            ],
            "text/html": [
              "\n",
              "  <div id=\"df-0828653e-65cb-4b19-a8dd-f2ef3ace5cb1\">\n",
              "    <div class=\"colab-df-container\">\n",
              "      <div>\n",
              "<style scoped>\n",
              "    .dataframe tbody tr th:only-of-type {\n",
              "        vertical-align: middle;\n",
              "    }\n",
              "\n",
              "    .dataframe tbody tr th {\n",
              "        vertical-align: top;\n",
              "    }\n",
              "\n",
              "    .dataframe thead th {\n",
              "        text-align: right;\n",
              "    }\n",
              "</style>\n",
              "<table border=\"1\" class=\"dataframe\">\n",
              "  <thead>\n",
              "    <tr style=\"text-align: right;\">\n",
              "      <th></th>\n",
              "      <th>Retorno Diario ABT</th>\n",
              "    </tr>\n",
              "    <tr>\n",
              "      <th>Date</th>\n",
              "      <th></th>\n",
              "    </tr>\n",
              "  </thead>\n",
              "  <tbody>\n",
              "    <tr>\n",
              "      <th>2021-01-05</th>\n",
              "      <td>0.012297</td>\n",
              "    </tr>\n",
              "    <tr>\n",
              "      <th>2021-01-06</th>\n",
              "      <td>-0.002084</td>\n",
              "    </tr>\n",
              "    <tr>\n",
              "      <th>2021-01-07</th>\n",
              "      <td>0.009660</td>\n",
              "    </tr>\n",
              "    <tr>\n",
              "      <th>2021-01-08</th>\n",
              "      <td>0.002781</td>\n",
              "    </tr>\n",
              "    <tr>\n",
              "      <th>2021-01-11</th>\n",
              "      <td>-0.006923</td>\n",
              "    </tr>\n",
              "    <tr>\n",
              "      <th>...</th>\n",
              "      <td>...</td>\n",
              "    </tr>\n",
              "    <tr>\n",
              "      <th>2022-12-23</th>\n",
              "      <td>0.001388</td>\n",
              "    </tr>\n",
              "    <tr>\n",
              "      <th>2022-12-27</th>\n",
              "      <td>0.003599</td>\n",
              "    </tr>\n",
              "    <tr>\n",
              "      <th>2022-12-28</th>\n",
              "      <td>-0.006839</td>\n",
              "    </tr>\n",
              "    <tr>\n",
              "      <th>2022-12-29</th>\n",
              "      <td>0.022739</td>\n",
              "    </tr>\n",
              "    <tr>\n",
              "      <th>2022-12-30</th>\n",
              "      <td>-0.004725</td>\n",
              "    </tr>\n",
              "  </tbody>\n",
              "</table>\n",
              "<p>502 rows × 1 columns</p>\n",
              "</div>\n",
              "      <button class=\"colab-df-convert\" onclick=\"convertToInteractive('df-0828653e-65cb-4b19-a8dd-f2ef3ace5cb1')\"\n",
              "              title=\"Convert this dataframe to an interactive table.\"\n",
              "              style=\"display:none;\">\n",
              "        \n",
              "  <svg xmlns=\"http://www.w3.org/2000/svg\" height=\"24px\"viewBox=\"0 0 24 24\"\n",
              "       width=\"24px\">\n",
              "    <path d=\"M0 0h24v24H0V0z\" fill=\"none\"/>\n",
              "    <path d=\"M18.56 5.44l.94 2.06.94-2.06 2.06-.94-2.06-.94-.94-2.06-.94 2.06-2.06.94zm-11 1L8.5 8.5l.94-2.06 2.06-.94-2.06-.94L8.5 2.5l-.94 2.06-2.06.94zm10 10l.94 2.06.94-2.06 2.06-.94-2.06-.94-.94-2.06-.94 2.06-2.06.94z\"/><path d=\"M17.41 7.96l-1.37-1.37c-.4-.4-.92-.59-1.43-.59-.52 0-1.04.2-1.43.59L10.3 9.45l-7.72 7.72c-.78.78-.78 2.05 0 2.83L4 21.41c.39.39.9.59 1.41.59.51 0 1.02-.2 1.41-.59l7.78-7.78 2.81-2.81c.8-.78.8-2.07 0-2.86zM5.41 20L4 18.59l7.72-7.72 1.47 1.35L5.41 20z\"/>\n",
              "  </svg>\n",
              "      </button>\n",
              "      \n",
              "  <style>\n",
              "    .colab-df-container {\n",
              "      display:flex;\n",
              "      flex-wrap:wrap;\n",
              "      gap: 12px;\n",
              "    }\n",
              "\n",
              "    .colab-df-convert {\n",
              "      background-color: #E8F0FE;\n",
              "      border: none;\n",
              "      border-radius: 50%;\n",
              "      cursor: pointer;\n",
              "      display: none;\n",
              "      fill: #1967D2;\n",
              "      height: 32px;\n",
              "      padding: 0 0 0 0;\n",
              "      width: 32px;\n",
              "    }\n",
              "\n",
              "    .colab-df-convert:hover {\n",
              "      background-color: #E2EBFA;\n",
              "      box-shadow: 0px 1px 2px rgba(60, 64, 67, 0.3), 0px 1px 3px 1px rgba(60, 64, 67, 0.15);\n",
              "      fill: #174EA6;\n",
              "    }\n",
              "\n",
              "    [theme=dark] .colab-df-convert {\n",
              "      background-color: #3B4455;\n",
              "      fill: #D2E3FC;\n",
              "    }\n",
              "\n",
              "    [theme=dark] .colab-df-convert:hover {\n",
              "      background-color: #434B5C;\n",
              "      box-shadow: 0px 1px 3px 1px rgba(0, 0, 0, 0.15);\n",
              "      filter: drop-shadow(0px 1px 2px rgba(0, 0, 0, 0.3));\n",
              "      fill: #FFFFFF;\n",
              "    }\n",
              "  </style>\n",
              "\n",
              "      <script>\n",
              "        const buttonEl =\n",
              "          document.querySelector('#df-0828653e-65cb-4b19-a8dd-f2ef3ace5cb1 button.colab-df-convert');\n",
              "        buttonEl.style.display =\n",
              "          google.colab.kernel.accessAllowed ? 'block' : 'none';\n",
              "\n",
              "        async function convertToInteractive(key) {\n",
              "          const element = document.querySelector('#df-0828653e-65cb-4b19-a8dd-f2ef3ace5cb1');\n",
              "          const dataTable =\n",
              "            await google.colab.kernel.invokeFunction('convertToInteractive',\n",
              "                                                     [key], {});\n",
              "          if (!dataTable) return;\n",
              "\n",
              "          const docLinkHtml = 'Like what you see? Visit the ' +\n",
              "            '<a target=\"_blank\" href=https://colab.research.google.com/notebooks/data_table.ipynb>data table notebook</a>'\n",
              "            + ' to learn more about interactive tables.';\n",
              "          element.innerHTML = '';\n",
              "          dataTable['output_type'] = 'display_data';\n",
              "          await google.colab.output.renderOutput(dataTable, element);\n",
              "          const docLink = document.createElement('div');\n",
              "          docLink.innerHTML = docLinkHtml;\n",
              "          element.appendChild(docLink);\n",
              "        }\n",
              "      </script>\n",
              "    </div>\n",
              "  </div>\n",
              "  "
            ]
          },
          "metadata": {},
          "execution_count": 69
        }
      ]
    },
    {
      "cell_type": "markdown",
      "source": [
        "#####Mensuales"
      ],
      "metadata": {
        "id": "qNWOiZB5a0ED"
      }
    },
    {
      "cell_type": "markdown",
      "source": [
        "#####RTX"
      ],
      "metadata": {
        "id": "9bZ8VasFzPEE"
      }
    },
    {
      "cell_type": "code",
      "source": [
        "ret_mensuales_RTX = pd.DataFrame(ret_diarios_RTX*21)\n",
        "ret_mensuales_RTX = ret_mensuales_RTX.rename(columns={'Adj Close':'Retorno Mensual RTX'})\n",
        "ret_mensuales_RTX"
      ],
      "metadata": {
        "colab": {
          "base_uri": "https://localhost:8080/",
          "height": 455
        },
        "id": "5dgzQHUvvsSV",
        "outputId": "3a7de4ae-f184-468c-b52e-af7203954173"
      },
      "execution_count": 70,
      "outputs": [
        {
          "output_type": "execute_result",
          "data": {
            "text/plain": [
              "            Retorno Diario RTX\n",
              "Date                          \n",
              "2021-01-05            0.301640\n",
              "2021-01-06            0.258557\n",
              "2021-01-07           -0.149936\n",
              "2021-01-08            0.024057\n",
              "2021-01-11           -0.018036\n",
              "...                        ...\n",
              "2022-12-23            0.167738\n",
              "2022-12-27            0.075995\n",
              "2022-12-28           -0.109860\n",
              "2022-12-29            0.250567\n",
              "2022-12-30            0.123130\n",
              "\n",
              "[502 rows x 1 columns]"
            ],
            "text/html": [
              "\n",
              "  <div id=\"df-a1fa833b-4da9-42fe-bb0c-704f63131573\">\n",
              "    <div class=\"colab-df-container\">\n",
              "      <div>\n",
              "<style scoped>\n",
              "    .dataframe tbody tr th:only-of-type {\n",
              "        vertical-align: middle;\n",
              "    }\n",
              "\n",
              "    .dataframe tbody tr th {\n",
              "        vertical-align: top;\n",
              "    }\n",
              "\n",
              "    .dataframe thead th {\n",
              "        text-align: right;\n",
              "    }\n",
              "</style>\n",
              "<table border=\"1\" class=\"dataframe\">\n",
              "  <thead>\n",
              "    <tr style=\"text-align: right;\">\n",
              "      <th></th>\n",
              "      <th>Retorno Diario RTX</th>\n",
              "    </tr>\n",
              "    <tr>\n",
              "      <th>Date</th>\n",
              "      <th></th>\n",
              "    </tr>\n",
              "  </thead>\n",
              "  <tbody>\n",
              "    <tr>\n",
              "      <th>2021-01-05</th>\n",
              "      <td>0.301640</td>\n",
              "    </tr>\n",
              "    <tr>\n",
              "      <th>2021-01-06</th>\n",
              "      <td>0.258557</td>\n",
              "    </tr>\n",
              "    <tr>\n",
              "      <th>2021-01-07</th>\n",
              "      <td>-0.149936</td>\n",
              "    </tr>\n",
              "    <tr>\n",
              "      <th>2021-01-08</th>\n",
              "      <td>0.024057</td>\n",
              "    </tr>\n",
              "    <tr>\n",
              "      <th>2021-01-11</th>\n",
              "      <td>-0.018036</td>\n",
              "    </tr>\n",
              "    <tr>\n",
              "      <th>...</th>\n",
              "      <td>...</td>\n",
              "    </tr>\n",
              "    <tr>\n",
              "      <th>2022-12-23</th>\n",
              "      <td>0.167738</td>\n",
              "    </tr>\n",
              "    <tr>\n",
              "      <th>2022-12-27</th>\n",
              "      <td>0.075995</td>\n",
              "    </tr>\n",
              "    <tr>\n",
              "      <th>2022-12-28</th>\n",
              "      <td>-0.109860</td>\n",
              "    </tr>\n",
              "    <tr>\n",
              "      <th>2022-12-29</th>\n",
              "      <td>0.250567</td>\n",
              "    </tr>\n",
              "    <tr>\n",
              "      <th>2022-12-30</th>\n",
              "      <td>0.123130</td>\n",
              "    </tr>\n",
              "  </tbody>\n",
              "</table>\n",
              "<p>502 rows × 1 columns</p>\n",
              "</div>\n",
              "      <button class=\"colab-df-convert\" onclick=\"convertToInteractive('df-a1fa833b-4da9-42fe-bb0c-704f63131573')\"\n",
              "              title=\"Convert this dataframe to an interactive table.\"\n",
              "              style=\"display:none;\">\n",
              "        \n",
              "  <svg xmlns=\"http://www.w3.org/2000/svg\" height=\"24px\"viewBox=\"0 0 24 24\"\n",
              "       width=\"24px\">\n",
              "    <path d=\"M0 0h24v24H0V0z\" fill=\"none\"/>\n",
              "    <path d=\"M18.56 5.44l.94 2.06.94-2.06 2.06-.94-2.06-.94-.94-2.06-.94 2.06-2.06.94zm-11 1L8.5 8.5l.94-2.06 2.06-.94-2.06-.94L8.5 2.5l-.94 2.06-2.06.94zm10 10l.94 2.06.94-2.06 2.06-.94-2.06-.94-.94-2.06-.94 2.06-2.06.94z\"/><path d=\"M17.41 7.96l-1.37-1.37c-.4-.4-.92-.59-1.43-.59-.52 0-1.04.2-1.43.59L10.3 9.45l-7.72 7.72c-.78.78-.78 2.05 0 2.83L4 21.41c.39.39.9.59 1.41.59.51 0 1.02-.2 1.41-.59l7.78-7.78 2.81-2.81c.8-.78.8-2.07 0-2.86zM5.41 20L4 18.59l7.72-7.72 1.47 1.35L5.41 20z\"/>\n",
              "  </svg>\n",
              "      </button>\n",
              "      \n",
              "  <style>\n",
              "    .colab-df-container {\n",
              "      display:flex;\n",
              "      flex-wrap:wrap;\n",
              "      gap: 12px;\n",
              "    }\n",
              "\n",
              "    .colab-df-convert {\n",
              "      background-color: #E8F0FE;\n",
              "      border: none;\n",
              "      border-radius: 50%;\n",
              "      cursor: pointer;\n",
              "      display: none;\n",
              "      fill: #1967D2;\n",
              "      height: 32px;\n",
              "      padding: 0 0 0 0;\n",
              "      width: 32px;\n",
              "    }\n",
              "\n",
              "    .colab-df-convert:hover {\n",
              "      background-color: #E2EBFA;\n",
              "      box-shadow: 0px 1px 2px rgba(60, 64, 67, 0.3), 0px 1px 3px 1px rgba(60, 64, 67, 0.15);\n",
              "      fill: #174EA6;\n",
              "    }\n",
              "\n",
              "    [theme=dark] .colab-df-convert {\n",
              "      background-color: #3B4455;\n",
              "      fill: #D2E3FC;\n",
              "    }\n",
              "\n",
              "    [theme=dark] .colab-df-convert:hover {\n",
              "      background-color: #434B5C;\n",
              "      box-shadow: 0px 1px 3px 1px rgba(0, 0, 0, 0.15);\n",
              "      filter: drop-shadow(0px 1px 2px rgba(0, 0, 0, 0.3));\n",
              "      fill: #FFFFFF;\n",
              "    }\n",
              "  </style>\n",
              "\n",
              "      <script>\n",
              "        const buttonEl =\n",
              "          document.querySelector('#df-a1fa833b-4da9-42fe-bb0c-704f63131573 button.colab-df-convert');\n",
              "        buttonEl.style.display =\n",
              "          google.colab.kernel.accessAllowed ? 'block' : 'none';\n",
              "\n",
              "        async function convertToInteractive(key) {\n",
              "          const element = document.querySelector('#df-a1fa833b-4da9-42fe-bb0c-704f63131573');\n",
              "          const dataTable =\n",
              "            await google.colab.kernel.invokeFunction('convertToInteractive',\n",
              "                                                     [key], {});\n",
              "          if (!dataTable) return;\n",
              "\n",
              "          const docLinkHtml = 'Like what you see? Visit the ' +\n",
              "            '<a target=\"_blank\" href=https://colab.research.google.com/notebooks/data_table.ipynb>data table notebook</a>'\n",
              "            + ' to learn more about interactive tables.';\n",
              "          element.innerHTML = '';\n",
              "          dataTable['output_type'] = 'display_data';\n",
              "          await google.colab.output.renderOutput(dataTable, element);\n",
              "          const docLink = document.createElement('div');\n",
              "          docLink.innerHTML = docLinkHtml;\n",
              "          element.appendChild(docLink);\n",
              "        }\n",
              "      </script>\n",
              "    </div>\n",
              "  </div>\n",
              "  "
            ]
          },
          "metadata": {},
          "execution_count": 70
        }
      ]
    },
    {
      "cell_type": "markdown",
      "source": [
        "#####ABT"
      ],
      "metadata": {
        "id": "uav4FpyYzQM8"
      }
    },
    {
      "cell_type": "code",
      "source": [
        "ret_mensuales_ABT = pd.DataFrame(ret_diarios_ABT*21)\n",
        "ret_mensuales_ABT = ret_mensuales_ABT.rename(columns={'Adj Close':'Retorno Mensual ABT'})\n",
        "ret_mensuales_ABT"
      ],
      "metadata": {
        "colab": {
          "base_uri": "https://localhost:8080/",
          "height": 455
        },
        "id": "CN1_kLJhvye_",
        "outputId": "caa621e4-8c2a-4f06-9eb3-1f9ec660854c"
      },
      "execution_count": 71,
      "outputs": [
        {
          "output_type": "execute_result",
          "data": {
            "text/plain": [
              "            Retorno Diario ABT\n",
              "Date                          \n",
              "2021-01-05            0.258235\n",
              "2021-01-06           -0.043770\n",
              "2021-01-07            0.202865\n",
              "2021-01-08            0.058405\n",
              "2021-01-11           -0.145380\n",
              "...                        ...\n",
              "2022-12-23            0.029138\n",
              "2022-12-27            0.075571\n",
              "2022-12-28           -0.143623\n",
              "2022-12-29            0.477511\n",
              "2022-12-30           -0.099227\n",
              "\n",
              "[502 rows x 1 columns]"
            ],
            "text/html": [
              "\n",
              "  <div id=\"df-03a5aaab-7943-438d-9723-88efe3e7ed16\">\n",
              "    <div class=\"colab-df-container\">\n",
              "      <div>\n",
              "<style scoped>\n",
              "    .dataframe tbody tr th:only-of-type {\n",
              "        vertical-align: middle;\n",
              "    }\n",
              "\n",
              "    .dataframe tbody tr th {\n",
              "        vertical-align: top;\n",
              "    }\n",
              "\n",
              "    .dataframe thead th {\n",
              "        text-align: right;\n",
              "    }\n",
              "</style>\n",
              "<table border=\"1\" class=\"dataframe\">\n",
              "  <thead>\n",
              "    <tr style=\"text-align: right;\">\n",
              "      <th></th>\n",
              "      <th>Retorno Diario ABT</th>\n",
              "    </tr>\n",
              "    <tr>\n",
              "      <th>Date</th>\n",
              "      <th></th>\n",
              "    </tr>\n",
              "  </thead>\n",
              "  <tbody>\n",
              "    <tr>\n",
              "      <th>2021-01-05</th>\n",
              "      <td>0.258235</td>\n",
              "    </tr>\n",
              "    <tr>\n",
              "      <th>2021-01-06</th>\n",
              "      <td>-0.043770</td>\n",
              "    </tr>\n",
              "    <tr>\n",
              "      <th>2021-01-07</th>\n",
              "      <td>0.202865</td>\n",
              "    </tr>\n",
              "    <tr>\n",
              "      <th>2021-01-08</th>\n",
              "      <td>0.058405</td>\n",
              "    </tr>\n",
              "    <tr>\n",
              "      <th>2021-01-11</th>\n",
              "      <td>-0.145380</td>\n",
              "    </tr>\n",
              "    <tr>\n",
              "      <th>...</th>\n",
              "      <td>...</td>\n",
              "    </tr>\n",
              "    <tr>\n",
              "      <th>2022-12-23</th>\n",
              "      <td>0.029138</td>\n",
              "    </tr>\n",
              "    <tr>\n",
              "      <th>2022-12-27</th>\n",
              "      <td>0.075571</td>\n",
              "    </tr>\n",
              "    <tr>\n",
              "      <th>2022-12-28</th>\n",
              "      <td>-0.143623</td>\n",
              "    </tr>\n",
              "    <tr>\n",
              "      <th>2022-12-29</th>\n",
              "      <td>0.477511</td>\n",
              "    </tr>\n",
              "    <tr>\n",
              "      <th>2022-12-30</th>\n",
              "      <td>-0.099227</td>\n",
              "    </tr>\n",
              "  </tbody>\n",
              "</table>\n",
              "<p>502 rows × 1 columns</p>\n",
              "</div>\n",
              "      <button class=\"colab-df-convert\" onclick=\"convertToInteractive('df-03a5aaab-7943-438d-9723-88efe3e7ed16')\"\n",
              "              title=\"Convert this dataframe to an interactive table.\"\n",
              "              style=\"display:none;\">\n",
              "        \n",
              "  <svg xmlns=\"http://www.w3.org/2000/svg\" height=\"24px\"viewBox=\"0 0 24 24\"\n",
              "       width=\"24px\">\n",
              "    <path d=\"M0 0h24v24H0V0z\" fill=\"none\"/>\n",
              "    <path d=\"M18.56 5.44l.94 2.06.94-2.06 2.06-.94-2.06-.94-.94-2.06-.94 2.06-2.06.94zm-11 1L8.5 8.5l.94-2.06 2.06-.94-2.06-.94L8.5 2.5l-.94 2.06-2.06.94zm10 10l.94 2.06.94-2.06 2.06-.94-2.06-.94-.94-2.06-.94 2.06-2.06.94z\"/><path d=\"M17.41 7.96l-1.37-1.37c-.4-.4-.92-.59-1.43-.59-.52 0-1.04.2-1.43.59L10.3 9.45l-7.72 7.72c-.78.78-.78 2.05 0 2.83L4 21.41c.39.39.9.59 1.41.59.51 0 1.02-.2 1.41-.59l7.78-7.78 2.81-2.81c.8-.78.8-2.07 0-2.86zM5.41 20L4 18.59l7.72-7.72 1.47 1.35L5.41 20z\"/>\n",
              "  </svg>\n",
              "      </button>\n",
              "      \n",
              "  <style>\n",
              "    .colab-df-container {\n",
              "      display:flex;\n",
              "      flex-wrap:wrap;\n",
              "      gap: 12px;\n",
              "    }\n",
              "\n",
              "    .colab-df-convert {\n",
              "      background-color: #E8F0FE;\n",
              "      border: none;\n",
              "      border-radius: 50%;\n",
              "      cursor: pointer;\n",
              "      display: none;\n",
              "      fill: #1967D2;\n",
              "      height: 32px;\n",
              "      padding: 0 0 0 0;\n",
              "      width: 32px;\n",
              "    }\n",
              "\n",
              "    .colab-df-convert:hover {\n",
              "      background-color: #E2EBFA;\n",
              "      box-shadow: 0px 1px 2px rgba(60, 64, 67, 0.3), 0px 1px 3px 1px rgba(60, 64, 67, 0.15);\n",
              "      fill: #174EA6;\n",
              "    }\n",
              "\n",
              "    [theme=dark] .colab-df-convert {\n",
              "      background-color: #3B4455;\n",
              "      fill: #D2E3FC;\n",
              "    }\n",
              "\n",
              "    [theme=dark] .colab-df-convert:hover {\n",
              "      background-color: #434B5C;\n",
              "      box-shadow: 0px 1px 3px 1px rgba(0, 0, 0, 0.15);\n",
              "      filter: drop-shadow(0px 1px 2px rgba(0, 0, 0, 0.3));\n",
              "      fill: #FFFFFF;\n",
              "    }\n",
              "  </style>\n",
              "\n",
              "      <script>\n",
              "        const buttonEl =\n",
              "          document.querySelector('#df-03a5aaab-7943-438d-9723-88efe3e7ed16 button.colab-df-convert');\n",
              "        buttonEl.style.display =\n",
              "          google.colab.kernel.accessAllowed ? 'block' : 'none';\n",
              "\n",
              "        async function convertToInteractive(key) {\n",
              "          const element = document.querySelector('#df-03a5aaab-7943-438d-9723-88efe3e7ed16');\n",
              "          const dataTable =\n",
              "            await google.colab.kernel.invokeFunction('convertToInteractive',\n",
              "                                                     [key], {});\n",
              "          if (!dataTable) return;\n",
              "\n",
              "          const docLinkHtml = 'Like what you see? Visit the ' +\n",
              "            '<a target=\"_blank\" href=https://colab.research.google.com/notebooks/data_table.ipynb>data table notebook</a>'\n",
              "            + ' to learn more about interactive tables.';\n",
              "          element.innerHTML = '';\n",
              "          dataTable['output_type'] = 'display_data';\n",
              "          await google.colab.output.renderOutput(dataTable, element);\n",
              "          const docLink = document.createElement('div');\n",
              "          docLink.innerHTML = docLinkHtml;\n",
              "          element.appendChild(docLink);\n",
              "        }\n",
              "      </script>\n",
              "    </div>\n",
              "  </div>\n",
              "  "
            ]
          },
          "metadata": {},
          "execution_count": 71
        }
      ]
    },
    {
      "cell_type": "markdown",
      "source": [
        "#####Anualizados"
      ],
      "metadata": {
        "id": "b7CXWZ9Ta2JP"
      }
    },
    {
      "cell_type": "markdown",
      "source": [
        "#####RTX"
      ],
      "metadata": {
        "id": "4vrUNK9dzRY6"
      }
    },
    {
      "cell_type": "code",
      "source": [
        "ret_anuales_RTX = pd.DataFrame(ret_diarios_RTX*252)\n",
        "ret_anuales_RTX = ret_anuales_RTX.rename(columns={'Adj Close':'Retorno Anual RTX'})\n",
        "ret_anuales_RTX"
      ],
      "metadata": {
        "colab": {
          "base_uri": "https://localhost:8080/",
          "height": 455
        },
        "id": "Nsagpeo2v6Ky",
        "outputId": "d26330e4-402e-4203-b382-e4ccb007a61f"
      },
      "execution_count": 72,
      "outputs": [
        {
          "output_type": "execute_result",
          "data": {
            "text/plain": [
              "            Retorno Diario RTX\n",
              "Date                          \n",
              "2021-01-05            3.619674\n",
              "2021-01-06            3.102684\n",
              "2021-01-07           -1.799229\n",
              "2021-01-08            0.288682\n",
              "2021-01-11           -0.216430\n",
              "...                        ...\n",
              "2022-12-23            2.012854\n",
              "2022-12-27            0.911945\n",
              "2022-12-28           -1.318324\n",
              "2022-12-29            3.006810\n",
              "2022-12-30            1.477560\n",
              "\n",
              "[502 rows x 1 columns]"
            ],
            "text/html": [
              "\n",
              "  <div id=\"df-057d151c-039d-4b37-a6c6-d5a048448d4d\">\n",
              "    <div class=\"colab-df-container\">\n",
              "      <div>\n",
              "<style scoped>\n",
              "    .dataframe tbody tr th:only-of-type {\n",
              "        vertical-align: middle;\n",
              "    }\n",
              "\n",
              "    .dataframe tbody tr th {\n",
              "        vertical-align: top;\n",
              "    }\n",
              "\n",
              "    .dataframe thead th {\n",
              "        text-align: right;\n",
              "    }\n",
              "</style>\n",
              "<table border=\"1\" class=\"dataframe\">\n",
              "  <thead>\n",
              "    <tr style=\"text-align: right;\">\n",
              "      <th></th>\n",
              "      <th>Retorno Diario RTX</th>\n",
              "    </tr>\n",
              "    <tr>\n",
              "      <th>Date</th>\n",
              "      <th></th>\n",
              "    </tr>\n",
              "  </thead>\n",
              "  <tbody>\n",
              "    <tr>\n",
              "      <th>2021-01-05</th>\n",
              "      <td>3.619674</td>\n",
              "    </tr>\n",
              "    <tr>\n",
              "      <th>2021-01-06</th>\n",
              "      <td>3.102684</td>\n",
              "    </tr>\n",
              "    <tr>\n",
              "      <th>2021-01-07</th>\n",
              "      <td>-1.799229</td>\n",
              "    </tr>\n",
              "    <tr>\n",
              "      <th>2021-01-08</th>\n",
              "      <td>0.288682</td>\n",
              "    </tr>\n",
              "    <tr>\n",
              "      <th>2021-01-11</th>\n",
              "      <td>-0.216430</td>\n",
              "    </tr>\n",
              "    <tr>\n",
              "      <th>...</th>\n",
              "      <td>...</td>\n",
              "    </tr>\n",
              "    <tr>\n",
              "      <th>2022-12-23</th>\n",
              "      <td>2.012854</td>\n",
              "    </tr>\n",
              "    <tr>\n",
              "      <th>2022-12-27</th>\n",
              "      <td>0.911945</td>\n",
              "    </tr>\n",
              "    <tr>\n",
              "      <th>2022-12-28</th>\n",
              "      <td>-1.318324</td>\n",
              "    </tr>\n",
              "    <tr>\n",
              "      <th>2022-12-29</th>\n",
              "      <td>3.006810</td>\n",
              "    </tr>\n",
              "    <tr>\n",
              "      <th>2022-12-30</th>\n",
              "      <td>1.477560</td>\n",
              "    </tr>\n",
              "  </tbody>\n",
              "</table>\n",
              "<p>502 rows × 1 columns</p>\n",
              "</div>\n",
              "      <button class=\"colab-df-convert\" onclick=\"convertToInteractive('df-057d151c-039d-4b37-a6c6-d5a048448d4d')\"\n",
              "              title=\"Convert this dataframe to an interactive table.\"\n",
              "              style=\"display:none;\">\n",
              "        \n",
              "  <svg xmlns=\"http://www.w3.org/2000/svg\" height=\"24px\"viewBox=\"0 0 24 24\"\n",
              "       width=\"24px\">\n",
              "    <path d=\"M0 0h24v24H0V0z\" fill=\"none\"/>\n",
              "    <path d=\"M18.56 5.44l.94 2.06.94-2.06 2.06-.94-2.06-.94-.94-2.06-.94 2.06-2.06.94zm-11 1L8.5 8.5l.94-2.06 2.06-.94-2.06-.94L8.5 2.5l-.94 2.06-2.06.94zm10 10l.94 2.06.94-2.06 2.06-.94-2.06-.94-.94-2.06-.94 2.06-2.06.94z\"/><path d=\"M17.41 7.96l-1.37-1.37c-.4-.4-.92-.59-1.43-.59-.52 0-1.04.2-1.43.59L10.3 9.45l-7.72 7.72c-.78.78-.78 2.05 0 2.83L4 21.41c.39.39.9.59 1.41.59.51 0 1.02-.2 1.41-.59l7.78-7.78 2.81-2.81c.8-.78.8-2.07 0-2.86zM5.41 20L4 18.59l7.72-7.72 1.47 1.35L5.41 20z\"/>\n",
              "  </svg>\n",
              "      </button>\n",
              "      \n",
              "  <style>\n",
              "    .colab-df-container {\n",
              "      display:flex;\n",
              "      flex-wrap:wrap;\n",
              "      gap: 12px;\n",
              "    }\n",
              "\n",
              "    .colab-df-convert {\n",
              "      background-color: #E8F0FE;\n",
              "      border: none;\n",
              "      border-radius: 50%;\n",
              "      cursor: pointer;\n",
              "      display: none;\n",
              "      fill: #1967D2;\n",
              "      height: 32px;\n",
              "      padding: 0 0 0 0;\n",
              "      width: 32px;\n",
              "    }\n",
              "\n",
              "    .colab-df-convert:hover {\n",
              "      background-color: #E2EBFA;\n",
              "      box-shadow: 0px 1px 2px rgba(60, 64, 67, 0.3), 0px 1px 3px 1px rgba(60, 64, 67, 0.15);\n",
              "      fill: #174EA6;\n",
              "    }\n",
              "\n",
              "    [theme=dark] .colab-df-convert {\n",
              "      background-color: #3B4455;\n",
              "      fill: #D2E3FC;\n",
              "    }\n",
              "\n",
              "    [theme=dark] .colab-df-convert:hover {\n",
              "      background-color: #434B5C;\n",
              "      box-shadow: 0px 1px 3px 1px rgba(0, 0, 0, 0.15);\n",
              "      filter: drop-shadow(0px 1px 2px rgba(0, 0, 0, 0.3));\n",
              "      fill: #FFFFFF;\n",
              "    }\n",
              "  </style>\n",
              "\n",
              "      <script>\n",
              "        const buttonEl =\n",
              "          document.querySelector('#df-057d151c-039d-4b37-a6c6-d5a048448d4d button.colab-df-convert');\n",
              "        buttonEl.style.display =\n",
              "          google.colab.kernel.accessAllowed ? 'block' : 'none';\n",
              "\n",
              "        async function convertToInteractive(key) {\n",
              "          const element = document.querySelector('#df-057d151c-039d-4b37-a6c6-d5a048448d4d');\n",
              "          const dataTable =\n",
              "            await google.colab.kernel.invokeFunction('convertToInteractive',\n",
              "                                                     [key], {});\n",
              "          if (!dataTable) return;\n",
              "\n",
              "          const docLinkHtml = 'Like what you see? Visit the ' +\n",
              "            '<a target=\"_blank\" href=https://colab.research.google.com/notebooks/data_table.ipynb>data table notebook</a>'\n",
              "            + ' to learn more about interactive tables.';\n",
              "          element.innerHTML = '';\n",
              "          dataTable['output_type'] = 'display_data';\n",
              "          await google.colab.output.renderOutput(dataTable, element);\n",
              "          const docLink = document.createElement('div');\n",
              "          docLink.innerHTML = docLinkHtml;\n",
              "          element.appendChild(docLink);\n",
              "        }\n",
              "      </script>\n",
              "    </div>\n",
              "  </div>\n",
              "  "
            ]
          },
          "metadata": {},
          "execution_count": 72
        }
      ]
    },
    {
      "cell_type": "markdown",
      "source": [
        "#####ABT"
      ],
      "metadata": {
        "id": "1d5ELhDBzVRI"
      }
    },
    {
      "cell_type": "code",
      "source": [
        "ret_anuales_ABT = pd.DataFrame(ret_diarios_ABT*252)\n",
        "ret_anuales_ABT = ret_anuales_ABT.rename(columns={'Adj Close':'Retorno Anual ABT'})\n",
        "ret_anuales_ABT"
      ],
      "metadata": {
        "colab": {
          "base_uri": "https://localhost:8080/",
          "height": 455
        },
        "id": "JKBYa5HDv580",
        "outputId": "bc466fb6-3877-405c-9c35-c23533dac5ed"
      },
      "execution_count": 73,
      "outputs": [
        {
          "output_type": "execute_result",
          "data": {
            "text/plain": [
              "            Retorno Diario ABT\n",
              "Date                          \n",
              "2021-01-05            3.098814\n",
              "2021-01-06           -0.525242\n",
              "2021-01-07            2.434386\n",
              "2021-01-08            0.700856\n",
              "2021-01-11           -1.744555\n",
              "...                        ...\n",
              "2022-12-23            0.349657\n",
              "2022-12-27            0.906858\n",
              "2022-12-28           -1.723480\n",
              "2022-12-29            5.730138\n",
              "2022-12-30           -1.190730\n",
              "\n",
              "[502 rows x 1 columns]"
            ],
            "text/html": [
              "\n",
              "  <div id=\"df-9148fa19-1a2b-404e-a6d3-24df659de9a4\">\n",
              "    <div class=\"colab-df-container\">\n",
              "      <div>\n",
              "<style scoped>\n",
              "    .dataframe tbody tr th:only-of-type {\n",
              "        vertical-align: middle;\n",
              "    }\n",
              "\n",
              "    .dataframe tbody tr th {\n",
              "        vertical-align: top;\n",
              "    }\n",
              "\n",
              "    .dataframe thead th {\n",
              "        text-align: right;\n",
              "    }\n",
              "</style>\n",
              "<table border=\"1\" class=\"dataframe\">\n",
              "  <thead>\n",
              "    <tr style=\"text-align: right;\">\n",
              "      <th></th>\n",
              "      <th>Retorno Diario ABT</th>\n",
              "    </tr>\n",
              "    <tr>\n",
              "      <th>Date</th>\n",
              "      <th></th>\n",
              "    </tr>\n",
              "  </thead>\n",
              "  <tbody>\n",
              "    <tr>\n",
              "      <th>2021-01-05</th>\n",
              "      <td>3.098814</td>\n",
              "    </tr>\n",
              "    <tr>\n",
              "      <th>2021-01-06</th>\n",
              "      <td>-0.525242</td>\n",
              "    </tr>\n",
              "    <tr>\n",
              "      <th>2021-01-07</th>\n",
              "      <td>2.434386</td>\n",
              "    </tr>\n",
              "    <tr>\n",
              "      <th>2021-01-08</th>\n",
              "      <td>0.700856</td>\n",
              "    </tr>\n",
              "    <tr>\n",
              "      <th>2021-01-11</th>\n",
              "      <td>-1.744555</td>\n",
              "    </tr>\n",
              "    <tr>\n",
              "      <th>...</th>\n",
              "      <td>...</td>\n",
              "    </tr>\n",
              "    <tr>\n",
              "      <th>2022-12-23</th>\n",
              "      <td>0.349657</td>\n",
              "    </tr>\n",
              "    <tr>\n",
              "      <th>2022-12-27</th>\n",
              "      <td>0.906858</td>\n",
              "    </tr>\n",
              "    <tr>\n",
              "      <th>2022-12-28</th>\n",
              "      <td>-1.723480</td>\n",
              "    </tr>\n",
              "    <tr>\n",
              "      <th>2022-12-29</th>\n",
              "      <td>5.730138</td>\n",
              "    </tr>\n",
              "    <tr>\n",
              "      <th>2022-12-30</th>\n",
              "      <td>-1.190730</td>\n",
              "    </tr>\n",
              "  </tbody>\n",
              "</table>\n",
              "<p>502 rows × 1 columns</p>\n",
              "</div>\n",
              "      <button class=\"colab-df-convert\" onclick=\"convertToInteractive('df-9148fa19-1a2b-404e-a6d3-24df659de9a4')\"\n",
              "              title=\"Convert this dataframe to an interactive table.\"\n",
              "              style=\"display:none;\">\n",
              "        \n",
              "  <svg xmlns=\"http://www.w3.org/2000/svg\" height=\"24px\"viewBox=\"0 0 24 24\"\n",
              "       width=\"24px\">\n",
              "    <path d=\"M0 0h24v24H0V0z\" fill=\"none\"/>\n",
              "    <path d=\"M18.56 5.44l.94 2.06.94-2.06 2.06-.94-2.06-.94-.94-2.06-.94 2.06-2.06.94zm-11 1L8.5 8.5l.94-2.06 2.06-.94-2.06-.94L8.5 2.5l-.94 2.06-2.06.94zm10 10l.94 2.06.94-2.06 2.06-.94-2.06-.94-.94-2.06-.94 2.06-2.06.94z\"/><path d=\"M17.41 7.96l-1.37-1.37c-.4-.4-.92-.59-1.43-.59-.52 0-1.04.2-1.43.59L10.3 9.45l-7.72 7.72c-.78.78-.78 2.05 0 2.83L4 21.41c.39.39.9.59 1.41.59.51 0 1.02-.2 1.41-.59l7.78-7.78 2.81-2.81c.8-.78.8-2.07 0-2.86zM5.41 20L4 18.59l7.72-7.72 1.47 1.35L5.41 20z\"/>\n",
              "  </svg>\n",
              "      </button>\n",
              "      \n",
              "  <style>\n",
              "    .colab-df-container {\n",
              "      display:flex;\n",
              "      flex-wrap:wrap;\n",
              "      gap: 12px;\n",
              "    }\n",
              "\n",
              "    .colab-df-convert {\n",
              "      background-color: #E8F0FE;\n",
              "      border: none;\n",
              "      border-radius: 50%;\n",
              "      cursor: pointer;\n",
              "      display: none;\n",
              "      fill: #1967D2;\n",
              "      height: 32px;\n",
              "      padding: 0 0 0 0;\n",
              "      width: 32px;\n",
              "    }\n",
              "\n",
              "    .colab-df-convert:hover {\n",
              "      background-color: #E2EBFA;\n",
              "      box-shadow: 0px 1px 2px rgba(60, 64, 67, 0.3), 0px 1px 3px 1px rgba(60, 64, 67, 0.15);\n",
              "      fill: #174EA6;\n",
              "    }\n",
              "\n",
              "    [theme=dark] .colab-df-convert {\n",
              "      background-color: #3B4455;\n",
              "      fill: #D2E3FC;\n",
              "    }\n",
              "\n",
              "    [theme=dark] .colab-df-convert:hover {\n",
              "      background-color: #434B5C;\n",
              "      box-shadow: 0px 1px 3px 1px rgba(0, 0, 0, 0.15);\n",
              "      filter: drop-shadow(0px 1px 2px rgba(0, 0, 0, 0.3));\n",
              "      fill: #FFFFFF;\n",
              "    }\n",
              "  </style>\n",
              "\n",
              "      <script>\n",
              "        const buttonEl =\n",
              "          document.querySelector('#df-9148fa19-1a2b-404e-a6d3-24df659de9a4 button.colab-df-convert');\n",
              "        buttonEl.style.display =\n",
              "          google.colab.kernel.accessAllowed ? 'block' : 'none';\n",
              "\n",
              "        async function convertToInteractive(key) {\n",
              "          const element = document.querySelector('#df-9148fa19-1a2b-404e-a6d3-24df659de9a4');\n",
              "          const dataTable =\n",
              "            await google.colab.kernel.invokeFunction('convertToInteractive',\n",
              "                                                     [key], {});\n",
              "          if (!dataTable) return;\n",
              "\n",
              "          const docLinkHtml = 'Like what you see? Visit the ' +\n",
              "            '<a target=\"_blank\" href=https://colab.research.google.com/notebooks/data_table.ipynb>data table notebook</a>'\n",
              "            + ' to learn more about interactive tables.';\n",
              "          element.innerHTML = '';\n",
              "          dataTable['output_type'] = 'display_data';\n",
              "          await google.colab.output.renderOutput(dataTable, element);\n",
              "          const docLink = document.createElement('div');\n",
              "          docLink.innerHTML = docLinkHtml;\n",
              "          element.appendChild(docLink);\n",
              "        }\n",
              "      </script>\n",
              "    </div>\n",
              "  </div>\n",
              "  "
            ]
          },
          "metadata": {},
          "execution_count": 73
        }
      ]
    },
    {
      "cell_type": "markdown",
      "source": [
        "#####Tabla de Retornos"
      ],
      "metadata": {
        "id": "Vk7iWuusa6sK"
      }
    },
    {
      "cell_type": "code",
      "source": [
        "ret_diarios_RTX_Tabla = ret_diarios_RTX.rename(columns={'Adj Close':'Retorno Diario RTX'})\n",
        "ret_diarios_RTX_Tabla[\"Retorno Diario ABT\"] = ret_diarios_ABT\n",
        "ret_diarios_RTX_Tabla[\"Retorno Mensual RTX\"] = ret_mensuales_RTX\n",
        "ret_diarios_RTX_Tabla[\"Retorno Mensual ABT\"] = ret_mensuales_ABT\n",
        "ret_diarios_RTX_Tabla[\"Retorno Anual RTX\"] = ret_anuales_RTX\n",
        "ret_diarios_RTX_Tabla[\"Retorno Anual ABT\"] = ret_anuales_ABT"
      ],
      "metadata": {
        "id": "Fe1XDr9ku8SX"
      },
      "execution_count": 74,
      "outputs": []
    },
    {
      "cell_type": "markdown",
      "source": [
        "En la siguiente tabla encontramos el resumen de los retornos diarios, mensuales y anuales de la accion de Raytheon Technologies (RTX) y Abbott Laboratories (ABT)"
      ],
      "metadata": {
        "id": "3SOuVL-aLSi_"
      }
    },
    {
      "cell_type": "code",
      "source": [
        "Tabla_Retornos = ret_diarios_RTX_Tabla\n",
        "Tabla_Retornos"
      ],
      "metadata": {
        "colab": {
          "base_uri": "https://localhost:8080/",
          "height": 455
        },
        "id": "V83u92mRy9sl",
        "outputId": "1fef5956-9fb4-4235-8eea-28b9ccfa98f8"
      },
      "execution_count": 75,
      "outputs": [
        {
          "output_type": "execute_result",
          "data": {
            "text/plain": [
              "            Retorno Diario RTX  Retorno Diario ABT  Retorno Mensual RTX  \\\n",
              "Date                                                                      \n",
              "2021-01-05            0.014364            0.012297             0.301640   \n",
              "2021-01-06            0.012312           -0.002084             0.258557   \n",
              "2021-01-07           -0.007140            0.009660            -0.149936   \n",
              "2021-01-08            0.001146            0.002781             0.024057   \n",
              "2021-01-11           -0.000859           -0.006923            -0.018036   \n",
              "...                        ...                 ...                  ...   \n",
              "2022-12-23            0.007988            0.001388             0.167738   \n",
              "2022-12-27            0.003619            0.003599             0.075995   \n",
              "2022-12-28           -0.005231           -0.006839            -0.109860   \n",
              "2022-12-29            0.011932            0.022739             0.250567   \n",
              "2022-12-30            0.005863           -0.004725             0.123130   \n",
              "\n",
              "            Retorno Mensual ABT  Retorno Anual RTX  Retorno Anual ABT  \n",
              "Date                                                                   \n",
              "2021-01-05             0.258235           3.619674           3.098814  \n",
              "2021-01-06            -0.043770           3.102684          -0.525242  \n",
              "2021-01-07             0.202865          -1.799229           2.434386  \n",
              "2021-01-08             0.058405           0.288682           0.700856  \n",
              "2021-01-11            -0.145380          -0.216430          -1.744555  \n",
              "...                         ...                ...                ...  \n",
              "2022-12-23             0.029138           2.012854           0.349657  \n",
              "2022-12-27             0.075571           0.911945           0.906858  \n",
              "2022-12-28            -0.143623          -1.318324          -1.723480  \n",
              "2022-12-29             0.477511           3.006810           5.730138  \n",
              "2022-12-30            -0.099227           1.477560          -1.190730  \n",
              "\n",
              "[502 rows x 6 columns]"
            ],
            "text/html": [
              "\n",
              "  <div id=\"df-368251e0-f8d5-46c4-9838-775c2be0f12b\">\n",
              "    <div class=\"colab-df-container\">\n",
              "      <div>\n",
              "<style scoped>\n",
              "    .dataframe tbody tr th:only-of-type {\n",
              "        vertical-align: middle;\n",
              "    }\n",
              "\n",
              "    .dataframe tbody tr th {\n",
              "        vertical-align: top;\n",
              "    }\n",
              "\n",
              "    .dataframe thead th {\n",
              "        text-align: right;\n",
              "    }\n",
              "</style>\n",
              "<table border=\"1\" class=\"dataframe\">\n",
              "  <thead>\n",
              "    <tr style=\"text-align: right;\">\n",
              "      <th></th>\n",
              "      <th>Retorno Diario RTX</th>\n",
              "      <th>Retorno Diario ABT</th>\n",
              "      <th>Retorno Mensual RTX</th>\n",
              "      <th>Retorno Mensual ABT</th>\n",
              "      <th>Retorno Anual RTX</th>\n",
              "      <th>Retorno Anual ABT</th>\n",
              "    </tr>\n",
              "    <tr>\n",
              "      <th>Date</th>\n",
              "      <th></th>\n",
              "      <th></th>\n",
              "      <th></th>\n",
              "      <th></th>\n",
              "      <th></th>\n",
              "      <th></th>\n",
              "    </tr>\n",
              "  </thead>\n",
              "  <tbody>\n",
              "    <tr>\n",
              "      <th>2021-01-05</th>\n",
              "      <td>0.014364</td>\n",
              "      <td>0.012297</td>\n",
              "      <td>0.301640</td>\n",
              "      <td>0.258235</td>\n",
              "      <td>3.619674</td>\n",
              "      <td>3.098814</td>\n",
              "    </tr>\n",
              "    <tr>\n",
              "      <th>2021-01-06</th>\n",
              "      <td>0.012312</td>\n",
              "      <td>-0.002084</td>\n",
              "      <td>0.258557</td>\n",
              "      <td>-0.043770</td>\n",
              "      <td>3.102684</td>\n",
              "      <td>-0.525242</td>\n",
              "    </tr>\n",
              "    <tr>\n",
              "      <th>2021-01-07</th>\n",
              "      <td>-0.007140</td>\n",
              "      <td>0.009660</td>\n",
              "      <td>-0.149936</td>\n",
              "      <td>0.202865</td>\n",
              "      <td>-1.799229</td>\n",
              "      <td>2.434386</td>\n",
              "    </tr>\n",
              "    <tr>\n",
              "      <th>2021-01-08</th>\n",
              "      <td>0.001146</td>\n",
              "      <td>0.002781</td>\n",
              "      <td>0.024057</td>\n",
              "      <td>0.058405</td>\n",
              "      <td>0.288682</td>\n",
              "      <td>0.700856</td>\n",
              "    </tr>\n",
              "    <tr>\n",
              "      <th>2021-01-11</th>\n",
              "      <td>-0.000859</td>\n",
              "      <td>-0.006923</td>\n",
              "      <td>-0.018036</td>\n",
              "      <td>-0.145380</td>\n",
              "      <td>-0.216430</td>\n",
              "      <td>-1.744555</td>\n",
              "    </tr>\n",
              "    <tr>\n",
              "      <th>...</th>\n",
              "      <td>...</td>\n",
              "      <td>...</td>\n",
              "      <td>...</td>\n",
              "      <td>...</td>\n",
              "      <td>...</td>\n",
              "      <td>...</td>\n",
              "    </tr>\n",
              "    <tr>\n",
              "      <th>2022-12-23</th>\n",
              "      <td>0.007988</td>\n",
              "      <td>0.001388</td>\n",
              "      <td>0.167738</td>\n",
              "      <td>0.029138</td>\n",
              "      <td>2.012854</td>\n",
              "      <td>0.349657</td>\n",
              "    </tr>\n",
              "    <tr>\n",
              "      <th>2022-12-27</th>\n",
              "      <td>0.003619</td>\n",
              "      <td>0.003599</td>\n",
              "      <td>0.075995</td>\n",
              "      <td>0.075571</td>\n",
              "      <td>0.911945</td>\n",
              "      <td>0.906858</td>\n",
              "    </tr>\n",
              "    <tr>\n",
              "      <th>2022-12-28</th>\n",
              "      <td>-0.005231</td>\n",
              "      <td>-0.006839</td>\n",
              "      <td>-0.109860</td>\n",
              "      <td>-0.143623</td>\n",
              "      <td>-1.318324</td>\n",
              "      <td>-1.723480</td>\n",
              "    </tr>\n",
              "    <tr>\n",
              "      <th>2022-12-29</th>\n",
              "      <td>0.011932</td>\n",
              "      <td>0.022739</td>\n",
              "      <td>0.250567</td>\n",
              "      <td>0.477511</td>\n",
              "      <td>3.006810</td>\n",
              "      <td>5.730138</td>\n",
              "    </tr>\n",
              "    <tr>\n",
              "      <th>2022-12-30</th>\n",
              "      <td>0.005863</td>\n",
              "      <td>-0.004725</td>\n",
              "      <td>0.123130</td>\n",
              "      <td>-0.099227</td>\n",
              "      <td>1.477560</td>\n",
              "      <td>-1.190730</td>\n",
              "    </tr>\n",
              "  </tbody>\n",
              "</table>\n",
              "<p>502 rows × 6 columns</p>\n",
              "</div>\n",
              "      <button class=\"colab-df-convert\" onclick=\"convertToInteractive('df-368251e0-f8d5-46c4-9838-775c2be0f12b')\"\n",
              "              title=\"Convert this dataframe to an interactive table.\"\n",
              "              style=\"display:none;\">\n",
              "        \n",
              "  <svg xmlns=\"http://www.w3.org/2000/svg\" height=\"24px\"viewBox=\"0 0 24 24\"\n",
              "       width=\"24px\">\n",
              "    <path d=\"M0 0h24v24H0V0z\" fill=\"none\"/>\n",
              "    <path d=\"M18.56 5.44l.94 2.06.94-2.06 2.06-.94-2.06-.94-.94-2.06-.94 2.06-2.06.94zm-11 1L8.5 8.5l.94-2.06 2.06-.94-2.06-.94L8.5 2.5l-.94 2.06-2.06.94zm10 10l.94 2.06.94-2.06 2.06-.94-2.06-.94-.94-2.06-.94 2.06-2.06.94z\"/><path d=\"M17.41 7.96l-1.37-1.37c-.4-.4-.92-.59-1.43-.59-.52 0-1.04.2-1.43.59L10.3 9.45l-7.72 7.72c-.78.78-.78 2.05 0 2.83L4 21.41c.39.39.9.59 1.41.59.51 0 1.02-.2 1.41-.59l7.78-7.78 2.81-2.81c.8-.78.8-2.07 0-2.86zM5.41 20L4 18.59l7.72-7.72 1.47 1.35L5.41 20z\"/>\n",
              "  </svg>\n",
              "      </button>\n",
              "      \n",
              "  <style>\n",
              "    .colab-df-container {\n",
              "      display:flex;\n",
              "      flex-wrap:wrap;\n",
              "      gap: 12px;\n",
              "    }\n",
              "\n",
              "    .colab-df-convert {\n",
              "      background-color: #E8F0FE;\n",
              "      border: none;\n",
              "      border-radius: 50%;\n",
              "      cursor: pointer;\n",
              "      display: none;\n",
              "      fill: #1967D2;\n",
              "      height: 32px;\n",
              "      padding: 0 0 0 0;\n",
              "      width: 32px;\n",
              "    }\n",
              "\n",
              "    .colab-df-convert:hover {\n",
              "      background-color: #E2EBFA;\n",
              "      box-shadow: 0px 1px 2px rgba(60, 64, 67, 0.3), 0px 1px 3px 1px rgba(60, 64, 67, 0.15);\n",
              "      fill: #174EA6;\n",
              "    }\n",
              "\n",
              "    [theme=dark] .colab-df-convert {\n",
              "      background-color: #3B4455;\n",
              "      fill: #D2E3FC;\n",
              "    }\n",
              "\n",
              "    [theme=dark] .colab-df-convert:hover {\n",
              "      background-color: #434B5C;\n",
              "      box-shadow: 0px 1px 3px 1px rgba(0, 0, 0, 0.15);\n",
              "      filter: drop-shadow(0px 1px 2px rgba(0, 0, 0, 0.3));\n",
              "      fill: #FFFFFF;\n",
              "    }\n",
              "  </style>\n",
              "\n",
              "      <script>\n",
              "        const buttonEl =\n",
              "          document.querySelector('#df-368251e0-f8d5-46c4-9838-775c2be0f12b button.colab-df-convert');\n",
              "        buttonEl.style.display =\n",
              "          google.colab.kernel.accessAllowed ? 'block' : 'none';\n",
              "\n",
              "        async function convertToInteractive(key) {\n",
              "          const element = document.querySelector('#df-368251e0-f8d5-46c4-9838-775c2be0f12b');\n",
              "          const dataTable =\n",
              "            await google.colab.kernel.invokeFunction('convertToInteractive',\n",
              "                                                     [key], {});\n",
              "          if (!dataTable) return;\n",
              "\n",
              "          const docLinkHtml = 'Like what you see? Visit the ' +\n",
              "            '<a target=\"_blank\" href=https://colab.research.google.com/notebooks/data_table.ipynb>data table notebook</a>'\n",
              "            + ' to learn more about interactive tables.';\n",
              "          element.innerHTML = '';\n",
              "          dataTable['output_type'] = 'display_data';\n",
              "          await google.colab.output.renderOutput(dataTable, element);\n",
              "          const docLink = document.createElement('div');\n",
              "          docLink.innerHTML = docLinkHtml;\n",
              "          element.appendChild(docLink);\n",
              "        }\n",
              "      </script>\n",
              "    </div>\n",
              "  </div>\n",
              "  "
            ]
          },
          "metadata": {},
          "execution_count": 75
        }
      ]
    },
    {
      "cell_type": "markdown",
      "source": [
        "#### **b.** Retornos Esperado y Volatilidades Anualizadas"
      ],
      "metadata": {
        "id": "4GXMNB9FbAfg"
      }
    },
    {
      "cell_type": "markdown",
      "source": [
        "#####Retornos Esperados Diarios, Mensuales y Anuales"
      ],
      "metadata": {
        "id": "phalMSqNzdmq"
      }
    },
    {
      "cell_type": "code",
      "source": [
        "Tabla_Retornos.mean()"
      ],
      "metadata": {
        "colab": {
          "base_uri": "https://localhost:8080/"
        },
        "id": "Gv481DVXbIIy",
        "outputId": "ec1b9bbf-e689-4cf7-fe30-f6fd7301ac31"
      },
      "execution_count": 76,
      "outputs": [
        {
          "output_type": "execute_result",
          "data": {
            "text/plain": [
              "Retorno Diario RTX     0.000868\n",
              "Retorno Diario ABT     0.000076\n",
              "Retorno Mensual RTX    0.018224\n",
              "Retorno Mensual ABT    0.001598\n",
              "Retorno Anual RTX      0.218689\n",
              "Retorno Anual ABT      0.019173\n",
              "dtype: float64"
            ]
          },
          "metadata": {},
          "execution_count": 76
        }
      ]
    },
    {
      "cell_type": "markdown",
      "source": [
        "Vemos Una gran superioridad de los retornos de la accion Raytheon Technologies (RTX) frente a los retornos de la accion Abbott Laboratories (ABT), tanto diario como mensual y anual, vemos un mayor retorno esperado en esta accion antes dicha."
      ],
      "metadata": {
        "id": "DgYGMmb6MEAr"
      }
    },
    {
      "cell_type": "markdown",
      "source": [
        "#####Volatilidades Anualizadas (Volatilidad Close-to-close: desviación estándar)"
      ],
      "metadata": {
        "id": "As64r6GRz-jQ"
      }
    },
    {
      "cell_type": "markdown",
      "source": [
        "#####Diaria (RTX)"
      ],
      "metadata": {
        "id": "yfhHaF7v1Og6"
      }
    },
    {
      "cell_type": "code",
      "source": [
        "Vol_RTX_Diaria = ret_diarios_RTX.std()\n",
        "Vol_RTX_Diaria"
      ],
      "metadata": {
        "colab": {
          "base_uri": "https://localhost:8080/"
        },
        "id": "wxEmJDK508pv",
        "outputId": "6c8d18ae-1493-40f1-d7fa-aae9579324d4"
      },
      "execution_count": 77,
      "outputs": [
        {
          "output_type": "execute_result",
          "data": {
            "text/plain": [
              "Retorno Diario RTX    0.0153\n",
              "dtype: float64"
            ]
          },
          "metadata": {},
          "execution_count": 77
        }
      ]
    },
    {
      "cell_type": "markdown",
      "source": [
        "#####Anual (RTX)"
      ],
      "metadata": {
        "id": "1G1FkA6v1UWP"
      }
    },
    {
      "cell_type": "code",
      "source": [
        "Vol_RTX_Diaria*np.sqrt(252)"
      ],
      "metadata": {
        "colab": {
          "base_uri": "https://localhost:8080/"
        },
        "id": "ZnK33_QG1WiX",
        "outputId": "989cae4d-a742-4b46-8430-50d2826e330d"
      },
      "execution_count": 78,
      "outputs": [
        {
          "output_type": "execute_result",
          "data": {
            "text/plain": [
              "Retorno Diario RTX    0.242875\n",
              "dtype: float64"
            ]
          },
          "metadata": {},
          "execution_count": 78
        }
      ]
    },
    {
      "cell_type": "markdown",
      "source": [
        "#####Diaria (ABT)"
      ],
      "metadata": {
        "id": "WF4obK2s1RQA"
      }
    },
    {
      "cell_type": "code",
      "source": [
        "Vol_ABT_Diaria = ret_diarios_ABT.std()\n",
        "Vol_ABT_Diaria"
      ],
      "metadata": {
        "colab": {
          "base_uri": "https://localhost:8080/"
        },
        "id": "LhJoeael1Hi5",
        "outputId": "017d34e6-67df-480c-802c-e77af5ea1616"
      },
      "execution_count": 79,
      "outputs": [
        {
          "output_type": "execute_result",
          "data": {
            "text/plain": [
              "Retorno Diario ABT    0.015269\n",
              "dtype: float64"
            ]
          },
          "metadata": {},
          "execution_count": 79
        }
      ]
    },
    {
      "cell_type": "markdown",
      "source": [
        "#####Anual (ABT)"
      ],
      "metadata": {
        "id": "45wCbR-s1XK3"
      }
    },
    {
      "cell_type": "code",
      "source": [
        "Vol_ABT_Diaria*np.sqrt(252)"
      ],
      "metadata": {
        "colab": {
          "base_uri": "https://localhost:8080/"
        },
        "id": "6nTWo8iJ1Zm6",
        "outputId": "75fbd063-71b5-41a3-f403-6a5b94b24b49"
      },
      "execution_count": 80,
      "outputs": [
        {
          "output_type": "execute_result",
          "data": {
            "text/plain": [
              "Retorno Diario ABT    0.242381\n",
              "dtype: float64"
            ]
          },
          "metadata": {},
          "execution_count": 80
        }
      ]
    },
    {
      "cell_type": "markdown",
      "source": [
        "La volatilidad de Raytheon Technologies (RTX) y Abbott Laboratories (ABT) es similar tanto diaria como anual. Con esto vemos que la de Raytheon Technologies (RTX) tiene un mayor retorno que Abbott Laboratories (ABT) y ambas tienen la misma volatilidad (riesgo)"
      ],
      "metadata": {
        "id": "Y_AhaOu0Mg2i"
      }
    },
    {
      "cell_type": "markdown",
      "source": [
        "#### **c.** Tabla Resumen Con las Estadisticas Descriptivas"
      ],
      "metadata": {
        "id": "WvFyYH1SbOtP"
      }
    },
    {
      "cell_type": "markdown",
      "source": [
        "#####Retornos Diarios de RTX y ABT"
      ],
      "metadata": {
        "id": "7nE_Ju0vdG5E"
      }
    },
    {
      "cell_type": "markdown",
      "source": [
        "#####Principales estadisticas descriptivas (RTX y ABT)"
      ],
      "metadata": {
        "id": "lVPC7xCqsKdQ"
      }
    },
    {
      "cell_type": "code",
      "source": [
        "Tabla_Resumen = ret_diarios_RTX.describe()\n",
        "Tabla_Resumen = Tabla_Resumen.rename(columns={'Retorno Diario RTX':'RTX'})"
      ],
      "metadata": {
        "id": "ZWRgNM9wbUA2"
      },
      "execution_count": 81,
      "outputs": []
    },
    {
      "cell_type": "code",
      "source": [
        "Tabla_Resumen['ABT'] = pd.DataFrame(ret_diarios_ABT.describe())\n",
        "Tabla_Resumen"
      ],
      "metadata": {
        "colab": {
          "base_uri": "https://localhost:8080/",
          "height": 300
        },
        "id": "up5NOS--rqh4",
        "outputId": "b09fd555-60da-4ec2-9335-2209cf3d0ef3"
      },
      "execution_count": 82,
      "outputs": [
        {
          "output_type": "execute_result",
          "data": {
            "text/plain": [
              "              RTX         ABT\n",
              "count  502.000000  502.000000\n",
              "mean     0.000868    0.000076\n",
              "std      0.015300    0.015269\n",
              "min     -0.051501   -0.097722\n",
              "25%     -0.007994   -0.007698\n",
              "50%      0.000676    0.000913\n",
              "75%      0.008595    0.009102\n",
              "max      0.048539    0.051997"
            ],
            "text/html": [
              "\n",
              "  <div id=\"df-db15be0f-99c6-4077-8d70-8fa955a67110\">\n",
              "    <div class=\"colab-df-container\">\n",
              "      <div>\n",
              "<style scoped>\n",
              "    .dataframe tbody tr th:only-of-type {\n",
              "        vertical-align: middle;\n",
              "    }\n",
              "\n",
              "    .dataframe tbody tr th {\n",
              "        vertical-align: top;\n",
              "    }\n",
              "\n",
              "    .dataframe thead th {\n",
              "        text-align: right;\n",
              "    }\n",
              "</style>\n",
              "<table border=\"1\" class=\"dataframe\">\n",
              "  <thead>\n",
              "    <tr style=\"text-align: right;\">\n",
              "      <th></th>\n",
              "      <th>RTX</th>\n",
              "      <th>ABT</th>\n",
              "    </tr>\n",
              "  </thead>\n",
              "  <tbody>\n",
              "    <tr>\n",
              "      <th>count</th>\n",
              "      <td>502.000000</td>\n",
              "      <td>502.000000</td>\n",
              "    </tr>\n",
              "    <tr>\n",
              "      <th>mean</th>\n",
              "      <td>0.000868</td>\n",
              "      <td>0.000076</td>\n",
              "    </tr>\n",
              "    <tr>\n",
              "      <th>std</th>\n",
              "      <td>0.015300</td>\n",
              "      <td>0.015269</td>\n",
              "    </tr>\n",
              "    <tr>\n",
              "      <th>min</th>\n",
              "      <td>-0.051501</td>\n",
              "      <td>-0.097722</td>\n",
              "    </tr>\n",
              "    <tr>\n",
              "      <th>25%</th>\n",
              "      <td>-0.007994</td>\n",
              "      <td>-0.007698</td>\n",
              "    </tr>\n",
              "    <tr>\n",
              "      <th>50%</th>\n",
              "      <td>0.000676</td>\n",
              "      <td>0.000913</td>\n",
              "    </tr>\n",
              "    <tr>\n",
              "      <th>75%</th>\n",
              "      <td>0.008595</td>\n",
              "      <td>0.009102</td>\n",
              "    </tr>\n",
              "    <tr>\n",
              "      <th>max</th>\n",
              "      <td>0.048539</td>\n",
              "      <td>0.051997</td>\n",
              "    </tr>\n",
              "  </tbody>\n",
              "</table>\n",
              "</div>\n",
              "      <button class=\"colab-df-convert\" onclick=\"convertToInteractive('df-db15be0f-99c6-4077-8d70-8fa955a67110')\"\n",
              "              title=\"Convert this dataframe to an interactive table.\"\n",
              "              style=\"display:none;\">\n",
              "        \n",
              "  <svg xmlns=\"http://www.w3.org/2000/svg\" height=\"24px\"viewBox=\"0 0 24 24\"\n",
              "       width=\"24px\">\n",
              "    <path d=\"M0 0h24v24H0V0z\" fill=\"none\"/>\n",
              "    <path d=\"M18.56 5.44l.94 2.06.94-2.06 2.06-.94-2.06-.94-.94-2.06-.94 2.06-2.06.94zm-11 1L8.5 8.5l.94-2.06 2.06-.94-2.06-.94L8.5 2.5l-.94 2.06-2.06.94zm10 10l.94 2.06.94-2.06 2.06-.94-2.06-.94-.94-2.06-.94 2.06-2.06.94z\"/><path d=\"M17.41 7.96l-1.37-1.37c-.4-.4-.92-.59-1.43-.59-.52 0-1.04.2-1.43.59L10.3 9.45l-7.72 7.72c-.78.78-.78 2.05 0 2.83L4 21.41c.39.39.9.59 1.41.59.51 0 1.02-.2 1.41-.59l7.78-7.78 2.81-2.81c.8-.78.8-2.07 0-2.86zM5.41 20L4 18.59l7.72-7.72 1.47 1.35L5.41 20z\"/>\n",
              "  </svg>\n",
              "      </button>\n",
              "      \n",
              "  <style>\n",
              "    .colab-df-container {\n",
              "      display:flex;\n",
              "      flex-wrap:wrap;\n",
              "      gap: 12px;\n",
              "    }\n",
              "\n",
              "    .colab-df-convert {\n",
              "      background-color: #E8F0FE;\n",
              "      border: none;\n",
              "      border-radius: 50%;\n",
              "      cursor: pointer;\n",
              "      display: none;\n",
              "      fill: #1967D2;\n",
              "      height: 32px;\n",
              "      padding: 0 0 0 0;\n",
              "      width: 32px;\n",
              "    }\n",
              "\n",
              "    .colab-df-convert:hover {\n",
              "      background-color: #E2EBFA;\n",
              "      box-shadow: 0px 1px 2px rgba(60, 64, 67, 0.3), 0px 1px 3px 1px rgba(60, 64, 67, 0.15);\n",
              "      fill: #174EA6;\n",
              "    }\n",
              "\n",
              "    [theme=dark] .colab-df-convert {\n",
              "      background-color: #3B4455;\n",
              "      fill: #D2E3FC;\n",
              "    }\n",
              "\n",
              "    [theme=dark] .colab-df-convert:hover {\n",
              "      background-color: #434B5C;\n",
              "      box-shadow: 0px 1px 3px 1px rgba(0, 0, 0, 0.15);\n",
              "      filter: drop-shadow(0px 1px 2px rgba(0, 0, 0, 0.3));\n",
              "      fill: #FFFFFF;\n",
              "    }\n",
              "  </style>\n",
              "\n",
              "      <script>\n",
              "        const buttonEl =\n",
              "          document.querySelector('#df-db15be0f-99c6-4077-8d70-8fa955a67110 button.colab-df-convert');\n",
              "        buttonEl.style.display =\n",
              "          google.colab.kernel.accessAllowed ? 'block' : 'none';\n",
              "\n",
              "        async function convertToInteractive(key) {\n",
              "          const element = document.querySelector('#df-db15be0f-99c6-4077-8d70-8fa955a67110');\n",
              "          const dataTable =\n",
              "            await google.colab.kernel.invokeFunction('convertToInteractive',\n",
              "                                                     [key], {});\n",
              "          if (!dataTable) return;\n",
              "\n",
              "          const docLinkHtml = 'Like what you see? Visit the ' +\n",
              "            '<a target=\"_blank\" href=https://colab.research.google.com/notebooks/data_table.ipynb>data table notebook</a>'\n",
              "            + ' to learn more about interactive tables.';\n",
              "          element.innerHTML = '';\n",
              "          dataTable['output_type'] = 'display_data';\n",
              "          await google.colab.output.renderOutput(dataTable, element);\n",
              "          const docLink = document.createElement('div');\n",
              "          docLink.innerHTML = docLinkHtml;\n",
              "          element.appendChild(docLink);\n",
              "        }\n",
              "      </script>\n",
              "    </div>\n",
              "  </div>\n",
              "  "
            ]
          },
          "metadata": {},
          "execution_count": 82
        }
      ]
    },
    {
      "cell_type": "markdown",
      "source": [
        "Con las estadisticas descriptivas vemos que el retorno esperado de RTX es mayor al retorno esperado de ABT, ademas logramos ver que tienen una desviación estándar (volatilidad-riesgo) es similar en las 2 acciones, ambas con un valor de 0.015 esto quiere decir que en promedio los datos se mueven en promedio 0.015 respecto a la media. Por ultimo tenemos un retorno maximo de RTX de 0.048 y de ABT de 0.051, y un retorno minimo de -0.051 para RTX y -0.097 para ABT. Tenemos 502 datos"
      ],
      "metadata": {
        "id": "zCXLa-QqN4LK"
      }
    },
    {
      "cell_type": "markdown",
      "source": [
        "#####Sesgo y Curtosis (RTX y ABT)"
      ],
      "metadata": {
        "id": "M6v4g9MIr_LP"
      }
    },
    {
      "cell_type": "markdown",
      "source": [
        "#####Curtosis"
      ],
      "metadata": {
        "id": "jsbxpkS6vmOn"
      }
    },
    {
      "cell_type": "code",
      "source": [
        "Curtosis = pd.DataFrame(ret_diarios_RTX.kurtosis())\n",
        "Curtosis.index = ['Curtosis']\n",
        "Curtosis = Curtosis.rename(columns={0:'RTX'})"
      ],
      "metadata": {
        "id": "jTqKmHseormT"
      },
      "execution_count": 83,
      "outputs": []
    },
    {
      "cell_type": "code",
      "source": [
        "Curtosis_ABT = pd.DataFrame(ret_diarios_ABT.kurtosis())\n",
        "Curtosis_ABT.index = ['Curtosis']\n",
        "Curtosis_ABT = Curtosis_ABT.rename(columns={0:'ABT'})"
      ],
      "metadata": {
        "id": "vL0180revJDO"
      },
      "execution_count": 84,
      "outputs": []
    },
    {
      "cell_type": "code",
      "source": [
        "Curtosis['ABT'] = Curtosis_ABT\n",
        "Curtosis"
      ],
      "metadata": {
        "colab": {
          "base_uri": "https://localhost:8080/",
          "height": 81
        },
        "id": "bE7EzJXptLxu",
        "outputId": "cbf08c15-be8e-49a1-e7e9-2a07973a75f9"
      },
      "execution_count": 85,
      "outputs": [
        {
          "output_type": "execute_result",
          "data": {
            "text/plain": [
              "               RTX      ABT\n",
              "Curtosis  1.098107  3.99056"
            ],
            "text/html": [
              "\n",
              "  <div id=\"df-1c4a0e7a-0bd1-4690-9cb2-234368ded1d6\">\n",
              "    <div class=\"colab-df-container\">\n",
              "      <div>\n",
              "<style scoped>\n",
              "    .dataframe tbody tr th:only-of-type {\n",
              "        vertical-align: middle;\n",
              "    }\n",
              "\n",
              "    .dataframe tbody tr th {\n",
              "        vertical-align: top;\n",
              "    }\n",
              "\n",
              "    .dataframe thead th {\n",
              "        text-align: right;\n",
              "    }\n",
              "</style>\n",
              "<table border=\"1\" class=\"dataframe\">\n",
              "  <thead>\n",
              "    <tr style=\"text-align: right;\">\n",
              "      <th></th>\n",
              "      <th>RTX</th>\n",
              "      <th>ABT</th>\n",
              "    </tr>\n",
              "  </thead>\n",
              "  <tbody>\n",
              "    <tr>\n",
              "      <th>Curtosis</th>\n",
              "      <td>1.098107</td>\n",
              "      <td>3.99056</td>\n",
              "    </tr>\n",
              "  </tbody>\n",
              "</table>\n",
              "</div>\n",
              "      <button class=\"colab-df-convert\" onclick=\"convertToInteractive('df-1c4a0e7a-0bd1-4690-9cb2-234368ded1d6')\"\n",
              "              title=\"Convert this dataframe to an interactive table.\"\n",
              "              style=\"display:none;\">\n",
              "        \n",
              "  <svg xmlns=\"http://www.w3.org/2000/svg\" height=\"24px\"viewBox=\"0 0 24 24\"\n",
              "       width=\"24px\">\n",
              "    <path d=\"M0 0h24v24H0V0z\" fill=\"none\"/>\n",
              "    <path d=\"M18.56 5.44l.94 2.06.94-2.06 2.06-.94-2.06-.94-.94-2.06-.94 2.06-2.06.94zm-11 1L8.5 8.5l.94-2.06 2.06-.94-2.06-.94L8.5 2.5l-.94 2.06-2.06.94zm10 10l.94 2.06.94-2.06 2.06-.94-2.06-.94-.94-2.06-.94 2.06-2.06.94z\"/><path d=\"M17.41 7.96l-1.37-1.37c-.4-.4-.92-.59-1.43-.59-.52 0-1.04.2-1.43.59L10.3 9.45l-7.72 7.72c-.78.78-.78 2.05 0 2.83L4 21.41c.39.39.9.59 1.41.59.51 0 1.02-.2 1.41-.59l7.78-7.78 2.81-2.81c.8-.78.8-2.07 0-2.86zM5.41 20L4 18.59l7.72-7.72 1.47 1.35L5.41 20z\"/>\n",
              "  </svg>\n",
              "      </button>\n",
              "      \n",
              "  <style>\n",
              "    .colab-df-container {\n",
              "      display:flex;\n",
              "      flex-wrap:wrap;\n",
              "      gap: 12px;\n",
              "    }\n",
              "\n",
              "    .colab-df-convert {\n",
              "      background-color: #E8F0FE;\n",
              "      border: none;\n",
              "      border-radius: 50%;\n",
              "      cursor: pointer;\n",
              "      display: none;\n",
              "      fill: #1967D2;\n",
              "      height: 32px;\n",
              "      padding: 0 0 0 0;\n",
              "      width: 32px;\n",
              "    }\n",
              "\n",
              "    .colab-df-convert:hover {\n",
              "      background-color: #E2EBFA;\n",
              "      box-shadow: 0px 1px 2px rgba(60, 64, 67, 0.3), 0px 1px 3px 1px rgba(60, 64, 67, 0.15);\n",
              "      fill: #174EA6;\n",
              "    }\n",
              "\n",
              "    [theme=dark] .colab-df-convert {\n",
              "      background-color: #3B4455;\n",
              "      fill: #D2E3FC;\n",
              "    }\n",
              "\n",
              "    [theme=dark] .colab-df-convert:hover {\n",
              "      background-color: #434B5C;\n",
              "      box-shadow: 0px 1px 3px 1px rgba(0, 0, 0, 0.15);\n",
              "      filter: drop-shadow(0px 1px 2px rgba(0, 0, 0, 0.3));\n",
              "      fill: #FFFFFF;\n",
              "    }\n",
              "  </style>\n",
              "\n",
              "      <script>\n",
              "        const buttonEl =\n",
              "          document.querySelector('#df-1c4a0e7a-0bd1-4690-9cb2-234368ded1d6 button.colab-df-convert');\n",
              "        buttonEl.style.display =\n",
              "          google.colab.kernel.accessAllowed ? 'block' : 'none';\n",
              "\n",
              "        async function convertToInteractive(key) {\n",
              "          const element = document.querySelector('#df-1c4a0e7a-0bd1-4690-9cb2-234368ded1d6');\n",
              "          const dataTable =\n",
              "            await google.colab.kernel.invokeFunction('convertToInteractive',\n",
              "                                                     [key], {});\n",
              "          if (!dataTable) return;\n",
              "\n",
              "          const docLinkHtml = 'Like what you see? Visit the ' +\n",
              "            '<a target=\"_blank\" href=https://colab.research.google.com/notebooks/data_table.ipynb>data table notebook</a>'\n",
              "            + ' to learn more about interactive tables.';\n",
              "          element.innerHTML = '';\n",
              "          dataTable['output_type'] = 'display_data';\n",
              "          await google.colab.output.renderOutput(dataTable, element);\n",
              "          const docLink = document.createElement('div');\n",
              "          docLink.innerHTML = docLinkHtml;\n",
              "          element.appendChild(docLink);\n",
              "        }\n",
              "      </script>\n",
              "    </div>\n",
              "  </div>\n",
              "  "
            ]
          },
          "metadata": {},
          "execution_count": 85
        }
      ]
    },
    {
      "cell_type": "markdown",
      "source": [
        "Como vemos ABT y RTX son leptocurticas, al tener un resultado mayor a 0, lo que quiere decir que los datos estan concentrados alrededor de la media."
      ],
      "metadata": {
        "id": "EmWqsK_CPVC-"
      }
    },
    {
      "cell_type": "markdown",
      "source": [
        "#####Sesgo"
      ],
      "metadata": {
        "id": "rKxItuSAvod0"
      }
    },
    {
      "cell_type": "code",
      "source": [
        "Sesgo = pd.DataFrame(ret_diarios_RTX.skew())\n",
        "Sesgo.index = ['Sesgo']\n",
        "Sesgo = Sesgo.rename(columns={0:'RTX'})"
      ],
      "metadata": {
        "id": "lW_hH4AMvrVy"
      },
      "execution_count": 86,
      "outputs": []
    },
    {
      "cell_type": "code",
      "source": [
        "Sesgo_ABT = pd.DataFrame(ret_diarios_ABT.skew())\n",
        "Sesgo_ABT.index = ['Sesgo']\n",
        "Sesgo_ABT = Sesgo_ABT.rename(columns={0:'ABT'})"
      ],
      "metadata": {
        "id": "NY_OJzTAv6oq"
      },
      "execution_count": 87,
      "outputs": []
    },
    {
      "cell_type": "code",
      "source": [
        "Sesgo['ABT'] = Sesgo_ABT\n",
        "Sesgo"
      ],
      "metadata": {
        "colab": {
          "base_uri": "https://localhost:8080/",
          "height": 81
        },
        "id": "g5tm0QJnwTo1",
        "outputId": "27775094-c3c9-475a-f9be-beef84110612"
      },
      "execution_count": 88,
      "outputs": [
        {
          "output_type": "execute_result",
          "data": {
            "text/plain": [
              "            RTX       ABT\n",
              "Sesgo  0.069304 -0.655611"
            ],
            "text/html": [
              "\n",
              "  <div id=\"df-d4bf74b8-e73f-4bd2-b488-8ad39e799b69\">\n",
              "    <div class=\"colab-df-container\">\n",
              "      <div>\n",
              "<style scoped>\n",
              "    .dataframe tbody tr th:only-of-type {\n",
              "        vertical-align: middle;\n",
              "    }\n",
              "\n",
              "    .dataframe tbody tr th {\n",
              "        vertical-align: top;\n",
              "    }\n",
              "\n",
              "    .dataframe thead th {\n",
              "        text-align: right;\n",
              "    }\n",
              "</style>\n",
              "<table border=\"1\" class=\"dataframe\">\n",
              "  <thead>\n",
              "    <tr style=\"text-align: right;\">\n",
              "      <th></th>\n",
              "      <th>RTX</th>\n",
              "      <th>ABT</th>\n",
              "    </tr>\n",
              "  </thead>\n",
              "  <tbody>\n",
              "    <tr>\n",
              "      <th>Sesgo</th>\n",
              "      <td>0.069304</td>\n",
              "      <td>-0.655611</td>\n",
              "    </tr>\n",
              "  </tbody>\n",
              "</table>\n",
              "</div>\n",
              "      <button class=\"colab-df-convert\" onclick=\"convertToInteractive('df-d4bf74b8-e73f-4bd2-b488-8ad39e799b69')\"\n",
              "              title=\"Convert this dataframe to an interactive table.\"\n",
              "              style=\"display:none;\">\n",
              "        \n",
              "  <svg xmlns=\"http://www.w3.org/2000/svg\" height=\"24px\"viewBox=\"0 0 24 24\"\n",
              "       width=\"24px\">\n",
              "    <path d=\"M0 0h24v24H0V0z\" fill=\"none\"/>\n",
              "    <path d=\"M18.56 5.44l.94 2.06.94-2.06 2.06-.94-2.06-.94-.94-2.06-.94 2.06-2.06.94zm-11 1L8.5 8.5l.94-2.06 2.06-.94-2.06-.94L8.5 2.5l-.94 2.06-2.06.94zm10 10l.94 2.06.94-2.06 2.06-.94-2.06-.94-.94-2.06-.94 2.06-2.06.94z\"/><path d=\"M17.41 7.96l-1.37-1.37c-.4-.4-.92-.59-1.43-.59-.52 0-1.04.2-1.43.59L10.3 9.45l-7.72 7.72c-.78.78-.78 2.05 0 2.83L4 21.41c.39.39.9.59 1.41.59.51 0 1.02-.2 1.41-.59l7.78-7.78 2.81-2.81c.8-.78.8-2.07 0-2.86zM5.41 20L4 18.59l7.72-7.72 1.47 1.35L5.41 20z\"/>\n",
              "  </svg>\n",
              "      </button>\n",
              "      \n",
              "  <style>\n",
              "    .colab-df-container {\n",
              "      display:flex;\n",
              "      flex-wrap:wrap;\n",
              "      gap: 12px;\n",
              "    }\n",
              "\n",
              "    .colab-df-convert {\n",
              "      background-color: #E8F0FE;\n",
              "      border: none;\n",
              "      border-radius: 50%;\n",
              "      cursor: pointer;\n",
              "      display: none;\n",
              "      fill: #1967D2;\n",
              "      height: 32px;\n",
              "      padding: 0 0 0 0;\n",
              "      width: 32px;\n",
              "    }\n",
              "\n",
              "    .colab-df-convert:hover {\n",
              "      background-color: #E2EBFA;\n",
              "      box-shadow: 0px 1px 2px rgba(60, 64, 67, 0.3), 0px 1px 3px 1px rgba(60, 64, 67, 0.15);\n",
              "      fill: #174EA6;\n",
              "    }\n",
              "\n",
              "    [theme=dark] .colab-df-convert {\n",
              "      background-color: #3B4455;\n",
              "      fill: #D2E3FC;\n",
              "    }\n",
              "\n",
              "    [theme=dark] .colab-df-convert:hover {\n",
              "      background-color: #434B5C;\n",
              "      box-shadow: 0px 1px 3px 1px rgba(0, 0, 0, 0.15);\n",
              "      filter: drop-shadow(0px 1px 2px rgba(0, 0, 0, 0.3));\n",
              "      fill: #FFFFFF;\n",
              "    }\n",
              "  </style>\n",
              "\n",
              "      <script>\n",
              "        const buttonEl =\n",
              "          document.querySelector('#df-d4bf74b8-e73f-4bd2-b488-8ad39e799b69 button.colab-df-convert');\n",
              "        buttonEl.style.display =\n",
              "          google.colab.kernel.accessAllowed ? 'block' : 'none';\n",
              "\n",
              "        async function convertToInteractive(key) {\n",
              "          const element = document.querySelector('#df-d4bf74b8-e73f-4bd2-b488-8ad39e799b69');\n",
              "          const dataTable =\n",
              "            await google.colab.kernel.invokeFunction('convertToInteractive',\n",
              "                                                     [key], {});\n",
              "          if (!dataTable) return;\n",
              "\n",
              "          const docLinkHtml = 'Like what you see? Visit the ' +\n",
              "            '<a target=\"_blank\" href=https://colab.research.google.com/notebooks/data_table.ipynb>data table notebook</a>'\n",
              "            + ' to learn more about interactive tables.';\n",
              "          element.innerHTML = '';\n",
              "          dataTable['output_type'] = 'display_data';\n",
              "          await google.colab.output.renderOutput(dataTable, element);\n",
              "          const docLink = document.createElement('div');\n",
              "          docLink.innerHTML = docLinkHtml;\n",
              "          element.appendChild(docLink);\n",
              "        }\n",
              "      </script>\n",
              "    </div>\n",
              "  </div>\n",
              "  "
            ]
          },
          "metadata": {},
          "execution_count": 88
        }
      ]
    },
    {
      "cell_type": "markdown",
      "source": [
        "Como vemos ABT da como resultado un sesgo negativo (Sesgo<0), lo que quiere decir que es asimetrico a la derecha, por lo que los datos de distribuyen en su mayoria a la izquierda de la media (Retornos Negativos). Por otro lado vemos RTX da como resultado un sesgo positivo (Sesgo>0), lo que quiere decir que es asimetrico a la izquierda, por lo que los datos de distribuyen en su mayoria a la derecha de la media (Retornos Positivos)."
      ],
      "metadata": {
        "id": "_lEp-R1jQQT6"
      }
    },
    {
      "cell_type": "markdown",
      "source": [
        "#### **d.** Distribuciones"
      ],
      "metadata": {
        "id": "x48nxzTAbacw"
      }
    },
    {
      "cell_type": "markdown",
      "source": [
        "#####Comparación de la Distribución de los 2 Activos (RTX y ABT)"
      ],
      "metadata": {
        "id": "S1FpvzPjE_c3"
      }
    },
    {
      "cell_type": "code",
      "source": [
        "plt.hist(ret_diarios_RTX['Retorno Diario RTX'],bins=20,density=True,histtype=\"step\");\n",
        "plt.hist(ret_diarios_ABT['Retorno Diario ABT'],bins=20,density=True,histtype=\"step\");\n",
        "plt.xlabel(\"Retornos\");\n",
        "plt.ylabel(\"Probabilidad\");"
      ],
      "metadata": {
        "colab": {
          "base_uri": "https://localhost:8080/",
          "height": 279
        },
        "id": "5LBf0mtfE-4l",
        "outputId": "56f080b1-6c33-4fbb-f1b1-e1ebe6b99d43"
      },
      "execution_count": 89,
      "outputs": [
        {
          "output_type": "display_data",
          "data": {
            "text/plain": [
              "<Figure size 432x288 with 1 Axes>"
            ],
            "image/png": "[encoded data removed]"
          },
          "metadata": {
            "needs_background": "light"
          }
        }
      ]
    },
    {
      "cell_type": "markdown",
      "source": [
        "Vemos que las 2 acciones de distribuyen de forma silimar, sin embargo los retornos diarios de ABT tienden mas hacia la izquierda del 0, teniendo grandes outlayers hacia este lado. Y por otro lado los retornos diarios de RTX tienen mas hacia la derecha del 0."
      ],
      "metadata": {
        "id": "ugYxzvWCRx8L"
      }
    },
    {
      "cell_type": "markdown",
      "source": [
        "#####Comparación de la Distribución de RTX con la Distribución Normal"
      ],
      "metadata": {
        "id": "uN8JRbTYHr46"
      }
    },
    {
      "cell_type": "code",
      "source": [
        "from scipy.stats import norm\n",
        "x = np.linspace(-0.1,0.1,num=100)\n",
        "\n",
        "plt.hist(ret_diarios_RTX['Retorno Diario RTX'],bins=20,density=True,histtype=\"step\");\n",
        "plt.plot(x,norm.pdf(x,scale=ret_diarios_RTX['Retorno Diario RTX'].std()),'k')\n",
        "plt.axvline(ret_diarios_RTX['Retorno Diario RTX'].mean(),color=\"Red\")\n",
        "plt.xlabel(\"Retornos\");\n",
        "plt.ylabel(\"Probabilidad\");"
      ],
      "metadata": {
        "colab": {
          "base_uri": "https://localhost:8080/",
          "height": 279
        },
        "id": "LQfgaeouIBNP",
        "outputId": "1d1d3e4d-4cdb-49d3-d178-bd4e9898cb5a"
      },
      "execution_count": 90,
      "outputs": [
        {
          "output_type": "display_data",
          "data": {
            "text/plain": [
              "<Figure size 432x288 with 1 Axes>"
            ],
            "image/png": "[encoded data removed]"
          },
          "metadata": {
            "needs_background": "light"
          }
        }
      ]
    },
    {
      "cell_type": "markdown",
      "source": [
        "Como vemos la dsitribucion de los retornos diarios de RTX se distribuye de manera muy similar a la distribucion normal, sin embargo no igual, ya que vemos mas tendencia de los retornos diarios de RTX hacia la derecha del 0"
      ],
      "metadata": {
        "id": "7U2Hvz20RV17"
      }
    },
    {
      "cell_type": "markdown",
      "source": [
        "#####Comparación de la Distribución de ABT con la Distribución Normal"
      ],
      "metadata": {
        "id": "91Wla0IyH0pH"
      }
    },
    {
      "cell_type": "code",
      "source": [
        "from scipy.stats import norm\n",
        "x = np.linspace(-0.1,0.1,num=100)\n",
        "\n",
        "plt.hist(ret_diarios_ABT['Retorno Diario ABT'],bins=20,density=True,histtype=\"step\");\n",
        "plt.plot(x,norm.pdf(x,scale=ret_diarios_ABT['Retorno Diario ABT'].std()),'k')\n",
        "plt.axvline(ret_diarios_ABT['Retorno Diario ABT'].mean(),color=\"Red\")\n",
        "plt.xlabel(\"Retornos\");\n",
        "plt.ylabel(\"Probabilidad\");"
      ],
      "metadata": {
        "colab": {
          "base_uri": "https://localhost:8080/",
          "height": 279
        },
        "id": "_hN1FFANE5hU",
        "outputId": "197bf5a3-41d5-480e-868e-e57d625d7ebc"
      },
      "execution_count": 91,
      "outputs": [
        {
          "output_type": "display_data",
          "data": {
            "text/plain": [
              "<Figure size 432x288 with 1 Axes>"
            ],
            "image/png": "[encoded data removed]"
          },
          "metadata": {
            "needs_background": "light"
          }
        }
      ]
    },
    {
      "cell_type": "markdown",
      "source": [
        "Como vemos la dsitribucion de los retornos diarios de ABT se distribuye de manera muy similar a la distribucion normal, sin embargo no igual, ya que vemos mas tendencia hacia la izquierza del 0"
      ],
      "metadata": {
        "id": "Q2Gw9-BnRFVw"
      }
    },
    {
      "cell_type": "markdown",
      "source": [
        "#### **e.** Correlaciones"
      ],
      "metadata": {
        "id": "U6BxHgBXbhSj"
      }
    },
    {
      "cell_type": "markdown",
      "source": [
        "#####Pearson"
      ],
      "metadata": {
        "id": "wSJ9Nl5Cbm-r"
      }
    },
    {
      "cell_type": "code",
      "source": [
        "activos_1_corr = [\"RTX\", \"ABT\"]\n",
        "precios_1_corr = yf.download(activos_1_corr,start=\"2021-01-01\",end=\"2022-12-31\",period=\"1D\")['Adj Close']\n",
        "precios_1_corr"
      ],
      "metadata": {
        "colab": {
          "base_uri": "https://localhost:8080/",
          "height": 472
        },
        "id": "Wy_jD9RukKqa",
        "outputId": "2829a3e1-e8db-4e99-df28-01a9f8eb9a1f"
      },
      "execution_count": 92,
      "outputs": [
        {
          "output_type": "stream",
          "name": "stdout",
          "text": [
            "[*********************100%***********************]  2 of 2 completed\n"
          ]
        },
        {
          "output_type": "execute_result",
          "data": {
            "text/plain": [
              "                   ABT         RTX\n",
              "Date                              \n",
              "2021-01-04  105.199547   65.280052\n",
              "2021-01-05  106.501160   66.224472\n",
              "2021-01-06  106.279411   67.044876\n",
              "2021-01-07  107.311066   66.567902\n",
              "2021-01-08  107.609962   66.644218\n",
              "...                ...         ...\n",
              "2022-12-23  107.692398   99.300003\n",
              "2022-12-27  108.080643   99.660004\n",
              "2022-12-28  107.343979   99.139999\n",
              "2022-12-29  109.812798  100.330002\n",
              "2022-12-30  109.295143  100.919998\n",
              "\n",
              "[503 rows x 2 columns]"
            ],
            "text/html": [
              "\n",
              "  <div id=\"df-76e9bff8-52e9-4be5-8cac-863f8545040c\">\n",
              "    <div class=\"colab-df-container\">\n",
              "      <div>\n",
              "<style scoped>\n",
              "    .dataframe tbody tr th:only-of-type {\n",
              "        vertical-align: middle;\n",
              "    }\n",
              "\n",
              "    .dataframe tbody tr th {\n",
              "        vertical-align: top;\n",
              "    }\n",
              "\n",
              "    .dataframe thead th {\n",
              "        text-align: right;\n",
              "    }\n",
              "</style>\n",
              "<table border=\"1\" class=\"dataframe\">\n",
              "  <thead>\n",
              "    <tr style=\"text-align: right;\">\n",
              "      <th></th>\n",
              "      <th>ABT</th>\n",
              "      <th>RTX</th>\n",
              "    </tr>\n",
              "    <tr>\n",
              "      <th>Date</th>\n",
              "      <th></th>\n",
              "      <th></th>\n",
              "    </tr>\n",
              "  </thead>\n",
              "  <tbody>\n",
              "    <tr>\n",
              "      <th>2021-01-04</th>\n",
              "      <td>105.199547</td>\n",
              "      <td>65.280052</td>\n",
              "    </tr>\n",
              "    <tr>\n",
              "      <th>2021-01-05</th>\n",
              "      <td>106.501160</td>\n",
              "      <td>66.224472</td>\n",
              "    </tr>\n",
              "    <tr>\n",
              "      <th>2021-01-06</th>\n",
              "      <td>106.279411</td>\n",
              "      <td>67.044876</td>\n",
              "    </tr>\n",
              "    <tr>\n",
              "      <th>2021-01-07</th>\n",
              "      <td>107.311066</td>\n",
              "      <td>66.567902</td>\n",
              "    </tr>\n",
              "    <tr>\n",
              "      <th>2021-01-08</th>\n",
              "      <td>107.609962</td>\n",
              "      <td>66.644218</td>\n",
              "    </tr>\n",
              "    <tr>\n",
              "      <th>...</th>\n",
              "      <td>...</td>\n",
              "      <td>...</td>\n",
              "    </tr>\n",
              "    <tr>\n",
              "      <th>2022-12-23</th>\n",
              "      <td>107.692398</td>\n",
              "      <td>99.300003</td>\n",
              "    </tr>\n",
              "    <tr>\n",
              "      <th>2022-12-27</th>\n",
              "      <td>108.080643</td>\n",
              "      <td>99.660004</td>\n",
              "    </tr>\n",
              "    <tr>\n",
              "      <th>2022-12-28</th>\n",
              "      <td>107.343979</td>\n",
              "      <td>99.139999</td>\n",
              "    </tr>\n",
              "    <tr>\n",
              "      <th>2022-12-29</th>\n",
              "      <td>109.812798</td>\n",
              "      <td>100.330002</td>\n",
              "    </tr>\n",
              "    <tr>\n",
              "      <th>2022-12-30</th>\n",
              "      <td>109.295143</td>\n",
              "      <td>100.919998</td>\n",
              "    </tr>\n",
              "  </tbody>\n",
              "</table>\n",
              "<p>503 rows × 2 columns</p>\n",
              "</div>\n",
              "      <button class=\"colab-df-convert\" onclick=\"convertToInteractive('df-76e9bff8-52e9-4be5-8cac-863f8545040c')\"\n",
              "              title=\"Convert this dataframe to an interactive table.\"\n",
              "              style=\"display:none;\">\n",
              "        \n",
              "  <svg xmlns=\"http://www.w3.org/2000/svg\" height=\"24px\"viewBox=\"0 0 24 24\"\n",
              "       width=\"24px\">\n",
              "    <path d=\"M0 0h24v24H0V0z\" fill=\"none\"/>\n",
              "    <path d=\"M18.56 5.44l.94 2.06.94-2.06 2.06-.94-2.06-.94-.94-2.06-.94 2.06-2.06.94zm-11 1L8.5 8.5l.94-2.06 2.06-.94-2.06-.94L8.5 2.5l-.94 2.06-2.06.94zm10 10l.94 2.06.94-2.06 2.06-.94-2.06-.94-.94-2.06-.94 2.06-2.06.94z\"/><path d=\"M17.41 7.96l-1.37-1.37c-.4-.4-.92-.59-1.43-.59-.52 0-1.04.2-1.43.59L10.3 9.45l-7.72 7.72c-.78.78-.78 2.05 0 2.83L4 21.41c.39.39.9.59 1.41.59.51 0 1.02-.2 1.41-.59l7.78-7.78 2.81-2.81c.8-.78.8-2.07 0-2.86zM5.41 20L4 18.59l7.72-7.72 1.47 1.35L5.41 20z\"/>\n",
              "  </svg>\n",
              "      </button>\n",
              "      \n",
              "  <style>\n",
              "    .colab-df-container {\n",
              "      display:flex;\n",
              "      flex-wrap:wrap;\n",
              "      gap: 12px;\n",
              "    }\n",
              "\n",
              "    .colab-df-convert {\n",
              "      background-color: #E8F0FE;\n",
              "      border: none;\n",
              "      border-radius: 50%;\n",
              "      cursor: pointer;\n",
              "      display: none;\n",
              "      fill: #1967D2;\n",
              "      height: 32px;\n",
              "      padding: 0 0 0 0;\n",
              "      width: 32px;\n",
              "    }\n",
              "\n",
              "    .colab-df-convert:hover {\n",
              "      background-color: #E2EBFA;\n",
              "      box-shadow: 0px 1px 2px rgba(60, 64, 67, 0.3), 0px 1px 3px 1px rgba(60, 64, 67, 0.15);\n",
              "      fill: #174EA6;\n",
              "    }\n",
              "\n",
              "    [theme=dark] .colab-df-convert {\n",
              "      background-color: #3B4455;\n",
              "      fill: #D2E3FC;\n",
              "    }\n",
              "\n",
              "    [theme=dark] .colab-df-convert:hover {\n",
              "      background-color: #434B5C;\n",
              "      box-shadow: 0px 1px 3px 1px rgba(0, 0, 0, 0.15);\n",
              "      filter: drop-shadow(0px 1px 2px rgba(0, 0, 0, 0.3));\n",
              "      fill: #FFFFFF;\n",
              "    }\n",
              "  </style>\n",
              "\n",
              "      <script>\n",
              "        const buttonEl =\n",
              "          document.querySelector('#df-76e9bff8-52e9-4be5-8cac-863f8545040c button.colab-df-convert');\n",
              "        buttonEl.style.display =\n",
              "          google.colab.kernel.accessAllowed ? 'block' : 'none';\n",
              "\n",
              "        async function convertToInteractive(key) {\n",
              "          const element = document.querySelector('#df-76e9bff8-52e9-4be5-8cac-863f8545040c');\n",
              "          const dataTable =\n",
              "            await google.colab.kernel.invokeFunction('convertToInteractive',\n",
              "                                                     [key], {});\n",
              "          if (!dataTable) return;\n",
              "\n",
              "          const docLinkHtml = 'Like what you see? Visit the ' +\n",
              "            '<a target=\"_blank\" href=https://colab.research.google.com/notebooks/data_table.ipynb>data table notebook</a>'\n",
              "            + ' to learn more about interactive tables.';\n",
              "          element.innerHTML = '';\n",
              "          dataTable['output_type'] = 'display_data';\n",
              "          await google.colab.output.renderOutput(dataTable, element);\n",
              "          const docLink = document.createElement('div');\n",
              "          docLink.innerHTML = docLinkHtml;\n",
              "          element.appendChild(docLink);\n",
              "        }\n",
              "      </script>\n",
              "    </div>\n",
              "  </div>\n",
              "  "
            ]
          },
          "metadata": {},
          "execution_count": 92
        }
      ]
    },
    {
      "cell_type": "code",
      "source": [
        "ret_diarios_corr = pd.DataFrame(np.log(precios_1_corr/precios_1_corr.shift(1)).dropna())\n",
        "ret_diarios_corr"
      ],
      "metadata": {
        "colab": {
          "base_uri": "https://localhost:8080/",
          "height": 455
        },
        "id": "yCH3hgf4kAJf",
        "outputId": "02dacdab-0a06-4da1-ad80-1bb2a2b1e67b"
      },
      "execution_count": 93,
      "outputs": [
        {
          "output_type": "execute_result",
          "data": {
            "text/plain": [
              "                 ABT       RTX\n",
              "Date                          \n",
              "2021-01-05  0.012297  0.014364\n",
              "2021-01-06 -0.002084  0.012312\n",
              "2021-01-07  0.009660 -0.007140\n",
              "2021-01-08  0.002781  0.001146\n",
              "2021-01-11 -0.006923 -0.000859\n",
              "...              ...       ...\n",
              "2022-12-23  0.001388  0.007988\n",
              "2022-12-27  0.003599  0.003619\n",
              "2022-12-28 -0.006839 -0.005231\n",
              "2022-12-29  0.022739  0.011932\n",
              "2022-12-30 -0.004725  0.005863\n",
              "\n",
              "[502 rows x 2 columns]"
            ],
            "text/html": [
              "\n",
              "  <div id=\"df-fde48bf7-3a64-4f03-9089-b65fd5e794f4\">\n",
              "    <div class=\"colab-df-container\">\n",
              "      <div>\n",
              "<style scoped>\n",
              "    .dataframe tbody tr th:only-of-type {\n",
              "        vertical-align: middle;\n",
              "    }\n",
              "\n",
              "    .dataframe tbody tr th {\n",
              "        vertical-align: top;\n",
              "    }\n",
              "\n",
              "    .dataframe thead th {\n",
              "        text-align: right;\n",
              "    }\n",
              "</style>\n",
              "<table border=\"1\" class=\"dataframe\">\n",
              "  <thead>\n",
              "    <tr style=\"text-align: right;\">\n",
              "      <th></th>\n",
              "      <th>ABT</th>\n",
              "      <th>RTX</th>\n",
              "    </tr>\n",
              "    <tr>\n",
              "      <th>Date</th>\n",
              "      <th></th>\n",
              "      <th></th>\n",
              "    </tr>\n",
              "  </thead>\n",
              "  <tbody>\n",
              "    <tr>\n",
              "      <th>2021-01-05</th>\n",
              "      <td>0.012297</td>\n",
              "      <td>0.014364</td>\n",
              "    </tr>\n",
              "    <tr>\n",
              "      <th>2021-01-06</th>\n",
              "      <td>-0.002084</td>\n",
              "      <td>0.012312</td>\n",
              "    </tr>\n",
              "    <tr>\n",
              "      <th>2021-01-07</th>\n",
              "      <td>0.009660</td>\n",
              "      <td>-0.007140</td>\n",
              "    </tr>\n",
              "    <tr>\n",
              "      <th>2021-01-08</th>\n",
              "      <td>0.002781</td>\n",
              "      <td>0.001146</td>\n",
              "    </tr>\n",
              "    <tr>\n",
              "      <th>2021-01-11</th>\n",
              "      <td>-0.006923</td>\n",
              "      <td>-0.000859</td>\n",
              "    </tr>\n",
              "    <tr>\n",
              "      <th>...</th>\n",
              "      <td>...</td>\n",
              "      <td>...</td>\n",
              "    </tr>\n",
              "    <tr>\n",
              "      <th>2022-12-23</th>\n",
              "      <td>0.001388</td>\n",
              "      <td>0.007988</td>\n",
              "    </tr>\n",
              "    <tr>\n",
              "      <th>2022-12-27</th>\n",
              "      <td>0.003599</td>\n",
              "      <td>0.003619</td>\n",
              "    </tr>\n",
              "    <tr>\n",
              "      <th>2022-12-28</th>\n",
              "      <td>-0.006839</td>\n",
              "      <td>-0.005231</td>\n",
              "    </tr>\n",
              "    <tr>\n",
              "      <th>2022-12-29</th>\n",
              "      <td>0.022739</td>\n",
              "      <td>0.011932</td>\n",
              "    </tr>\n",
              "    <tr>\n",
              "      <th>2022-12-30</th>\n",
              "      <td>-0.004725</td>\n",
              "      <td>0.005863</td>\n",
              "    </tr>\n",
              "  </tbody>\n",
              "</table>\n",
              "<p>502 rows × 2 columns</p>\n",
              "</div>\n",
              "      <button class=\"colab-df-convert\" onclick=\"convertToInteractive('df-fde48bf7-3a64-4f03-9089-b65fd5e794f4')\"\n",
              "              title=\"Convert this dataframe to an interactive table.\"\n",
              "              style=\"display:none;\">\n",
              "        \n",
              "  <svg xmlns=\"http://www.w3.org/2000/svg\" height=\"24px\"viewBox=\"0 0 24 24\"\n",
              "       width=\"24px\">\n",
              "    <path d=\"M0 0h24v24H0V0z\" fill=\"none\"/>\n",
              "    <path d=\"M18.56 5.44l.94 2.06.94-2.06 2.06-.94-2.06-.94-.94-2.06-.94 2.06-2.06.94zm-11 1L8.5 8.5l.94-2.06 2.06-.94-2.06-.94L8.5 2.5l-.94 2.06-2.06.94zm10 10l.94 2.06.94-2.06 2.06-.94-2.06-.94-.94-2.06-.94 2.06-2.06.94z\"/><path d=\"M17.41 7.96l-1.37-1.37c-.4-.4-.92-.59-1.43-.59-.52 0-1.04.2-1.43.59L10.3 9.45l-7.72 7.72c-.78.78-.78 2.05 0 2.83L4 21.41c.39.39.9.59 1.41.59.51 0 1.02-.2 1.41-.59l7.78-7.78 2.81-2.81c.8-.78.8-2.07 0-2.86zM5.41 20L4 18.59l7.72-7.72 1.47 1.35L5.41 20z\"/>\n",
              "  </svg>\n",
              "      </button>\n",
              "      \n",
              "  <style>\n",
              "    .colab-df-container {\n",
              "      display:flex;\n",
              "      flex-wrap:wrap;\n",
              "      gap: 12px;\n",
              "    }\n",
              "\n",
              "    .colab-df-convert {\n",
              "      background-color: #E8F0FE;\n",
              "      border: none;\n",
              "      border-radius: 50%;\n",
              "      cursor: pointer;\n",
              "      display: none;\n",
              "      fill: #1967D2;\n",
              "      height: 32px;\n",
              "      padding: 0 0 0 0;\n",
              "      width: 32px;\n",
              "    }\n",
              "\n",
              "    .colab-df-convert:hover {\n",
              "      background-color: #E2EBFA;\n",
              "      box-shadow: 0px 1px 2px rgba(60, 64, 67, 0.3), 0px 1px 3px 1px rgba(60, 64, 67, 0.15);\n",
              "      fill: #174EA6;\n",
              "    }\n",
              "\n",
              "    [theme=dark] .colab-df-convert {\n",
              "      background-color: #3B4455;\n",
              "      fill: #D2E3FC;\n",
              "    }\n",
              "\n",
              "    [theme=dark] .colab-df-convert:hover {\n",
              "      background-color: #434B5C;\n",
              "      box-shadow: 0px 1px 3px 1px rgba(0, 0, 0, 0.15);\n",
              "      filter: drop-shadow(0px 1px 2px rgba(0, 0, 0, 0.3));\n",
              "      fill: #FFFFFF;\n",
              "    }\n",
              "  </style>\n",
              "\n",
              "      <script>\n",
              "        const buttonEl =\n",
              "          document.querySelector('#df-fde48bf7-3a64-4f03-9089-b65fd5e794f4 button.colab-df-convert');\n",
              "        buttonEl.style.display =\n",
              "          google.colab.kernel.accessAllowed ? 'block' : 'none';\n",
              "\n",
              "        async function convertToInteractive(key) {\n",
              "          const element = document.querySelector('#df-fde48bf7-3a64-4f03-9089-b65fd5e794f4');\n",
              "          const dataTable =\n",
              "            await google.colab.kernel.invokeFunction('convertToInteractive',\n",
              "                                                     [key], {});\n",
              "          if (!dataTable) return;\n",
              "\n",
              "          const docLinkHtml = 'Like what you see? Visit the ' +\n",
              "            '<a target=\"_blank\" href=https://colab.research.google.com/notebooks/data_table.ipynb>data table notebook</a>'\n",
              "            + ' to learn more about interactive tables.';\n",
              "          element.innerHTML = '';\n",
              "          dataTable['output_type'] = 'display_data';\n",
              "          await google.colab.output.renderOutput(dataTable, element);\n",
              "          const docLink = document.createElement('div');\n",
              "          docLink.innerHTML = docLinkHtml;\n",
              "          element.appendChild(docLink);\n",
              "        }\n",
              "      </script>\n",
              "    </div>\n",
              "  </div>\n",
              "  "
            ]
          },
          "metadata": {},
          "execution_count": 93
        }
      ]
    },
    {
      "cell_type": "code",
      "source": [
        "ret_diarios_corr.corr(method=\"pearson\")"
      ],
      "metadata": {
        "colab": {
          "base_uri": "https://localhost:8080/",
          "height": 112
        },
        "id": "DnyrQSbSjd-s",
        "outputId": "13cc33d6-5927-44bf-de32-2ebef38adf19"
      },
      "execution_count": 94,
      "outputs": [
        {
          "output_type": "execute_result",
          "data": {
            "text/plain": [
              "          ABT       RTX\n",
              "ABT  1.000000  0.280441\n",
              "RTX  0.280441  1.000000"
            ],
            "text/html": [
              "\n",
              "  <div id=\"df-fb6082ef-b14d-4cf3-b61a-9c0e7274ef82\">\n",
              "    <div class=\"colab-df-container\">\n",
              "      <div>\n",
              "<style scoped>\n",
              "    .dataframe tbody tr th:only-of-type {\n",
              "        vertical-align: middle;\n",
              "    }\n",
              "\n",
              "    .dataframe tbody tr th {\n",
              "        vertical-align: top;\n",
              "    }\n",
              "\n",
              "    .dataframe thead th {\n",
              "        text-align: right;\n",
              "    }\n",
              "</style>\n",
              "<table border=\"1\" class=\"dataframe\">\n",
              "  <thead>\n",
              "    <tr style=\"text-align: right;\">\n",
              "      <th></th>\n",
              "      <th>ABT</th>\n",
              "      <th>RTX</th>\n",
              "    </tr>\n",
              "  </thead>\n",
              "  <tbody>\n",
              "    <tr>\n",
              "      <th>ABT</th>\n",
              "      <td>1.000000</td>\n",
              "      <td>0.280441</td>\n",
              "    </tr>\n",
              "    <tr>\n",
              "      <th>RTX</th>\n",
              "      <td>0.280441</td>\n",
              "      <td>1.000000</td>\n",
              "    </tr>\n",
              "  </tbody>\n",
              "</table>\n",
              "</div>\n",
              "      <button class=\"colab-df-convert\" onclick=\"convertToInteractive('df-fb6082ef-b14d-4cf3-b61a-9c0e7274ef82')\"\n",
              "              title=\"Convert this dataframe to an interactive table.\"\n",
              "              style=\"display:none;\">\n",
              "        \n",
              "  <svg xmlns=\"http://www.w3.org/2000/svg\" height=\"24px\"viewBox=\"0 0 24 24\"\n",
              "       width=\"24px\">\n",
              "    <path d=\"M0 0h24v24H0V0z\" fill=\"none\"/>\n",
              "    <path d=\"M18.56 5.44l.94 2.06.94-2.06 2.06-.94-2.06-.94-.94-2.06-.94 2.06-2.06.94zm-11 1L8.5 8.5l.94-2.06 2.06-.94-2.06-.94L8.5 2.5l-.94 2.06-2.06.94zm10 10l.94 2.06.94-2.06 2.06-.94-2.06-.94-.94-2.06-.94 2.06-2.06.94z\"/><path d=\"M17.41 7.96l-1.37-1.37c-.4-.4-.92-.59-1.43-.59-.52 0-1.04.2-1.43.59L10.3 9.45l-7.72 7.72c-.78.78-.78 2.05 0 2.83L4 21.41c.39.39.9.59 1.41.59.51 0 1.02-.2 1.41-.59l7.78-7.78 2.81-2.81c.8-.78.8-2.07 0-2.86zM5.41 20L4 18.59l7.72-7.72 1.47 1.35L5.41 20z\"/>\n",
              "  </svg>\n",
              "      </button>\n",
              "      \n",
              "  <style>\n",
              "    .colab-df-container {\n",
              "      display:flex;\n",
              "      flex-wrap:wrap;\n",
              "      gap: 12px;\n",
              "    }\n",
              "\n",
              "    .colab-df-convert {\n",
              "      background-color: #E8F0FE;\n",
              "      border: none;\n",
              "      border-radius: 50%;\n",
              "      cursor: pointer;\n",
              "      display: none;\n",
              "      fill: #1967D2;\n",
              "      height: 32px;\n",
              "      padding: 0 0 0 0;\n",
              "      width: 32px;\n",
              "    }\n",
              "\n",
              "    .colab-df-convert:hover {\n",
              "      background-color: #E2EBFA;\n",
              "      box-shadow: 0px 1px 2px rgba(60, 64, 67, 0.3), 0px 1px 3px 1px rgba(60, 64, 67, 0.15);\n",
              "      fill: #174EA6;\n",
              "    }\n",
              "\n",
              "    [theme=dark] .colab-df-convert {\n",
              "      background-color: #3B4455;\n",
              "      fill: #D2E3FC;\n",
              "    }\n",
              "\n",
              "    [theme=dark] .colab-df-convert:hover {\n",
              "      background-color: #434B5C;\n",
              "      box-shadow: 0px 1px 3px 1px rgba(0, 0, 0, 0.15);\n",
              "      filter: drop-shadow(0px 1px 2px rgba(0, 0, 0, 0.3));\n",
              "      fill: #FFFFFF;\n",
              "    }\n",
              "  </style>\n",
              "\n",
              "      <script>\n",
              "        const buttonEl =\n",
              "          document.querySelector('#df-fb6082ef-b14d-4cf3-b61a-9c0e7274ef82 button.colab-df-convert');\n",
              "        buttonEl.style.display =\n",
              "          google.colab.kernel.accessAllowed ? 'block' : 'none';\n",
              "\n",
              "        async function convertToInteractive(key) {\n",
              "          const element = document.querySelector('#df-fb6082ef-b14d-4cf3-b61a-9c0e7274ef82');\n",
              "          const dataTable =\n",
              "            await google.colab.kernel.invokeFunction('convertToInteractive',\n",
              "                                                     [key], {});\n",
              "          if (!dataTable) return;\n",
              "\n",
              "          const docLinkHtml = 'Like what you see? Visit the ' +\n",
              "            '<a target=\"_blank\" href=https://colab.research.google.com/notebooks/data_table.ipynb>data table notebook</a>'\n",
              "            + ' to learn more about interactive tables.';\n",
              "          element.innerHTML = '';\n",
              "          dataTable['output_type'] = 'display_data';\n",
              "          await google.colab.output.renderOutput(dataTable, element);\n",
              "          const docLink = document.createElement('div');\n",
              "          docLink.innerHTML = docLinkHtml;\n",
              "          element.appendChild(docLink);\n",
              "        }\n",
              "      </script>\n",
              "    </div>\n",
              "  </div>\n",
              "  "
            ]
          },
          "metadata": {},
          "execution_count": 94
        }
      ]
    },
    {
      "cell_type": "markdown",
      "source": [
        "#####Rango de Kendall"
      ],
      "metadata": {
        "id": "s5ZM3WWZbm7J"
      }
    },
    {
      "cell_type": "code",
      "source": [
        "import scipy.stats as stats"
      ],
      "metadata": {
        "id": "pD2XPyschRSr"
      },
      "execution_count": 95,
      "outputs": []
    },
    {
      "cell_type": "code",
      "source": [
        "stats.kendalltau(ret_diarios_RTX, ret_diarios_ABT)"
      ],
      "metadata": {
        "id": "pGHmIfjGbtP7",
        "colab": {
          "base_uri": "https://localhost:8080/"
        },
        "outputId": "bfd4910e-635b-4e7f-afe5-748c8fef86dc"
      },
      "execution_count": 96,
      "outputs": [
        {
          "output_type": "execute_result",
          "data": {
            "text/plain": [
              "KendalltauResult(correlation=0.16445393422217394, pvalue=3.6354540157699366e-08)"
            ]
          },
          "metadata": {},
          "execution_count": 96
        }
      ]
    },
    {
      "cell_type": "markdown",
      "source": [
        "#####Spearman"
      ],
      "metadata": {
        "id": "0rCkJ7Hbbtzb"
      }
    },
    {
      "cell_type": "code",
      "source": [
        "stats.spearmanr(ret_diarios_RTX, ret_diarios_ABT)"
      ],
      "metadata": {
        "id": "Ox0wlnaibvZx",
        "colab": {
          "base_uri": "https://localhost:8080/"
        },
        "outputId": "4144771d-12c7-43a3-c0cd-ec3daad8b0ca"
      },
      "execution_count": 97,
      "outputs": [
        {
          "output_type": "execute_result",
          "data": {
            "text/plain": [
              "SpearmanrResult(correlation=0.23805054664266312, pvalue=6.73491890934e-08)"
            ]
          },
          "metadata": {},
          "execution_count": 97
        }
      ]
    },
    {
      "cell_type": "markdown",
      "source": [
        "Como vemos en los 3 metodos de calculo de correlaciones, la correlacion no da un resultado mayor a 0.3, con lo que vemos que es una correlacion positiva pero no es muy alta por lo que las 2 compañias se relacionan poco entre si."
      ],
      "metadata": {
        "id": "91KlEjtCQsZo"
      }
    },
    {
      "cell_type": "markdown",
      "source": [
        "#### **f.** Pruebas de Normalidad (Kolmogorov-Smirnov)"
      ],
      "metadata": {
        "id": "D9nxCPzhb0R0"
      }
    },
    {
      "cell_type": "code",
      "source": [
        "#No"
      ],
      "metadata": {
        "id": "TqG9-2xab7UB"
      },
      "execution_count": 98,
      "outputs": []
    },
    {
      "cell_type": "markdown",
      "source": [
        "###Punto 2"
      ],
      "metadata": {
        "id": "tOl23rlkcShC"
      }
    },
    {
      "cell_type": "markdown",
      "source": [
        "####Subida de datos"
      ],
      "metadata": {
        "id": "jtu_Jsl-cZ6o"
      }
    },
    {
      "cell_type": "code",
      "source": [
        "activos_2 = [\"WMT\",\"XOM\",\"VRTX\",\"VZ\",\"NUE\",\"PM\",\"LMT\",\"CAT\",\"SPG\",\"UNP\"]\n",
        "precios_2 = yf.download(activos_2,start=\"2017-12-01\",end=\"2022-12-31\",period=\"1Mo\")['Adj Close']\n",
        "precios_2"
      ],
      "metadata": {
        "colab": {
          "base_uri": "https://localhost:8080/",
          "height": 472
        },
        "id": "L35Z5dHX4N70",
        "outputId": "b3fcff46-4ceb-45dd-d6ad-b578dd38b05a"
      },
      "execution_count": 99,
      "outputs": [
        {
          "output_type": "stream",
          "name": "stdout",
          "text": [
            "[*********************100%***********************]  10 of 10 completed\n"
          ]
        },
        {
          "output_type": "execute_result",
          "data": {
            "text/plain": [
              "                   CAT         LMT         NUE          PM         SPG  \\\n",
              "Date                                                                     \n",
              "2017-12-01  124.465027  274.806000   50.114414   77.655029  123.822510   \n",
              "2017-12-04  124.447456  273.237183   51.443798   78.328918  124.829269   \n",
              "2017-12-05  123.251343  271.799988   50.411770   78.965370  124.127579   \n",
              "2017-12-06  123.427238  273.403870   50.674152   80.567757  124.135216   \n",
              "2017-12-07  125.669930  275.550934   51.242641   79.893852  123.608955   \n",
              "...                ...         ...         ...         ...         ...   \n",
              "2022-12-23  238.731461  483.290009  135.562820  101.690002  117.910004   \n",
              "2022-12-27  241.985947  485.500000  136.021057  102.680000  118.099998   \n",
              "2022-12-28  238.243805  483.220001  133.680008  100.940002  115.059998   \n",
              "2022-12-29  239.059906  487.049988  133.559998  101.190002  117.320000   \n",
              "2022-12-30  238.422943  486.489990  131.809998  101.209999  117.480003   \n",
              "\n",
              "                   UNP        VRTX         VZ         WMT         XOM  \n",
              "Date                                                                   \n",
              "2017-12-01  112.125542  140.789993  40.159332   88.377594   64.171906  \n",
              "2017-12-04  117.038132  138.789993  40.527634   88.068924   64.256493  \n",
              "2017-12-05  115.175659  138.360001  39.900742   88.813339   63.733635  \n",
              "2017-12-06  115.121674  137.279999  39.712692   88.314026   63.264633  \n",
              "2017-12-07  115.580536  138.779999  39.508957   88.323151   63.472210  \n",
              "...                ...         ...        ...         ...         ...  \n",
              "2022-12-23  209.910004  289.690002  37.815506  143.770004  108.680000  \n",
              "2022-12-27  210.320007  287.320007  38.642506  143.809998  110.190002  \n",
              "2022-12-28  206.869995  285.760010  38.209316  141.289993  108.379997  \n",
              "2022-12-29  209.220001  289.079987  38.652348  142.149994  109.199997  \n",
              "2022-12-30  207.070007  288.779999  38.790184  141.789993  110.300003  \n",
              "\n",
              "[1279 rows x 10 columns]"
            ],
            "text/html": [
              "\n",
              "  <div id=\"df-f1f8804c-6d83-4d5b-a4d6-d73368479ffc\">\n",
              "    <div class=\"colab-df-container\">\n",
              "      <div>\n",
              "<style scoped>\n",
              "    .dataframe tbody tr th:only-of-type {\n",
              "        vertical-align: middle;\n",
              "    }\n",
              "\n",
              "    .dataframe tbody tr th {\n",
              "        vertical-align: top;\n",
              "    }\n",
              "\n",
              "    .dataframe thead th {\n",
              "        text-align: right;\n",
              "    }\n",
              "</style>\n",
              "<table border=\"1\" class=\"dataframe\">\n",
              "  <thead>\n",
              "    <tr style=\"text-align: right;\">\n",
              "      <th></th>\n",
              "      <th>CAT</th>\n",
              "      <th>LMT</th>\n",
              "      <th>NUE</th>\n",
              "      <th>PM</th>\n",
              "      <th>SPG</th>\n",
              "      <th>UNP</th>\n",
              "      <th>VRTX</th>\n",
              "      <th>VZ</th>\n",
              "      <th>WMT</th>\n",
              "      <th>XOM</th>\n",
              "    </tr>\n",
              "    <tr>\n",
              "      <th>Date</th>\n",
              "      <th></th>\n",
              "      <th></th>\n",
              "      <th></th>\n",
              "      <th></th>\n",
              "      <th></th>\n",
              "      <th></th>\n",
              "      <th></th>\n",
              "      <th></th>\n",
              "      <th></th>\n",
              "      <th></th>\n",
              "    </tr>\n",
              "  </thead>\n",
              "  <tbody>\n",
              "    <tr>\n",
              "      <th>2017-12-01</th>\n",
              "      <td>124.465027</td>\n",
              "      <td>274.806000</td>\n",
              "      <td>50.114414</td>\n",
              "      <td>77.655029</td>\n",
              "      <td>123.822510</td>\n",
              "      <td>112.125542</td>\n",
              "      <td>140.789993</td>\n",
              "      <td>40.159332</td>\n",
              "      <td>88.377594</td>\n",
              "      <td>64.171906</td>\n",
              "    </tr>\n",
              "    <tr>\n",
              "      <th>2017-12-04</th>\n",
              "      <td>124.447456</td>\n",
              "      <td>273.237183</td>\n",
              "      <td>51.443798</td>\n",
              "      <td>78.328918</td>\n",
              "      <td>124.829269</td>\n",
              "      <td>117.038132</td>\n",
              "      <td>138.789993</td>\n",
              "      <td>40.527634</td>\n",
              "      <td>88.068924</td>\n",
              "      <td>64.256493</td>\n",
              "    </tr>\n",
              "    <tr>\n",
              "      <th>2017-12-05</th>\n",
              "      <td>123.251343</td>\n",
              "      <td>271.799988</td>\n",
              "      <td>50.411770</td>\n",
              "      <td>78.965370</td>\n",
              "      <td>124.127579</td>\n",
              "      <td>115.175659</td>\n",
              "      <td>138.360001</td>\n",
              "      <td>39.900742</td>\n",
              "      <td>88.813339</td>\n",
              "      <td>63.733635</td>\n",
              "    </tr>\n",
              "    <tr>\n",
              "      <th>2017-12-06</th>\n",
              "      <td>123.427238</td>\n",
              "      <td>273.403870</td>\n",
              "      <td>50.674152</td>\n",
              "      <td>80.567757</td>\n",
              "      <td>124.135216</td>\n",
              "      <td>115.121674</td>\n",
              "      <td>137.279999</td>\n",
              "      <td>39.712692</td>\n",
              "      <td>88.314026</td>\n",
              "      <td>63.264633</td>\n",
              "    </tr>\n",
              "    <tr>\n",
              "      <th>2017-12-07</th>\n",
              "      <td>125.669930</td>\n",
              "      <td>275.550934</td>\n",
              "      <td>51.242641</td>\n",
              "      <td>79.893852</td>\n",
              "      <td>123.608955</td>\n",
              "      <td>115.580536</td>\n",
              "      <td>138.779999</td>\n",
              "      <td>39.508957</td>\n",
              "      <td>88.323151</td>\n",
              "      <td>63.472210</td>\n",
              "    </tr>\n",
              "    <tr>\n",
              "      <th>...</th>\n",
              "      <td>...</td>\n",
              "      <td>...</td>\n",
              "      <td>...</td>\n",
              "      <td>...</td>\n",
              "      <td>...</td>\n",
              "      <td>...</td>\n",
              "      <td>...</td>\n",
              "      <td>...</td>\n",
              "      <td>...</td>\n",
              "      <td>...</td>\n",
              "    </tr>\n",
              "    <tr>\n",
              "      <th>2022-12-23</th>\n",
              "      <td>238.731461</td>\n",
              "      <td>483.290009</td>\n",
              "      <td>135.562820</td>\n",
              "      <td>101.690002</td>\n",
              "      <td>117.910004</td>\n",
              "      <td>209.910004</td>\n",
              "      <td>289.690002</td>\n",
              "      <td>37.815506</td>\n",
              "      <td>143.770004</td>\n",
              "      <td>108.680000</td>\n",
              "    </tr>\n",
              "    <tr>\n",
              "      <th>2022-12-27</th>\n",
              "      <td>241.985947</td>\n",
              "      <td>485.500000</td>\n",
              "      <td>136.021057</td>\n",
              "      <td>102.680000</td>\n",
              "      <td>118.099998</td>\n",
              "      <td>210.320007</td>\n",
              "      <td>287.320007</td>\n",
              "      <td>38.642506</td>\n",
              "      <td>143.809998</td>\n",
              "      <td>110.190002</td>\n",
              "    </tr>\n",
              "    <tr>\n",
              "      <th>2022-12-28</th>\n",
              "      <td>238.243805</td>\n",
              "      <td>483.220001</td>\n",
              "      <td>133.680008</td>\n",
              "      <td>100.940002</td>\n",
              "      <td>115.059998</td>\n",
              "      <td>206.869995</td>\n",
              "      <td>285.760010</td>\n",
              "      <td>38.209316</td>\n",
              "      <td>141.289993</td>\n",
              "      <td>108.379997</td>\n",
              "    </tr>\n",
              "    <tr>\n",
              "      <th>2022-12-29</th>\n",
              "      <td>239.059906</td>\n",
              "      <td>487.049988</td>\n",
              "      <td>133.559998</td>\n",
              "      <td>101.190002</td>\n",
              "      <td>117.320000</td>\n",
              "      <td>209.220001</td>\n",
              "      <td>289.079987</td>\n",
              "      <td>38.652348</td>\n",
              "      <td>142.149994</td>\n",
              "      <td>109.199997</td>\n",
              "    </tr>\n",
              "    <tr>\n",
              "      <th>2022-12-30</th>\n",
              "      <td>238.422943</td>\n",
              "      <td>486.489990</td>\n",
              "      <td>131.809998</td>\n",
              "      <td>101.209999</td>\n",
              "      <td>117.480003</td>\n",
              "      <td>207.070007</td>\n",
              "      <td>288.779999</td>\n",
              "      <td>38.790184</td>\n",
              "      <td>141.789993</td>\n",
              "      <td>110.300003</td>\n",
              "    </tr>\n",
              "  </tbody>\n",
              "</table>\n",
              "<p>1279 rows × 10 columns</p>\n",
              "</div>\n",
              "      <button class=\"colab-df-convert\" onclick=\"convertToInteractive('df-f1f8804c-6d83-4d5b-a4d6-d73368479ffc')\"\n",
              "              title=\"Convert this dataframe to an interactive table.\"\n",
              "              style=\"display:none;\">\n",
              "        \n",
              "  <svg xmlns=\"http://www.w3.org/2000/svg\" height=\"24px\"viewBox=\"0 0 24 24\"\n",
              "       width=\"24px\">\n",
              "    <path d=\"M0 0h24v24H0V0z\" fill=\"none\"/>\n",
              "    <path d=\"M18.56 5.44l.94 2.06.94-2.06 2.06-.94-2.06-.94-.94-2.06-.94 2.06-2.06.94zm-11 1L8.5 8.5l.94-2.06 2.06-.94-2.06-.94L8.5 2.5l-.94 2.06-2.06.94zm10 10l.94 2.06.94-2.06 2.06-.94-2.06-.94-.94-2.06-.94 2.06-2.06.94z\"/><path d=\"M17.41 7.96l-1.37-1.37c-.4-.4-.92-.59-1.43-.59-.52 0-1.04.2-1.43.59L10.3 9.45l-7.72 7.72c-.78.78-.78 2.05 0 2.83L4 21.41c.39.39.9.59 1.41.59.51 0 1.02-.2 1.41-.59l7.78-7.78 2.81-2.81c.8-.78.8-2.07 0-2.86zM5.41 20L4 18.59l7.72-7.72 1.47 1.35L5.41 20z\"/>\n",
              "  </svg>\n",
              "      </button>\n",
              "      \n",
              "  <style>\n",
              "    .colab-df-container {\n",
              "      display:flex;\n",
              "      flex-wrap:wrap;\n",
              "      gap: 12px;\n",
              "    }\n",
              "\n",
              "    .colab-df-convert {\n",
              "      background-color: #E8F0FE;\n",
              "      border: none;\n",
              "      border-radius: 50%;\n",
              "      cursor: pointer;\n",
              "      display: none;\n",
              "      fill: #1967D2;\n",
              "      height: 32px;\n",
              "      padding: 0 0 0 0;\n",
              "      width: 32px;\n",
              "    }\n",
              "\n",
              "    .colab-df-convert:hover {\n",
              "      background-color: #E2EBFA;\n",
              "      box-shadow: 0px 1px 2px rgba(60, 64, 67, 0.3), 0px 1px 3px 1px rgba(60, 64, 67, 0.15);\n",
              "      fill: #174EA6;\n",
              "    }\n",
              "\n",
              "    [theme=dark] .colab-df-convert {\n",
              "      background-color: #3B4455;\n",
              "      fill: #D2E3FC;\n",
              "    }\n",
              "\n",
              "    [theme=dark] .colab-df-convert:hover {\n",
              "      background-color: #434B5C;\n",
              "      box-shadow: 0px 1px 3px 1px rgba(0, 0, 0, 0.15);\n",
              "      filter: drop-shadow(0px 1px 2px rgba(0, 0, 0, 0.3));\n",
              "      fill: #FFFFFF;\n",
              "    }\n",
              "  </style>\n",
              "\n",
              "      <script>\n",
              "        const buttonEl =\n",
              "          document.querySelector('#df-f1f8804c-6d83-4d5b-a4d6-d73368479ffc button.colab-df-convert');\n",
              "        buttonEl.style.display =\n",
              "          google.colab.kernel.accessAllowed ? 'block' : 'none';\n",
              "\n",
              "        async function convertToInteractive(key) {\n",
              "          const element = document.querySelector('#df-f1f8804c-6d83-4d5b-a4d6-d73368479ffc');\n",
              "          const dataTable =\n",
              "            await google.colab.kernel.invokeFunction('convertToInteractive',\n",
              "                                                     [key], {});\n",
              "          if (!dataTable) return;\n",
              "\n",
              "          const docLinkHtml = 'Like what you see? Visit the ' +\n",
              "            '<a target=\"_blank\" href=https://colab.research.google.com/notebooks/data_table.ipynb>data table notebook</a>'\n",
              "            + ' to learn more about interactive tables.';\n",
              "          element.innerHTML = '';\n",
              "          dataTable['output_type'] = 'display_data';\n",
              "          await google.colab.output.renderOutput(dataTable, element);\n",
              "          const docLink = document.createElement('div');\n",
              "          docLink.innerHTML = docLinkHtml;\n",
              "          element.appendChild(docLink);\n",
              "        }\n",
              "      </script>\n",
              "    </div>\n",
              "  </div>\n",
              "  "
            ]
          },
          "metadata": {},
          "execution_count": 99
        }
      ]
    },
    {
      "cell_type": "markdown",
      "source": [
        "#### **a.** Calculo de Retornos Logaritmicos y Volatilidades Anualizados"
      ],
      "metadata": {
        "id": "8cwQEfyIcsxf"
      }
    },
    {
      "cell_type": "markdown",
      "source": [
        "#####Mensuales"
      ],
      "metadata": {
        "id": "gh-iNQRkcuQg"
      }
    },
    {
      "cell_type": "markdown",
      "source": [
        "######Retornos"
      ],
      "metadata": {
        "id": "14GenCPRdAIN"
      }
    },
    {
      "cell_type": "code",
      "source": [
        "Retorno_Mensual_Activos_2 = pd.DataFrame(np.log(precios_2/precios_2.shift(1)).dropna())\n",
        "Retorno_Mensual_Activos_2"
      ],
      "metadata": {
        "id": "YoSAo-T6c7io",
        "colab": {
          "base_uri": "https://localhost:8080/",
          "height": 455
        },
        "outputId": "2907bdf8-e628-4e3e-ac9e-a70647d232a9"
      },
      "execution_count": 100,
      "outputs": [
        {
          "output_type": "execute_result",
          "data": {
            "text/plain": [
              "                 CAT       LMT       NUE        PM       SPG       UNP  \\\n",
              "Date                                                                     \n",
              "2017-12-04 -0.000141 -0.005725  0.026181  0.008641  0.008098  0.042881   \n",
              "2017-12-05 -0.009658 -0.005274 -0.020265  0.008093 -0.005637 -0.016041   \n",
              "2017-12-06  0.001426  0.005884  0.005191  0.020089  0.000062 -0.000469   \n",
              "2017-12-07  0.018007  0.007822  0.011156 -0.008400 -0.004248  0.003978   \n",
              "2017-12-08  0.006766  0.004538  0.026610 -0.001031  0.001110  0.005047   \n",
              "...              ...       ...       ...       ...       ...       ...   \n",
              "2022-12-23  0.009761  0.008290 -0.006081  0.008196  0.013233  0.005973   \n",
              "2022-12-27  0.013540  0.004562  0.003375  0.009688  0.001610  0.001951   \n",
              "2022-12-28 -0.015585 -0.004707 -0.017361 -0.017091 -0.026078 -0.016540   \n",
              "2022-12-29  0.003420  0.007895 -0.000898  0.002474  0.019452  0.011296   \n",
              "2022-12-30 -0.002668 -0.001150 -0.013189  0.000198  0.001363 -0.010329   \n",
              "\n",
              "                VRTX        VZ       WMT       XOM  \n",
              "Date                                                \n",
              "2017-12-04 -0.014307  0.009129 -0.003499  0.001317  \n",
              "2017-12-05 -0.003103 -0.015589  0.008417 -0.008170  \n",
              "2017-12-06 -0.007836 -0.004724 -0.005638 -0.007386  \n",
              "2017-12-07  0.010867 -0.005143  0.000103  0.003276  \n",
              "2017-12-08  0.034211  0.013201 -0.002379  0.001332  \n",
              "...              ...       ...       ...       ...  \n",
              "2022-12-23 -0.014496  0.002607  0.002019  0.026101  \n",
              "2022-12-27 -0.008215  0.021634  0.000278  0.013798  \n",
              "2022-12-28 -0.005444 -0.011273 -0.017678 -0.016563  \n",
              "2022-12-29  0.011551  0.011528  0.006068  0.007537  \n",
              "2022-12-30 -0.001038  0.003560 -0.002536  0.010023  \n",
              "\n",
              "[1278 rows x 10 columns]"
            ],
            "text/html": [
              "\n",
              "  <div id=\"df-ea01a494-9056-40cd-a0a8-465c8bb86859\">\n",
              "    <div class=\"colab-df-container\">\n",
              "      <div>\n",
              "<style scoped>\n",
              "    .dataframe tbody tr th:only-of-type {\n",
              "        vertical-align: middle;\n",
              "    }\n",
              "\n",
              "    .dataframe tbody tr th {\n",
              "        vertical-align: top;\n",
              "    }\n",
              "\n",
              "    .dataframe thead th {\n",
              "        text-align: right;\n",
              "    }\n",
              "</style>\n",
              "<table border=\"1\" class=\"dataframe\">\n",
              "  <thead>\n",
              "    <tr style=\"text-align: right;\">\n",
              "      <th></th>\n",
              "      <th>CAT</th>\n",
              "      <th>LMT</th>\n",
              "      <th>NUE</th>\n",
              "      <th>PM</th>\n",
              "      <th>SPG</th>\n",
              "      <th>UNP</th>\n",
              "      <th>VRTX</th>\n",
              "      <th>VZ</th>\n",
              "      <th>WMT</th>\n",
              "      <th>XOM</th>\n",
              "    </tr>\n",
              "    <tr>\n",
              "      <th>Date</th>\n",
              "      <th></th>\n",
              "      <th></th>\n",
              "      <th></th>\n",
              "      <th></th>\n",
              "      <th></th>\n",
              "      <th></th>\n",
              "      <th></th>\n",
              "      <th></th>\n",
              "      <th></th>\n",
              "      <th></th>\n",
              "    </tr>\n",
              "  </thead>\n",
              "  <tbody>\n",
              "    <tr>\n",
              "      <th>2017-12-04</th>\n",
              "      <td>-0.000141</td>\n",
              "      <td>-0.005725</td>\n",
              "      <td>0.026181</td>\n",
              "      <td>0.008641</td>\n",
              "      <td>0.008098</td>\n",
              "      <td>0.042881</td>\n",
              "      <td>-0.014307</td>\n",
              "      <td>0.009129</td>\n",
              "      <td>-0.003499</td>\n",
              "      <td>0.001317</td>\n",
              "    </tr>\n",
              "    <tr>\n",
              "      <th>2017-12-05</th>\n",
              "      <td>-0.009658</td>\n",
              "      <td>-0.005274</td>\n",
              "      <td>-0.020265</td>\n",
              "      <td>0.008093</td>\n",
              "      <td>-0.005637</td>\n",
              "      <td>-0.016041</td>\n",
              "      <td>-0.003103</td>\n",
              "      <td>-0.015589</td>\n",
              "      <td>0.008417</td>\n",
              "      <td>-0.008170</td>\n",
              "    </tr>\n",
              "    <tr>\n",
              "      <th>2017-12-06</th>\n",
              "      <td>0.001426</td>\n",
              "      <td>0.005884</td>\n",
              "      <td>0.005191</td>\n",
              "      <td>0.020089</td>\n",
              "      <td>0.000062</td>\n",
              "      <td>-0.000469</td>\n",
              "      <td>-0.007836</td>\n",
              "      <td>-0.004724</td>\n",
              "      <td>-0.005638</td>\n",
              "      <td>-0.007386</td>\n",
              "    </tr>\n",
              "    <tr>\n",
              "      <th>2017-12-07</th>\n",
              "      <td>0.018007</td>\n",
              "      <td>0.007822</td>\n",
              "      <td>0.011156</td>\n",
              "      <td>-0.008400</td>\n",
              "      <td>-0.004248</td>\n",
              "      <td>0.003978</td>\n",
              "      <td>0.010867</td>\n",
              "      <td>-0.005143</td>\n",
              "      <td>0.000103</td>\n",
              "      <td>0.003276</td>\n",
              "    </tr>\n",
              "    <tr>\n",
              "      <th>2017-12-08</th>\n",
              "      <td>0.006766</td>\n",
              "      <td>0.004538</td>\n",
              "      <td>0.026610</td>\n",
              "      <td>-0.001031</td>\n",
              "      <td>0.001110</td>\n",
              "      <td>0.005047</td>\n",
              "      <td>0.034211</td>\n",
              "      <td>0.013201</td>\n",
              "      <td>-0.002379</td>\n",
              "      <td>0.001332</td>\n",
              "    </tr>\n",
              "    <tr>\n",
              "      <th>...</th>\n",
              "      <td>...</td>\n",
              "      <td>...</td>\n",
              "      <td>...</td>\n",
              "      <td>...</td>\n",
              "      <td>...</td>\n",
              "      <td>...</td>\n",
              "      <td>...</td>\n",
              "      <td>...</td>\n",
              "      <td>...</td>\n",
              "      <td>...</td>\n",
              "    </tr>\n",
              "    <tr>\n",
              "      <th>2022-12-23</th>\n",
              "      <td>0.009761</td>\n",
              "      <td>0.008290</td>\n",
              "      <td>-0.006081</td>\n",
              "      <td>0.008196</td>\n",
              "      <td>0.013233</td>\n",
              "      <td>0.005973</td>\n",
              "      <td>-0.014496</td>\n",
              "      <td>0.002607</td>\n",
              "      <td>0.002019</td>\n",
              "      <td>0.026101</td>\n",
              "    </tr>\n",
              "    <tr>\n",
              "      <th>2022-12-27</th>\n",
              "      <td>0.013540</td>\n",
              "      <td>0.004562</td>\n",
              "      <td>0.003375</td>\n",
              "      <td>0.009688</td>\n",
              "      <td>0.001610</td>\n",
              "      <td>0.001951</td>\n",
              "      <td>-0.008215</td>\n",
              "      <td>0.021634</td>\n",
              "      <td>0.000278</td>\n",
              "      <td>0.013798</td>\n",
              "    </tr>\n",
              "    <tr>\n",
              "      <th>2022-12-28</th>\n",
              "      <td>-0.015585</td>\n",
              "      <td>-0.004707</td>\n",
              "      <td>-0.017361</td>\n",
              "      <td>-0.017091</td>\n",
              "      <td>-0.026078</td>\n",
              "      <td>-0.016540</td>\n",
              "      <td>-0.005444</td>\n",
              "      <td>-0.011273</td>\n",
              "      <td>-0.017678</td>\n",
              "      <td>-0.016563</td>\n",
              "    </tr>\n",
              "    <tr>\n",
              "      <th>2022-12-29</th>\n",
              "      <td>0.003420</td>\n",
              "      <td>0.007895</td>\n",
              "      <td>-0.000898</td>\n",
              "      <td>0.002474</td>\n",
              "      <td>0.019452</td>\n",
              "      <td>0.011296</td>\n",
              "      <td>0.011551</td>\n",
              "      <td>0.011528</td>\n",
              "      <td>0.006068</td>\n",
              "      <td>0.007537</td>\n",
              "    </tr>\n",
              "    <tr>\n",
              "      <th>2022-12-30</th>\n",
              "      <td>-0.002668</td>\n",
              "      <td>-0.001150</td>\n",
              "      <td>-0.013189</td>\n",
              "      <td>0.000198</td>\n",
              "      <td>0.001363</td>\n",
              "      <td>-0.010329</td>\n",
              "      <td>-0.001038</td>\n",
              "      <td>0.003560</td>\n",
              "      <td>-0.002536</td>\n",
              "      <td>0.010023</td>\n",
              "    </tr>\n",
              "  </tbody>\n",
              "</table>\n",
              "<p>1278 rows × 10 columns</p>\n",
              "</div>\n",
              "      <button class=\"colab-df-convert\" onclick=\"convertToInteractive('df-ea01a494-9056-40cd-a0a8-465c8bb86859')\"\n",
              "              title=\"Convert this dataframe to an interactive table.\"\n",
              "              style=\"display:none;\">\n",
              "        \n",
              "  <svg xmlns=\"http://www.w3.org/2000/svg\" height=\"24px\"viewBox=\"0 0 24 24\"\n",
              "       width=\"24px\">\n",
              "    <path d=\"M0 0h24v24H0V0z\" fill=\"none\"/>\n",
              "    <path d=\"M18.56 5.44l.94 2.06.94-2.06 2.06-.94-2.06-.94-.94-2.06-.94 2.06-2.06.94zm-11 1L8.5 8.5l.94-2.06 2.06-.94-2.06-.94L8.5 2.5l-.94 2.06-2.06.94zm10 10l.94 2.06.94-2.06 2.06-.94-2.06-.94-.94-2.06-.94 2.06-2.06.94z\"/><path d=\"M17.41 7.96l-1.37-1.37c-.4-.4-.92-.59-1.43-.59-.52 0-1.04.2-1.43.59L10.3 9.45l-7.72 7.72c-.78.78-.78 2.05 0 2.83L4 21.41c.39.39.9.59 1.41.59.51 0 1.02-.2 1.41-.59l7.78-7.78 2.81-2.81c.8-.78.8-2.07 0-2.86zM5.41 20L4 18.59l7.72-7.72 1.47 1.35L5.41 20z\"/>\n",
              "  </svg>\n",
              "      </button>\n",
              "      \n",
              "  <style>\n",
              "    .colab-df-container {\n",
              "      display:flex;\n",
              "      flex-wrap:wrap;\n",
              "      gap: 12px;\n",
              "    }\n",
              "\n",
              "    .colab-df-convert {\n",
              "      background-color: #E8F0FE;\n",
              "      border: none;\n",
              "      border-radius: 50%;\n",
              "      cursor: pointer;\n",
              "      display: none;\n",
              "      fill: #1967D2;\n",
              "      height: 32px;\n",
              "      padding: 0 0 0 0;\n",
              "      width: 32px;\n",
              "    }\n",
              "\n",
              "    .colab-df-convert:hover {\n",
              "      background-color: #E2EBFA;\n",
              "      box-shadow: 0px 1px 2px rgba(60, 64, 67, 0.3), 0px 1px 3px 1px rgba(60, 64, 67, 0.15);\n",
              "      fill: #174EA6;\n",
              "    }\n",
              "\n",
              "    [theme=dark] .colab-df-convert {\n",
              "      background-color: #3B4455;\n",
              "      fill: #D2E3FC;\n",
              "    }\n",
              "\n",
              "    [theme=dark] .colab-df-convert:hover {\n",
              "      background-color: #434B5C;\n",
              "      box-shadow: 0px 1px 3px 1px rgba(0, 0, 0, 0.15);\n",
              "      filter: drop-shadow(0px 1px 2px rgba(0, 0, 0, 0.3));\n",
              "      fill: #FFFFFF;\n",
              "    }\n",
              "  </style>\n",
              "\n",
              "      <script>\n",
              "        const buttonEl =\n",
              "          document.querySelector('#df-ea01a494-9056-40cd-a0a8-465c8bb86859 button.colab-df-convert');\n",
              "        buttonEl.style.display =\n",
              "          google.colab.kernel.accessAllowed ? 'block' : 'none';\n",
              "\n",
              "        async function convertToInteractive(key) {\n",
              "          const element = document.querySelector('#df-ea01a494-9056-40cd-a0a8-465c8bb86859');\n",
              "          const dataTable =\n",
              "            await google.colab.kernel.invokeFunction('convertToInteractive',\n",
              "                                                     [key], {});\n",
              "          if (!dataTable) return;\n",
              "\n",
              "          const docLinkHtml = 'Like what you see? Visit the ' +\n",
              "            '<a target=\"_blank\" href=https://colab.research.google.com/notebooks/data_table.ipynb>data table notebook</a>'\n",
              "            + ' to learn more about interactive tables.';\n",
              "          element.innerHTML = '';\n",
              "          dataTable['output_type'] = 'display_data';\n",
              "          await google.colab.output.renderOutput(dataTable, element);\n",
              "          const docLink = document.createElement('div');\n",
              "          docLink.innerHTML = docLinkHtml;\n",
              "          element.appendChild(docLink);\n",
              "        }\n",
              "      </script>\n",
              "    </div>\n",
              "  </div>\n",
              "  "
            ]
          },
          "metadata": {},
          "execution_count": 100
        }
      ]
    },
    {
      "cell_type": "markdown",
      "source": [
        "######Volatilidades"
      ],
      "metadata": {
        "id": "JrZfKgb6dDKv"
      }
    },
    {
      "cell_type": "code",
      "source": [
        "Vol_Mensual_Activos_2 = Retorno_Mensual_Activos_2.std()\n",
        "Vol_Mensual_Activos_2"
      ],
      "metadata": {
        "id": "x79aqsI5dB-n",
        "colab": {
          "base_uri": "https://localhost:8080/"
        },
        "outputId": "0f04afc0-50be-4281-f6c8-ebaef4b79124"
      },
      "execution_count": 101,
      "outputs": [
        {
          "output_type": "execute_result",
          "data": {
            "text/plain": [
              "CAT     0.021007\n",
              "LMT     0.016952\n",
              "NUE     0.024840\n",
              "PM      0.017531\n",
              "SPG     0.029873\n",
              "UNP     0.018065\n",
              "VRTX    0.021280\n",
              "VZ      0.012514\n",
              "WMT     0.014725\n",
              "XOM     0.021177\n",
              "dtype: float64"
            ]
          },
          "metadata": {},
          "execution_count": 101
        }
      ]
    },
    {
      "cell_type": "markdown",
      "source": [
        "#####Anualizados"
      ],
      "metadata": {
        "id": "E7cUFoiJcv0x"
      }
    },
    {
      "cell_type": "markdown",
      "source": [
        "######Retornos"
      ],
      "metadata": {
        "id": "C4G3v7OydGGQ"
      }
    },
    {
      "cell_type": "code",
      "source": [
        "Rertorno_Diario_Activos_2 = Retorno_Mensual_Activos_2/21\n",
        "Retorno_Anual_Activos_2 = Rertorno_Diario_Activos_2*252\n",
        "Retorno_Anual_Activos_2"
      ],
      "metadata": {
        "id": "NjRr3vuCc8FJ",
        "colab": {
          "base_uri": "https://localhost:8080/",
          "height": 455
        },
        "outputId": "95b9b688-2784-441f-f981-044ede5efff6"
      },
      "execution_count": 102,
      "outputs": [
        {
          "output_type": "execute_result",
          "data": {
            "text/plain": [
              "                 CAT       LMT       NUE        PM       SPG       UNP  \\\n",
              "Date                                                                     \n",
              "2017-12-04 -0.001694 -0.068702  0.314175  0.103687  0.097173  0.514568   \n",
              "2017-12-05 -0.115895 -0.063285 -0.243183  0.097110 -0.067645 -0.192496   \n",
              "2017-12-06  0.017113  0.070603  0.062295  0.241069  0.000738 -0.005626   \n",
              "2017-12-07  0.216085  0.093869  0.133873 -0.100795 -0.050981  0.047736   \n",
              "2017-12-08  0.081188  0.054451  0.319321 -0.012377  0.013324  0.060563   \n",
              "...              ...       ...       ...       ...       ...       ...   \n",
              "2022-12-23  0.117133  0.099483 -0.072970  0.098347  0.158794  0.071673   \n",
              "2022-12-27  0.162484  0.054749  0.040495  0.116260  0.019321  0.023416   \n",
              "2022-12-28 -0.187021 -0.056487 -0.208329 -0.205093 -0.312936 -0.198476   \n",
              "2022-12-29  0.041036  0.094737 -0.010778  0.029684  0.233418  0.135549   \n",
              "2022-12-30 -0.032016 -0.013805 -0.158272  0.002371  0.016355 -0.123953   \n",
              "\n",
              "                VRTX        VZ       WMT       XOM  \n",
              "Date                                                \n",
              "2017-12-04 -0.171689  0.109550 -0.041985  0.015807  \n",
              "2017-12-05 -0.037236 -0.187070  0.101005 -0.098044  \n",
              "2017-12-06 -0.094036 -0.056689 -0.067655 -0.088632  \n",
              "2017-12-07  0.130408 -0.061721  0.001240  0.039309  \n",
              "2017-12-08  0.410536  0.158410 -0.028553  0.015981  \n",
              "...              ...       ...       ...       ...  \n",
              "2022-12-23 -0.173955  0.031282  0.024230  0.313217  \n",
              "2022-12-27 -0.098577  0.259603  0.003338  0.165581  \n",
              "2022-12-28 -0.065331 -0.135282 -0.212142 -0.198752  \n",
              "2022-12-29  0.138613  0.138338  0.072820  0.090450  \n",
              "2022-12-30 -0.012459  0.042717 -0.030429  0.120275  \n",
              "\n",
              "[1278 rows x 10 columns]"
            ],
            "text/html": [
              "\n",
              "  <div id=\"df-621afa7d-aa71-4fb6-90b2-9d0a17d71205\">\n",
              "    <div class=\"colab-df-container\">\n",
              "      <div>\n",
              "<style scoped>\n",
              "    .dataframe tbody tr th:only-of-type {\n",
              "        vertical-align: middle;\n",
              "    }\n",
              "\n",
              "    .dataframe tbody tr th {\n",
              "        vertical-align: top;\n",
              "    }\n",
              "\n",
              "    .dataframe thead th {\n",
              "        text-align: right;\n",
              "    }\n",
              "</style>\n",
              "<table border=\"1\" class=\"dataframe\">\n",
              "  <thead>\n",
              "    <tr style=\"text-align: right;\">\n",
              "      <th></th>\n",
              "      <th>CAT</th>\n",
              "      <th>LMT</th>\n",
              "      <th>NUE</th>\n",
              "      <th>PM</th>\n",
              "      <th>SPG</th>\n",
              "      <th>UNP</th>\n",
              "      <th>VRTX</th>\n",
              "      <th>VZ</th>\n",
              "      <th>WMT</th>\n",
              "      <th>XOM</th>\n",
              "    </tr>\n",
              "    <tr>\n",
              "      <th>Date</th>\n",
              "      <th></th>\n",
              "      <th></th>\n",
              "      <th></th>\n",
              "      <th></th>\n",
              "      <th></th>\n",
              "      <th></th>\n",
              "      <th></th>\n",
              "      <th></th>\n",
              "      <th></th>\n",
              "      <th></th>\n",
              "    </tr>\n",
              "  </thead>\n",
              "  <tbody>\n",
              "    <tr>\n",
              "      <th>2017-12-04</th>\n",
              "      <td>-0.001694</td>\n",
              "      <td>-0.068702</td>\n",
              "      <td>0.314175</td>\n",
              "      <td>0.103687</td>\n",
              "      <td>0.097173</td>\n",
              "      <td>0.514568</td>\n",
              "      <td>-0.171689</td>\n",
              "      <td>0.109550</td>\n",
              "      <td>-0.041985</td>\n",
              "      <td>0.015807</td>\n",
              "    </tr>\n",
              "    <tr>\n",
              "      <th>2017-12-05</th>\n",
              "      <td>-0.115895</td>\n",
              "      <td>-0.063285</td>\n",
              "      <td>-0.243183</td>\n",
              "      <td>0.097110</td>\n",
              "      <td>-0.067645</td>\n",
              "      <td>-0.192496</td>\n",
              "      <td>-0.037236</td>\n",
              "      <td>-0.187070</td>\n",
              "      <td>0.101005</td>\n",
              "      <td>-0.098044</td>\n",
              "    </tr>\n",
              "    <tr>\n",
              "      <th>2017-12-06</th>\n",
              "      <td>0.017113</td>\n",
              "      <td>0.070603</td>\n",
              "      <td>0.062295</td>\n",
              "      <td>0.241069</td>\n",
              "      <td>0.000738</td>\n",
              "      <td>-0.005626</td>\n",
              "      <td>-0.094036</td>\n",
              "      <td>-0.056689</td>\n",
              "      <td>-0.067655</td>\n",
              "      <td>-0.088632</td>\n",
              "    </tr>\n",
              "    <tr>\n",
              "      <th>2017-12-07</th>\n",
              "      <td>0.216085</td>\n",
              "      <td>0.093869</td>\n",
              "      <td>0.133873</td>\n",
              "      <td>-0.100795</td>\n",
              "      <td>-0.050981</td>\n",
              "      <td>0.047736</td>\n",
              "      <td>0.130408</td>\n",
              "      <td>-0.061721</td>\n",
              "      <td>0.001240</td>\n",
              "      <td>0.039309</td>\n",
              "    </tr>\n",
              "    <tr>\n",
              "      <th>2017-12-08</th>\n",
              "      <td>0.081188</td>\n",
              "      <td>0.054451</td>\n",
              "      <td>0.319321</td>\n",
              "      <td>-0.012377</td>\n",
              "      <td>0.013324</td>\n",
              "      <td>0.060563</td>\n",
              "      <td>0.410536</td>\n",
              "      <td>0.158410</td>\n",
              "      <td>-0.028553</td>\n",
              "      <td>0.015981</td>\n",
              "    </tr>\n",
              "    <tr>\n",
              "      <th>...</th>\n",
              "      <td>...</td>\n",
              "      <td>...</td>\n",
              "      <td>...</td>\n",
              "      <td>...</td>\n",
              "      <td>...</td>\n",
              "      <td>...</td>\n",
              "      <td>...</td>\n",
              "      <td>...</td>\n",
              "      <td>...</td>\n",
              "      <td>...</td>\n",
              "    </tr>\n",
              "    <tr>\n",
              "      <th>2022-12-23</th>\n",
              "      <td>0.117133</td>\n",
              "      <td>0.099483</td>\n",
              "      <td>-0.072970</td>\n",
              "      <td>0.098347</td>\n",
              "      <td>0.158794</td>\n",
              "      <td>0.071673</td>\n",
              "      <td>-0.173955</td>\n",
              "      <td>0.031282</td>\n",
              "      <td>0.024230</td>\n",
              "      <td>0.313217</td>\n",
              "    </tr>\n",
              "    <tr>\n",
              "      <th>2022-12-27</th>\n",
              "      <td>0.162484</td>\n",
              "      <td>0.054749</td>\n",
              "      <td>0.040495</td>\n",
              "      <td>0.116260</td>\n",
              "      <td>0.019321</td>\n",
              "      <td>0.023416</td>\n",
              "      <td>-0.098577</td>\n",
              "      <td>0.259603</td>\n",
              "      <td>0.003338</td>\n",
              "      <td>0.165581</td>\n",
              "    </tr>\n",
              "    <tr>\n",
              "      <th>2022-12-28</th>\n",
              "      <td>-0.187021</td>\n",
              "      <td>-0.056487</td>\n",
              "      <td>-0.208329</td>\n",
              "      <td>-0.205093</td>\n",
              "      <td>-0.312936</td>\n",
              "      <td>-0.198476</td>\n",
              "      <td>-0.065331</td>\n",
              "      <td>-0.135282</td>\n",
              "      <td>-0.212142</td>\n",
              "      <td>-0.198752</td>\n",
              "    </tr>\n",
              "    <tr>\n",
              "      <th>2022-12-29</th>\n",
              "      <td>0.041036</td>\n",
              "      <td>0.094737</td>\n",
              "      <td>-0.010778</td>\n",
              "      <td>0.029684</td>\n",
              "      <td>0.233418</td>\n",
              "      <td>0.135549</td>\n",
              "      <td>0.138613</td>\n",
              "      <td>0.138338</td>\n",
              "      <td>0.072820</td>\n",
              "      <td>0.090450</td>\n",
              "    </tr>\n",
              "    <tr>\n",
              "      <th>2022-12-30</th>\n",
              "      <td>-0.032016</td>\n",
              "      <td>-0.013805</td>\n",
              "      <td>-0.158272</td>\n",
              "      <td>0.002371</td>\n",
              "      <td>0.016355</td>\n",
              "      <td>-0.123953</td>\n",
              "      <td>-0.012459</td>\n",
              "      <td>0.042717</td>\n",
              "      <td>-0.030429</td>\n",
              "      <td>0.120275</td>\n",
              "    </tr>\n",
              "  </tbody>\n",
              "</table>\n",
              "<p>1278 rows × 10 columns</p>\n",
              "</div>\n",
              "      <button class=\"colab-df-convert\" onclick=\"convertToInteractive('df-621afa7d-aa71-4fb6-90b2-9d0a17d71205')\"\n",
              "              title=\"Convert this dataframe to an interactive table.\"\n",
              "              style=\"display:none;\">\n",
              "        \n",
              "  <svg xmlns=\"http://www.w3.org/2000/svg\" height=\"24px\"viewBox=\"0 0 24 24\"\n",
              "       width=\"24px\">\n",
              "    <path d=\"M0 0h24v24H0V0z\" fill=\"none\"/>\n",
              "    <path d=\"M18.56 5.44l.94 2.06.94-2.06 2.06-.94-2.06-.94-.94-2.06-.94 2.06-2.06.94zm-11 1L8.5 8.5l.94-2.06 2.06-.94-2.06-.94L8.5 2.5l-.94 2.06-2.06.94zm10 10l.94 2.06.94-2.06 2.06-.94-2.06-.94-.94-2.06-.94 2.06-2.06.94z\"/><path d=\"M17.41 7.96l-1.37-1.37c-.4-.4-.92-.59-1.43-.59-.52 0-1.04.2-1.43.59L10.3 9.45l-7.72 7.72c-.78.78-.78 2.05 0 2.83L4 21.41c.39.39.9.59 1.41.59.51 0 1.02-.2 1.41-.59l7.78-7.78 2.81-2.81c.8-.78.8-2.07 0-2.86zM5.41 20L4 18.59l7.72-7.72 1.47 1.35L5.41 20z\"/>\n",
              "  </svg>\n",
              "      </button>\n",
              "      \n",
              "  <style>\n",
              "    .colab-df-container {\n",
              "      display:flex;\n",
              "      flex-wrap:wrap;\n",
              "      gap: 12px;\n",
              "    }\n",
              "\n",
              "    .colab-df-convert {\n",
              "      background-color: #E8F0FE;\n",
              "      border: none;\n",
              "      border-radius: 50%;\n",
              "      cursor: pointer;\n",
              "      display: none;\n",
              "      fill: #1967D2;\n",
              "      height: 32px;\n",
              "      padding: 0 0 0 0;\n",
              "      width: 32px;\n",
              "    }\n",
              "\n",
              "    .colab-df-convert:hover {\n",
              "      background-color: #E2EBFA;\n",
              "      box-shadow: 0px 1px 2px rgba(60, 64, 67, 0.3), 0px 1px 3px 1px rgba(60, 64, 67, 0.15);\n",
              "      fill: #174EA6;\n",
              "    }\n",
              "\n",
              "    [theme=dark] .colab-df-convert {\n",
              "      background-color: #3B4455;\n",
              "      fill: #D2E3FC;\n",
              "    }\n",
              "\n",
              "    [theme=dark] .colab-df-convert:hover {\n",
              "      background-color: #434B5C;\n",
              "      box-shadow: 0px 1px 3px 1px rgba(0, 0, 0, 0.15);\n",
              "      filter: drop-shadow(0px 1px 2px rgba(0, 0, 0, 0.3));\n",
              "      fill: #FFFFFF;\n",
              "    }\n",
              "  </style>\n",
              "\n",
              "      <script>\n",
              "        const buttonEl =\n",
              "          document.querySelector('#df-621afa7d-aa71-4fb6-90b2-9d0a17d71205 button.colab-df-convert');\n",
              "        buttonEl.style.display =\n",
              "          google.colab.kernel.accessAllowed ? 'block' : 'none';\n",
              "\n",
              "        async function convertToInteractive(key) {\n",
              "          const element = document.querySelector('#df-621afa7d-aa71-4fb6-90b2-9d0a17d71205');\n",
              "          const dataTable =\n",
              "            await google.colab.kernel.invokeFunction('convertToInteractive',\n",
              "                                                     [key], {});\n",
              "          if (!dataTable) return;\n",
              "\n",
              "          const docLinkHtml = 'Like what you see? Visit the ' +\n",
              "            '<a target=\"_blank\" href=https://colab.research.google.com/notebooks/data_table.ipynb>data table notebook</a>'\n",
              "            + ' to learn more about interactive tables.';\n",
              "          element.innerHTML = '';\n",
              "          dataTable['output_type'] = 'display_data';\n",
              "          await google.colab.output.renderOutput(dataTable, element);\n",
              "          const docLink = document.createElement('div');\n",
              "          docLink.innerHTML = docLinkHtml;\n",
              "          element.appendChild(docLink);\n",
              "        }\n",
              "      </script>\n",
              "    </div>\n",
              "  </div>\n",
              "  "
            ]
          },
          "metadata": {},
          "execution_count": 102
        }
      ]
    },
    {
      "cell_type": "markdown",
      "source": [
        "######Volatilidades"
      ],
      "metadata": {
        "id": "NpNje65HdKNC"
      }
    },
    {
      "cell_type": "code",
      "source": [
        "Vol_Anual_Activos_2 = Vol_Mensual_Activos_2*np.sqrt(12)\n",
        "Vol_Anual_Activos_2"
      ],
      "metadata": {
        "id": "43gTEpUSdMGV",
        "colab": {
          "base_uri": "https://localhost:8080/"
        },
        "outputId": "38cd7917-b9a6-44e0-a51f-85567ff2eaed"
      },
      "execution_count": 103,
      "outputs": [
        {
          "output_type": "execute_result",
          "data": {
            "text/plain": [
              "CAT     0.072770\n",
              "LMT     0.058723\n",
              "NUE     0.086050\n",
              "PM      0.060728\n",
              "SPG     0.103484\n",
              "UNP     0.062578\n",
              "VRTX    0.073718\n",
              "VZ      0.043349\n",
              "WMT     0.051010\n",
              "XOM     0.073361\n",
              "dtype: float64"
            ]
          },
          "metadata": {},
          "execution_count": 103
        }
      ]
    },
    {
      "cell_type": "markdown",
      "source": [
        "#### **b.** Tabla de Activos Dependiendo del Desempeño de los Retornos"
      ],
      "metadata": {
        "id": "cpbjeMcKdQko"
      }
    },
    {
      "cell_type": "markdown",
      "source": [
        "#####Nuestro Analisis se baso en los Retornos Esperados Anuales (Promedio de los Retornos Anuales)"
      ],
      "metadata": {
        "id": "YQQFkS4zwoCZ"
      }
    },
    {
      "cell_type": "code",
      "source": [
        "Desempeño_Retornos = pd.DataFrame(Retorno_Anual_Activos_2.mean())\n",
        "Desempeño_Retornos = Desempeño_Retornos.rename(columns={0:'Promedio de Retornos Anuales'})\n",
        "Desempeño_Retornos"
      ],
      "metadata": {
        "colab": {
          "base_uri": "https://localhost:8080/",
          "height": 363
        },
        "id": "l5_CEf0juMwj",
        "outputId": "3f62c257-7337-4c28-8a8a-faeeb3580e94"
      },
      "execution_count": 104,
      "outputs": [
        {
          "output_type": "execute_result",
          "data": {
            "text/plain": [
              "      Promedio de Retornos Anuales\n",
              "CAT                       0.006103\n",
              "LMT                       0.005363\n",
              "NUE                       0.009080\n",
              "PM                        0.002488\n",
              "SPG                      -0.000494\n",
              "UNP                       0.005760\n",
              "VRTX                      0.006746\n",
              "VZ                       -0.000326\n",
              "WMT                       0.004439\n",
              "XOM                       0.005086"
            ],
            "text/html": [
              "\n",
              "  <div id=\"df-219901e1-0177-4120-a50d-1dbc86e77c1d\">\n",
              "    <div class=\"colab-df-container\">\n",
              "      <div>\n",
              "<style scoped>\n",
              "    .dataframe tbody tr th:only-of-type {\n",
              "        vertical-align: middle;\n",
              "    }\n",
              "\n",
              "    .dataframe tbody tr th {\n",
              "        vertical-align: top;\n",
              "    }\n",
              "\n",
              "    .dataframe thead th {\n",
              "        text-align: right;\n",
              "    }\n",
              "</style>\n",
              "<table border=\"1\" class=\"dataframe\">\n",
              "  <thead>\n",
              "    <tr style=\"text-align: right;\">\n",
              "      <th></th>\n",
              "      <th>Promedio de Retornos Anuales</th>\n",
              "    </tr>\n",
              "  </thead>\n",
              "  <tbody>\n",
              "    <tr>\n",
              "      <th>CAT</th>\n",
              "      <td>0.006103</td>\n",
              "    </tr>\n",
              "    <tr>\n",
              "      <th>LMT</th>\n",
              "      <td>0.005363</td>\n",
              "    </tr>\n",
              "    <tr>\n",
              "      <th>NUE</th>\n",
              "      <td>0.009080</td>\n",
              "    </tr>\n",
              "    <tr>\n",
              "      <th>PM</th>\n",
              "      <td>0.002488</td>\n",
              "    </tr>\n",
              "    <tr>\n",
              "      <th>SPG</th>\n",
              "      <td>-0.000494</td>\n",
              "    </tr>\n",
              "    <tr>\n",
              "      <th>UNP</th>\n",
              "      <td>0.005760</td>\n",
              "    </tr>\n",
              "    <tr>\n",
              "      <th>VRTX</th>\n",
              "      <td>0.006746</td>\n",
              "    </tr>\n",
              "    <tr>\n",
              "      <th>VZ</th>\n",
              "      <td>-0.000326</td>\n",
              "    </tr>\n",
              "    <tr>\n",
              "      <th>WMT</th>\n",
              "      <td>0.004439</td>\n",
              "    </tr>\n",
              "    <tr>\n",
              "      <th>XOM</th>\n",
              "      <td>0.005086</td>\n",
              "    </tr>\n",
              "  </tbody>\n",
              "</table>\n",
              "</div>\n",
              "      <button class=\"colab-df-convert\" onclick=\"convertToInteractive('df-219901e1-0177-4120-a50d-1dbc86e77c1d')\"\n",
              "              title=\"Convert this dataframe to an interactive table.\"\n",
              "              style=\"display:none;\">\n",
              "        \n",
              "  <svg xmlns=\"http://www.w3.org/2000/svg\" height=\"24px\"viewBox=\"0 0 24 24\"\n",
              "       width=\"24px\">\n",
              "    <path d=\"M0 0h24v24H0V0z\" fill=\"none\"/>\n",
              "    <path d=\"M18.56 5.44l.94 2.06.94-2.06 2.06-.94-2.06-.94-.94-2.06-.94 2.06-2.06.94zm-11 1L8.5 8.5l.94-2.06 2.06-.94-2.06-.94L8.5 2.5l-.94 2.06-2.06.94zm10 10l.94 2.06.94-2.06 2.06-.94-2.06-.94-.94-2.06-.94 2.06-2.06.94z\"/><path d=\"M17.41 7.96l-1.37-1.37c-.4-.4-.92-.59-1.43-.59-.52 0-1.04.2-1.43.59L10.3 9.45l-7.72 7.72c-.78.78-.78 2.05 0 2.83L4 21.41c.39.39.9.59 1.41.59.51 0 1.02-.2 1.41-.59l7.78-7.78 2.81-2.81c.8-.78.8-2.07 0-2.86zM5.41 20L4 18.59l7.72-7.72 1.47 1.35L5.41 20z\"/>\n",
              "  </svg>\n",
              "      </button>\n",
              "      \n",
              "  <style>\n",
              "    .colab-df-container {\n",
              "      display:flex;\n",
              "      flex-wrap:wrap;\n",
              "      gap: 12px;\n",
              "    }\n",
              "\n",
              "    .colab-df-convert {\n",
              "      background-color: #E8F0FE;\n",
              "      border: none;\n",
              "      border-radius: 50%;\n",
              "      cursor: pointer;\n",
              "      display: none;\n",
              "      fill: #1967D2;\n",
              "      height: 32px;\n",
              "      padding: 0 0 0 0;\n",
              "      width: 32px;\n",
              "    }\n",
              "\n",
              "    .colab-df-convert:hover {\n",
              "      background-color: #E2EBFA;\n",
              "      box-shadow: 0px 1px 2px rgba(60, 64, 67, 0.3), 0px 1px 3px 1px rgba(60, 64, 67, 0.15);\n",
              "      fill: #174EA6;\n",
              "    }\n",
              "\n",
              "    [theme=dark] .colab-df-convert {\n",
              "      background-color: #3B4455;\n",
              "      fill: #D2E3FC;\n",
              "    }\n",
              "\n",
              "    [theme=dark] .colab-df-convert:hover {\n",
              "      background-color: #434B5C;\n",
              "      box-shadow: 0px 1px 3px 1px rgba(0, 0, 0, 0.15);\n",
              "      filter: drop-shadow(0px 1px 2px rgba(0, 0, 0, 0.3));\n",
              "      fill: #FFFFFF;\n",
              "    }\n",
              "  </style>\n",
              "\n",
              "      <script>\n",
              "        const buttonEl =\n",
              "          document.querySelector('#df-219901e1-0177-4120-a50d-1dbc86e77c1d button.colab-df-convert');\n",
              "        buttonEl.style.display =\n",
              "          google.colab.kernel.accessAllowed ? 'block' : 'none';\n",
              "\n",
              "        async function convertToInteractive(key) {\n",
              "          const element = document.querySelector('#df-219901e1-0177-4120-a50d-1dbc86e77c1d');\n",
              "          const dataTable =\n",
              "            await google.colab.kernel.invokeFunction('convertToInteractive',\n",
              "                                                     [key], {});\n",
              "          if (!dataTable) return;\n",
              "\n",
              "          const docLinkHtml = 'Like what you see? Visit the ' +\n",
              "            '<a target=\"_blank\" href=https://colab.research.google.com/notebooks/data_table.ipynb>data table notebook</a>'\n",
              "            + ' to learn more about interactive tables.';\n",
              "          element.innerHTML = '';\n",
              "          dataTable['output_type'] = 'display_data';\n",
              "          await google.colab.output.renderOutput(dataTable, element);\n",
              "          const docLink = document.createElement('div');\n",
              "          docLink.innerHTML = docLinkHtml;\n",
              "          element.appendChild(docLink);\n",
              "        }\n",
              "      </script>\n",
              "    </div>\n",
              "  </div>\n",
              "  "
            ]
          },
          "metadata": {},
          "execution_count": 104
        }
      ]
    },
    {
      "cell_type": "markdown",
      "source": [
        "Organización de la tabla de mayor a menor, para ver el ranqueo de cuales de los activos seleccionados tienen los mejores retornos y asi poder concluir."
      ],
      "metadata": {
        "id": "xHZd4nZzXU5F"
      }
    },
    {
      "cell_type": "code",
      "source": [
        "Desempeño_Retornos.sort_values('Promedio de Retornos Anuales', ascending=False)"
      ],
      "metadata": {
        "colab": {
          "base_uri": "https://localhost:8080/",
          "height": 363
        },
        "id": "kBSi_-7NurWD",
        "outputId": "2e9f2f11-9055-43ee-bd98-39b6f2dc8882"
      },
      "execution_count": 105,
      "outputs": [
        {
          "output_type": "execute_result",
          "data": {
            "text/plain": [
              "      Promedio de Retornos Anuales\n",
              "NUE                       0.009080\n",
              "VRTX                      0.006746\n",
              "CAT                       0.006103\n",
              "UNP                       0.005760\n",
              "LMT                       0.005363\n",
              "XOM                       0.005086\n",
              "WMT                       0.004439\n",
              "PM                        0.002488\n",
              "VZ                       -0.000326\n",
              "SPG                      -0.000494"
            ],
            "text/html": [
              "\n",
              "  <div id=\"df-4991e179-990a-4caf-b00f-67955eee69b6\">\n",
              "    <div class=\"colab-df-container\">\n",
              "      <div>\n",
              "<style scoped>\n",
              "    .dataframe tbody tr th:only-of-type {\n",
              "        vertical-align: middle;\n",
              "    }\n",
              "\n",
              "    .dataframe tbody tr th {\n",
              "        vertical-align: top;\n",
              "    }\n",
              "\n",
              "    .dataframe thead th {\n",
              "        text-align: right;\n",
              "    }\n",
              "</style>\n",
              "<table border=\"1\" class=\"dataframe\">\n",
              "  <thead>\n",
              "    <tr style=\"text-align: right;\">\n",
              "      <th></th>\n",
              "      <th>Promedio de Retornos Anuales</th>\n",
              "    </tr>\n",
              "  </thead>\n",
              "  <tbody>\n",
              "    <tr>\n",
              "      <th>NUE</th>\n",
              "      <td>0.009080</td>\n",
              "    </tr>\n",
              "    <tr>\n",
              "      <th>VRTX</th>\n",
              "      <td>0.006746</td>\n",
              "    </tr>\n",
              "    <tr>\n",
              "      <th>CAT</th>\n",
              "      <td>0.006103</td>\n",
              "    </tr>\n",
              "    <tr>\n",
              "      <th>UNP</th>\n",
              "      <td>0.005760</td>\n",
              "    </tr>\n",
              "    <tr>\n",
              "      <th>LMT</th>\n",
              "      <td>0.005363</td>\n",
              "    </tr>\n",
              "    <tr>\n",
              "      <th>XOM</th>\n",
              "      <td>0.005086</td>\n",
              "    </tr>\n",
              "    <tr>\n",
              "      <th>WMT</th>\n",
              "      <td>0.004439</td>\n",
              "    </tr>\n",
              "    <tr>\n",
              "      <th>PM</th>\n",
              "      <td>0.002488</td>\n",
              "    </tr>\n",
              "    <tr>\n",
              "      <th>VZ</th>\n",
              "      <td>-0.000326</td>\n",
              "    </tr>\n",
              "    <tr>\n",
              "      <th>SPG</th>\n",
              "      <td>-0.000494</td>\n",
              "    </tr>\n",
              "  </tbody>\n",
              "</table>\n",
              "</div>\n",
              "      <button class=\"colab-df-convert\" onclick=\"convertToInteractive('df-4991e179-990a-4caf-b00f-67955eee69b6')\"\n",
              "              title=\"Convert this dataframe to an interactive table.\"\n",
              "              style=\"display:none;\">\n",
              "        \n",
              "  <svg xmlns=\"http://www.w3.org/2000/svg\" height=\"24px\"viewBox=\"0 0 24 24\"\n",
              "       width=\"24px\">\n",
              "    <path d=\"M0 0h24v24H0V0z\" fill=\"none\"/>\n",
              "    <path d=\"M18.56 5.44l.94 2.06.94-2.06 2.06-.94-2.06-.94-.94-2.06-.94 2.06-2.06.94zm-11 1L8.5 8.5l.94-2.06 2.06-.94-2.06-.94L8.5 2.5l-.94 2.06-2.06.94zm10 10l.94 2.06.94-2.06 2.06-.94-2.06-.94-.94-2.06-.94 2.06-2.06.94z\"/><path d=\"M17.41 7.96l-1.37-1.37c-.4-.4-.92-.59-1.43-.59-.52 0-1.04.2-1.43.59L10.3 9.45l-7.72 7.72c-.78.78-.78 2.05 0 2.83L4 21.41c.39.39.9.59 1.41.59.51 0 1.02-.2 1.41-.59l7.78-7.78 2.81-2.81c.8-.78.8-2.07 0-2.86zM5.41 20L4 18.59l7.72-7.72 1.47 1.35L5.41 20z\"/>\n",
              "  </svg>\n",
              "      </button>\n",
              "      \n",
              "  <style>\n",
              "    .colab-df-container {\n",
              "      display:flex;\n",
              "      flex-wrap:wrap;\n",
              "      gap: 12px;\n",
              "    }\n",
              "\n",
              "    .colab-df-convert {\n",
              "      background-color: #E8F0FE;\n",
              "      border: none;\n",
              "      border-radius: 50%;\n",
              "      cursor: pointer;\n",
              "      display: none;\n",
              "      fill: #1967D2;\n",
              "      height: 32px;\n",
              "      padding: 0 0 0 0;\n",
              "      width: 32px;\n",
              "    }\n",
              "\n",
              "    .colab-df-convert:hover {\n",
              "      background-color: #E2EBFA;\n",
              "      box-shadow: 0px 1px 2px rgba(60, 64, 67, 0.3), 0px 1px 3px 1px rgba(60, 64, 67, 0.15);\n",
              "      fill: #174EA6;\n",
              "    }\n",
              "\n",
              "    [theme=dark] .colab-df-convert {\n",
              "      background-color: #3B4455;\n",
              "      fill: #D2E3FC;\n",
              "    }\n",
              "\n",
              "    [theme=dark] .colab-df-convert:hover {\n",
              "      background-color: #434B5C;\n",
              "      box-shadow: 0px 1px 3px 1px rgba(0, 0, 0, 0.15);\n",
              "      filter: drop-shadow(0px 1px 2px rgba(0, 0, 0, 0.3));\n",
              "      fill: #FFFFFF;\n",
              "    }\n",
              "  </style>\n",
              "\n",
              "      <script>\n",
              "        const buttonEl =\n",
              "          document.querySelector('#df-4991e179-990a-4caf-b00f-67955eee69b6 button.colab-df-convert');\n",
              "        buttonEl.style.display =\n",
              "          google.colab.kernel.accessAllowed ? 'block' : 'none';\n",
              "\n",
              "        async function convertToInteractive(key) {\n",
              "          const element = document.querySelector('#df-4991e179-990a-4caf-b00f-67955eee69b6');\n",
              "          const dataTable =\n",
              "            await google.colab.kernel.invokeFunction('convertToInteractive',\n",
              "                                                     [key], {});\n",
              "          if (!dataTable) return;\n",
              "\n",
              "          const docLinkHtml = 'Like what you see? Visit the ' +\n",
              "            '<a target=\"_blank\" href=https://colab.research.google.com/notebooks/data_table.ipynb>data table notebook</a>'\n",
              "            + ' to learn more about interactive tables.';\n",
              "          element.innerHTML = '';\n",
              "          dataTable['output_type'] = 'display_data';\n",
              "          await google.colab.output.renderOutput(dataTable, element);\n",
              "          const docLink = document.createElement('div');\n",
              "          docLink.innerHTML = docLinkHtml;\n",
              "          element.appendChild(docLink);\n",
              "        }\n",
              "      </script>\n",
              "    </div>\n",
              "  </div>\n",
              "  "
            ]
          },
          "metadata": {},
          "execution_count": 105
        }
      ]
    },
    {
      "cell_type": "markdown",
      "source": [
        "Vemos que el mejor desempeño de los retornos de las acciones la tuvo Nucor Corporatio (NUE), la cual es una empresa de acero estadounidense, luego le sigue la accion de Vertex pharmaceuticals inc, una empresa farmaceutica de los Estados Unidos, y en tercer lugar tenemos Caterpillar (CAT) una empresa del sector de maquinaria para construccion y al igual que las anteriores, estadounidense."
      ],
      "metadata": {
        "id": "FsDJZzJPvesh"
      }
    },
    {
      "cell_type": "markdown",
      "source": [
        "###Punto 3"
      ],
      "metadata": {
        "id": "orvWVtE0djo3"
      }
    },
    {
      "cell_type": "markdown",
      "source": [
        "####Subida de datos"
      ],
      "metadata": {
        "id": "KLl22E07d1_I"
      }
    },
    {
      "cell_type": "markdown",
      "source": [
        "Cargamos el indice Rusell 2000, el cual es un indice que contiene 2000 empresas estadounidenses de baja capitalización."
      ],
      "metadata": {
        "id": "2cMvM-nBd4tp"
      }
    },
    {
      "cell_type": "code",
      "source": [
        "precios_3 = yf.download(\"^RUT\",start=\"2011-12-01\",end=\"2022-12-31\", period=\"1Mo\")\n",
        "precios_3"
      ],
      "metadata": {
        "colab": {
          "base_uri": "https://localhost:8080/",
          "height": 472
        },
        "id": "j0IuDPasd4QP",
        "outputId": "7f116b07-e129-4b54-eaef-3b4584d2fea9"
      },
      "execution_count": 106,
      "outputs": [
        {
          "output_type": "stream",
          "name": "stdout",
          "text": [
            "\r[*********************100%***********************]  1 of 1 completed\n"
          ]
        },
        {
          "output_type": "execute_result",
          "data": {
            "text/plain": [
              "                   Open         High          Low        Close    Adj Close  \\\n",
              "Date                                                                          \n",
              "2011-12-01   734.510010   739.960022   730.750000   730.750000   730.750000   \n",
              "2011-12-02   738.559998   744.960022   734.140015   735.020020   735.020020   \n",
              "2011-12-05   743.640015   752.710022   741.590027   747.030029   747.030029   \n",
              "2011-12-06   746.650024   751.809998   740.890015   746.780029   746.780029   \n",
              "2011-12-07   746.750000   749.000000   732.159973   746.140015   746.140015   \n",
              "...                 ...          ...          ...          ...          ...   \n",
              "2022-12-23  1753.199951  1761.239990  1743.739990  1760.930054  1760.930054   \n",
              "2022-12-27  1761.380005  1761.650024  1745.439941  1749.520020  1749.520020   \n",
              "2022-12-28  1749.930054  1753.930054  1722.020020  1722.020020  1722.020020   \n",
              "2022-12-29  1727.329956  1767.910034  1727.329956  1766.250000  1766.250000   \n",
              "2022-12-30  1759.260010  1763.930054  1747.229980  1761.250000  1761.250000   \n",
              "\n",
              "                Volume  \n",
              "Date                    \n",
              "2011-12-01  3818680000  \n",
              "2011-12-02  4144310000  \n",
              "2011-12-05  4148060000  \n",
              "2011-12-06  3734230000  \n",
              "2011-12-07  4160540000  \n",
              "...                ...  \n",
              "2022-12-23  2819280000  \n",
              "2022-12-27  3030300000  \n",
              "2022-12-28  3083520000  \n",
              "2022-12-29  3003680000  \n",
              "2022-12-30  2979870000  \n",
              "\n",
              "[2789 rows x 6 columns]"
            ],
            "text/html": [
              "\n",
              "  <div id=\"df-720342c6-b8d6-41b1-a7eb-0577ffa2e49e\">\n",
              "    <div class=\"colab-df-container\">\n",
              "      <div>\n",
              "<style scoped>\n",
              "    .dataframe tbody tr th:only-of-type {\n",
              "        vertical-align: middle;\n",
              "    }\n",
              "\n",
              "    .dataframe tbody tr th {\n",
              "        vertical-align: top;\n",
              "    }\n",
              "\n",
              "    .dataframe thead th {\n",
              "        text-align: right;\n",
              "    }\n",
              "</style>\n",
              "<table border=\"1\" class=\"dataframe\">\n",
              "  <thead>\n",
              "    <tr style=\"text-align: right;\">\n",
              "      <th></th>\n",
              "      <th>Open</th>\n",
              "      <th>High</th>\n",
              "      <th>Low</th>\n",
              "      <th>Close</th>\n",
              "      <th>Adj Close</th>\n",
              "      <th>Volume</th>\n",
              "    </tr>\n",
              "    <tr>\n",
              "      <th>Date</th>\n",
              "      <th></th>\n",
              "      <th></th>\n",
              "      <th></th>\n",
              "      <th></th>\n",
              "      <th></th>\n",
              "      <th></th>\n",
              "    </tr>\n",
              "  </thead>\n",
              "  <tbody>\n",
              "    <tr>\n",
              "      <th>2011-12-01</th>\n",
              "      <td>734.510010</td>\n",
              "      <td>739.960022</td>\n",
              "      <td>730.750000</td>\n",
              "      <td>730.750000</td>\n",
              "      <td>730.750000</td>\n",
              "      <td>3818680000</td>\n",
              "    </tr>\n",
              "    <tr>\n",
              "      <th>2011-12-02</th>\n",
              "      <td>738.559998</td>\n",
              "      <td>744.960022</td>\n",
              "      <td>734.140015</td>\n",
              "      <td>735.020020</td>\n",
              "      <td>735.020020</td>\n",
              "      <td>4144310000</td>\n",
              "    </tr>\n",
              "    <tr>\n",
              "      <th>2011-12-05</th>\n",
              "      <td>743.640015</td>\n",
              "      <td>752.710022</td>\n",
              "      <td>741.590027</td>\n",
              "      <td>747.030029</td>\n",
              "      <td>747.030029</td>\n",
              "      <td>4148060000</td>\n",
              "    </tr>\n",
              "    <tr>\n",
              "      <th>2011-12-06</th>\n",
              "      <td>746.650024</td>\n",
              "      <td>751.809998</td>\n",
              "      <td>740.890015</td>\n",
              "      <td>746.780029</td>\n",
              "      <td>746.780029</td>\n",
              "      <td>3734230000</td>\n",
              "    </tr>\n",
              "    <tr>\n",
              "      <th>2011-12-07</th>\n",
              "      <td>746.750000</td>\n",
              "      <td>749.000000</td>\n",
              "      <td>732.159973</td>\n",
              "      <td>746.140015</td>\n",
              "      <td>746.140015</td>\n",
              "      <td>4160540000</td>\n",
              "    </tr>\n",
              "    <tr>\n",
              "      <th>...</th>\n",
              "      <td>...</td>\n",
              "      <td>...</td>\n",
              "      <td>...</td>\n",
              "      <td>...</td>\n",
              "      <td>...</td>\n",
              "      <td>...</td>\n",
              "    </tr>\n",
              "    <tr>\n",
              "      <th>2022-12-23</th>\n",
              "      <td>1753.199951</td>\n",
              "      <td>1761.239990</td>\n",
              "      <td>1743.739990</td>\n",
              "      <td>1760.930054</td>\n",
              "      <td>1760.930054</td>\n",
              "      <td>2819280000</td>\n",
              "    </tr>\n",
              "    <tr>\n",
              "      <th>2022-12-27</th>\n",
              "      <td>1761.380005</td>\n",
              "      <td>1761.650024</td>\n",
              "      <td>1745.439941</td>\n",
              "      <td>1749.520020</td>\n",
              "      <td>1749.520020</td>\n",
              "      <td>3030300000</td>\n",
              "    </tr>\n",
              "    <tr>\n",
              "      <th>2022-12-28</th>\n",
              "      <td>1749.930054</td>\n",
              "      <td>1753.930054</td>\n",
              "      <td>1722.020020</td>\n",
              "      <td>1722.020020</td>\n",
              "      <td>1722.020020</td>\n",
              "      <td>3083520000</td>\n",
              "    </tr>\n",
              "    <tr>\n",
              "      <th>2022-12-29</th>\n",
              "      <td>1727.329956</td>\n",
              "      <td>1767.910034</td>\n",
              "      <td>1727.329956</td>\n",
              "      <td>1766.250000</td>\n",
              "      <td>1766.250000</td>\n",
              "      <td>3003680000</td>\n",
              "    </tr>\n",
              "    <tr>\n",
              "      <th>2022-12-30</th>\n",
              "      <td>1759.260010</td>\n",
              "      <td>1763.930054</td>\n",
              "      <td>1747.229980</td>\n",
              "      <td>1761.250000</td>\n",
              "      <td>1761.250000</td>\n",
              "      <td>2979870000</td>\n",
              "    </tr>\n",
              "  </tbody>\n",
              "</table>\n",
              "<p>2789 rows × 6 columns</p>\n",
              "</div>\n",
              "      <button class=\"colab-df-convert\" onclick=\"convertToInteractive('df-720342c6-b8d6-41b1-a7eb-0577ffa2e49e')\"\n",
              "              title=\"Convert this dataframe to an interactive table.\"\n",
              "              style=\"display:none;\">\n",
              "        \n",
              "  <svg xmlns=\"http://www.w3.org/2000/svg\" height=\"24px\"viewBox=\"0 0 24 24\"\n",
              "       width=\"24px\">\n",
              "    <path d=\"M0 0h24v24H0V0z\" fill=\"none\"/>\n",
              "    <path d=\"M18.56 5.44l.94 2.06.94-2.06 2.06-.94-2.06-.94-.94-2.06-.94 2.06-2.06.94zm-11 1L8.5 8.5l.94-2.06 2.06-.94-2.06-.94L8.5 2.5l-.94 2.06-2.06.94zm10 10l.94 2.06.94-2.06 2.06-.94-2.06-.94-.94-2.06-.94 2.06-2.06.94z\"/><path d=\"M17.41 7.96l-1.37-1.37c-.4-.4-.92-.59-1.43-.59-.52 0-1.04.2-1.43.59L10.3 9.45l-7.72 7.72c-.78.78-.78 2.05 0 2.83L4 21.41c.39.39.9.59 1.41.59.51 0 1.02-.2 1.41-.59l7.78-7.78 2.81-2.81c.8-.78.8-2.07 0-2.86zM5.41 20L4 18.59l7.72-7.72 1.47 1.35L5.41 20z\"/>\n",
              "  </svg>\n",
              "      </button>\n",
              "      \n",
              "  <style>\n",
              "    .colab-df-container {\n",
              "      display:flex;\n",
              "      flex-wrap:wrap;\n",
              "      gap: 12px;\n",
              "    }\n",
              "\n",
              "    .colab-df-convert {\n",
              "      background-color: #E8F0FE;\n",
              "      border: none;\n",
              "      border-radius: 50%;\n",
              "      cursor: pointer;\n",
              "      display: none;\n",
              "      fill: #1967D2;\n",
              "      height: 32px;\n",
              "      padding: 0 0 0 0;\n",
              "      width: 32px;\n",
              "    }\n",
              "\n",
              "    .colab-df-convert:hover {\n",
              "      background-color: #E2EBFA;\n",
              "      box-shadow: 0px 1px 2px rgba(60, 64, 67, 0.3), 0px 1px 3px 1px rgba(60, 64, 67, 0.15);\n",
              "      fill: #174EA6;\n",
              "    }\n",
              "\n",
              "    [theme=dark] .colab-df-convert {\n",
              "      background-color: #3B4455;\n",
              "      fill: #D2E3FC;\n",
              "    }\n",
              "\n",
              "    [theme=dark] .colab-df-convert:hover {\n",
              "      background-color: #434B5C;\n",
              "      box-shadow: 0px 1px 3px 1px rgba(0, 0, 0, 0.15);\n",
              "      filter: drop-shadow(0px 1px 2px rgba(0, 0, 0, 0.3));\n",
              "      fill: #FFFFFF;\n",
              "    }\n",
              "  </style>\n",
              "\n",
              "      <script>\n",
              "        const buttonEl =\n",
              "          document.querySelector('#df-720342c6-b8d6-41b1-a7eb-0577ffa2e49e button.colab-df-convert');\n",
              "        buttonEl.style.display =\n",
              "          google.colab.kernel.accessAllowed ? 'block' : 'none';\n",
              "\n",
              "        async function convertToInteractive(key) {\n",
              "          const element = document.querySelector('#df-720342c6-b8d6-41b1-a7eb-0577ffa2e49e');\n",
              "          const dataTable =\n",
              "            await google.colab.kernel.invokeFunction('convertToInteractive',\n",
              "                                                     [key], {});\n",
              "          if (!dataTable) return;\n",
              "\n",
              "          const docLinkHtml = 'Like what you see? Visit the ' +\n",
              "            '<a target=\"_blank\" href=https://colab.research.google.com/notebooks/data_table.ipynb>data table notebook</a>'\n",
              "            + ' to learn more about interactive tables.';\n",
              "          element.innerHTML = '';\n",
              "          dataTable['output_type'] = 'display_data';\n",
              "          await google.colab.output.renderOutput(dataTable, element);\n",
              "          const docLink = document.createElement('div');\n",
              "          docLink.innerHTML = docLinkHtml;\n",
              "          element.appendChild(docLink);\n",
              "        }\n",
              "      </script>\n",
              "    </div>\n",
              "  </div>\n",
              "  "
            ]
          },
          "metadata": {},
          "execution_count": 106
        }
      ]
    },
    {
      "cell_type": "markdown",
      "source": [
        "#### **a.** Calculo de Volatilidad Mensual y Anualizada"
      ],
      "metadata": {
        "id": "ZmIa9RvQdsg1"
      }
    },
    {
      "cell_type": "markdown",
      "source": [
        "##### **1.** Desviacián Estándar"
      ],
      "metadata": {
        "id": "TrGtVDqvdwjv"
      }
    },
    {
      "cell_type": "markdown",
      "source": [
        "Se calculo con los Retornos Mensuales del Indice"
      ],
      "metadata": {
        "id": "vHbocp_vJlWk"
      }
    },
    {
      "cell_type": "markdown",
      "source": [
        "#####Calculo de Retornos"
      ],
      "metadata": {
        "id": "x8FhZglq6nuk"
      }
    },
    {
      "cell_type": "code",
      "source": [
        "Retorno_Mensual_Rus_3 = np.log(precios_3['Adj Close']/precios_3['Adj Close'].shift(1)).dropna()\n",
        "Retorno_Mensual_Rus_3"
      ],
      "metadata": {
        "colab": {
          "base_uri": "https://localhost:8080/"
        },
        "id": "CQMRJAOA6rvk",
        "outputId": "34510d57-558a-4b15-b8a4-a06f2bb95e80"
      },
      "execution_count": 107,
      "outputs": [
        {
          "output_type": "execute_result",
          "data": {
            "text/plain": [
              "Date\n",
              "2011-12-02    0.005826\n",
              "2011-12-05    0.016208\n",
              "2011-12-06   -0.000335\n",
              "2011-12-07   -0.000857\n",
              "2011-12-08   -0.031947\n",
              "                ...   \n",
              "2022-12-23    0.003892\n",
              "2022-12-27   -0.006501\n",
              "2022-12-28   -0.015843\n",
              "2022-12-29    0.025361\n",
              "2022-12-30   -0.002835\n",
              "Name: Adj Close, Length: 2788, dtype: float64"
            ]
          },
          "metadata": {},
          "execution_count": 107
        }
      ]
    },
    {
      "cell_type": "markdown",
      "source": [
        "#####Mensual"
      ],
      "metadata": {
        "id": "NNmGtngRzYC_"
      }
    },
    {
      "cell_type": "code",
      "source": [
        "Vol_Mensual_Rus_3_std = Retorno_Mensual_Rus_3.std()\n",
        "Vol_Mensual_Rus_3_std"
      ],
      "metadata": {
        "colab": {
          "base_uri": "https://localhost:8080/"
        },
        "id": "NeJg0EoKxmPS",
        "outputId": "e513ca04-1f43-45e7-8bf6-59492a0e47fb"
      },
      "execution_count": 108,
      "outputs": [
        {
          "output_type": "execute_result",
          "data": {
            "text/plain": [
              "0.013800304260798988"
            ]
          },
          "metadata": {},
          "execution_count": 108
        }
      ]
    },
    {
      "cell_type": "markdown",
      "source": [
        "#####Anualizada"
      ],
      "metadata": {
        "id": "URQaDbkNzZWJ"
      }
    },
    {
      "cell_type": "code",
      "source": [
        "Vol_Anual_Rus_3_std = Vol_Mensual_Rus_3_std*np.sqrt(12)\n",
        "Vol_Anual_Rus_3_std"
      ],
      "metadata": {
        "colab": {
          "base_uri": "https://localhost:8080/"
        },
        "id": "1JhqGgE1zUeK",
        "outputId": "f5f47247-1933-4a11-b4ec-e05fe3c38cbc"
      },
      "execution_count": 109,
      "outputs": [
        {
          "output_type": "execute_result",
          "data": {
            "text/plain": [
              "0.04780565627922621"
            ]
          },
          "metadata": {},
          "execution_count": 109
        }
      ]
    },
    {
      "cell_type": "markdown",
      "source": [
        "##### **2.** Parkinson"
      ],
      "metadata": {
        "id": "xhSnf7dfebAR"
      }
    },
    {
      "cell_type": "markdown",
      "source": [
        "#####Mensual"
      ],
      "metadata": {
        "id": "h2D88Sce2Ina"
      }
    },
    {
      "cell_type": "code",
      "source": [
        "lnHL = np.log(precios_3[\"High\"]/precios_3[\"Low\"]).dropna()\n",
        "Vol_Mensual_Rus_3_Park = ((1/(4*np.log(2)))*lnHL**2)**0.5\n",
        "Vol_Mensual_Rus_3_Park"
      ],
      "metadata": {
        "colab": {
          "base_uri": "https://localhost:8080/"
        },
        "id": "HlvoyguA2H0p",
        "outputId": "499d7bea-2535-4ca7-817f-7d6f5aa34e9d"
      },
      "execution_count": 110,
      "outputs": [
        {
          "output_type": "execute_result",
          "data": {
            "text/plain": [
              "Date\n",
              "2011-12-01    0.007522\n",
              "2011-12-02    0.008787\n",
              "2011-12-05    0.008938\n",
              "2011-12-06    0.008787\n",
              "2011-12-07    0.013657\n",
              "                ...   \n",
              "2022-12-23    0.005997\n",
              "2022-12-27    0.005552\n",
              "2022-12-28    0.011027\n",
              "2022-12-29    0.013946\n",
              "2022-12-30    0.005713\n",
              "Length: 2789, dtype: float64"
            ]
          },
          "metadata": {},
          "execution_count": 110
        }
      ]
    },
    {
      "cell_type": "markdown",
      "source": [
        "#####Anualizada"
      ],
      "metadata": {
        "id": "TWC0kafS2LIw"
      }
    },
    {
      "cell_type": "code",
      "source": [
        "Vol_Anual_Rus_3_Park = (Vol_Mensual_Rus_3_Park.mean())*np.sqrt(12)\n",
        "Vol_Anual_Rus_3_Park"
      ],
      "metadata": {
        "colab": {
          "base_uri": "https://localhost:8080/"
        },
        "id": "HWlTjrLa2WjS",
        "outputId": "9f6aa1b2-7b64-45dd-c3ba-1ae29e6c209d"
      },
      "execution_count": 111,
      "outputs": [
        {
          "output_type": "execute_result",
          "data": {
            "text/plain": [
              "0.030161261792894894"
            ]
          },
          "metadata": {},
          "execution_count": 111
        }
      ]
    },
    {
      "cell_type": "markdown",
      "source": [
        "##### **3.** Garman-Klass"
      ],
      "metadata": {
        "id": "FzgytkMadxEz"
      }
    },
    {
      "cell_type": "markdown",
      "source": [
        "#####Mensual"
      ],
      "metadata": {
        "id": "W0l1WZTW2N3p"
      }
    },
    {
      "cell_type": "code",
      "source": [
        "lnHL = np.log(precios_3[\"High\"]/precios_3[\"Low\"]).dropna()\n",
        "lnCO = np.log(precios_3[\"Close\"]/precios_3[\"Open\"]).dropna()\n",
        "Vol_Mensual_Rus_3_GarmK = (0.5*lnHL**2-(2*np.log(2)-1)*lnCO**2)**0.5\n",
        "Vol_Mensual_Rus_3_GarmK"
      ],
      "metadata": {
        "colab": {
          "base_uri": "https://localhost:8080/"
        },
        "id": "km5sRUeK2Txz",
        "outputId": "8dd5071e-6ae5-4b59-f36c-a3a93ece3c1d"
      },
      "execution_count": 112,
      "outputs": [
        {
          "output_type": "execute_result",
          "data": {
            "text/plain": [
              "Date\n",
              "2011-12-01    0.008262\n",
              "2011-12-02    0.009905\n",
              "2011-12-05    0.010137\n",
              "2011-12-06    0.010345\n",
              "2011-12-07    0.016072\n",
              "                ...   \n",
              "2022-12-23    0.006510\n",
              "2022-12-27    0.005010\n",
              "2022-12-28    0.008289\n",
              "2022-12-29    0.008822\n",
              "2022-12-30    0.006690\n",
              "Length: 2789, dtype: float64"
            ]
          },
          "metadata": {},
          "execution_count": 112
        }
      ]
    },
    {
      "cell_type": "markdown",
      "source": [
        "#####Anualizada"
      ],
      "metadata": {
        "id": "DOxj7cXR2PMI"
      }
    },
    {
      "cell_type": "code",
      "source": [
        "Vol_Anual_Rus_3_GarmK = (Vol_Mensual_Rus_3_GarmK.mean())*np.sqrt(12)\n",
        "Vol_Anual_Rus_3_GarmK"
      ],
      "metadata": {
        "colab": {
          "base_uri": "https://localhost:8080/"
        },
        "id": "xZvLdaGV2UMD",
        "outputId": "1a00014f-4c08-46a8-9f23-27d2f9cef435"
      },
      "execution_count": 113,
      "outputs": [
        {
          "output_type": "execute_result",
          "data": {
            "text/plain": [
              "0.02809434772311538"
            ]
          },
          "metadata": {},
          "execution_count": 113
        }
      ]
    },
    {
      "cell_type": "markdown",
      "source": [
        "##### **4.** Volatilidad ponderada exponencial (EWMA) con una lambda de 0.94."
      ],
      "metadata": {
        "id": "o_Ic7qUodxxZ"
      }
    },
    {
      "cell_type": "markdown",
      "source": [
        "#####Opcional Grupo 105i"
      ],
      "metadata": {
        "id": "gLQs5sBk171X"
      }
    },
    {
      "cell_type": "markdown",
      "source": [
        "Se calculo con los Retornos Mensuales del Indice"
      ],
      "metadata": {
        "id": "Oen4lXa3JK0n"
      }
    },
    {
      "cell_type": "markdown",
      "source": [
        "#####Mensual"
      ],
      "metadata": {
        "id": "EfnX1VXe2Q1b"
      }
    },
    {
      "cell_type": "markdown",
      "source": [
        "#####Valor de Lambda"
      ],
      "metadata": {
        "id": "ImVsg3Sz5Xgc"
      }
    },
    {
      "cell_type": "code",
      "source": [
        "#Calculo de JP Morgan\n",
        "Lambda = 0.94\n",
        "Lambda"
      ],
      "metadata": {
        "colab": {
          "base_uri": "https://localhost:8080/"
        },
        "id": "_vAxihZ02UvL",
        "outputId": "6a05c9b0-4627-460e-c6d8-df63128bb88d"
      },
      "execution_count": 114,
      "outputs": [
        {
          "output_type": "execute_result",
          "data": {
            "text/plain": [
              "0.94"
            ]
          },
          "metadata": {},
          "execution_count": 114
        }
      ]
    },
    {
      "cell_type": "markdown",
      "source": [
        "#####Valor de k"
      ],
      "metadata": {
        "id": "0zT1WeYc5dSe"
      }
    },
    {
      "cell_type": "code",
      "source": [
        "k = len(Retorno_Mensual_Rus_3)\n",
        "k"
      ],
      "metadata": {
        "colab": {
          "base_uri": "https://localhost:8080/"
        },
        "id": "knKzGA-G5bfl",
        "outputId": "54a6f931-6992-4814-f42d-af3508907fc6"
      },
      "execution_count": 115,
      "outputs": [
        {
          "output_type": "execute_result",
          "data": {
            "text/plain": [
              "2788"
            ]
          },
          "metadata": {},
          "execution_count": 115
        }
      ]
    },
    {
      "cell_type": "markdown",
      "source": [
        "#####Valor de t"
      ],
      "metadata": {
        "id": "Kb5w2Snx5l2D"
      }
    },
    {
      "cell_type": "code",
      "source": [
        "t = np.arange(k-1,-1,-1)\n",
        "t"
      ],
      "metadata": {
        "colab": {
          "base_uri": "https://localhost:8080/"
        },
        "id": "WX9WG9-c5lhc",
        "outputId": "7a280f99-3d12-4066-a393-c08483f70d2f"
      },
      "execution_count": 116,
      "outputs": [
        {
          "output_type": "execute_result",
          "data": {
            "text/plain": [
              "array([2787, 2786, 2785, ...,    2,    1,    0])"
            ]
          },
          "metadata": {},
          "execution_count": 116
        }
      ]
    },
    {
      "cell_type": "markdown",
      "source": [
        "#####Calcular Alfa"
      ],
      "metadata": {
        "id": "BckZy1ML5qNs"
      }
    },
    {
      "cell_type": "code",
      "source": [
        "Alfa = Lambda**t\n",
        "Alfa"
      ],
      "metadata": {
        "colab": {
          "base_uri": "https://localhost:8080/"
        },
        "id": "9qDtTFD45p81",
        "outputId": "f173315b-b4f0-4f93-c2e7-c02ed828339c"
      },
      "execution_count": 117,
      "outputs": [
        {
          "output_type": "execute_result",
          "data": {
            "text/plain": [
              "array([1.28034787e-75, 1.36207220e-75, 1.44901298e-75, ...,\n",
              "       8.83600000e-01, 9.40000000e-01, 1.00000000e+00])"
            ]
          },
          "metadata": {},
          "execution_count": 117
        }
      ]
    },
    {
      "cell_type": "markdown",
      "source": [
        "#####Volatilidad EWMA"
      ],
      "metadata": {
        "id": "rWtvvc-I5w3E"
      }
    },
    {
      "cell_type": "markdown",
      "source": [
        "#####Varianza (Mensual)"
      ],
      "metadata": {
        "id": "BYAMw92P5zz8"
      }
    },
    {
      "cell_type": "code",
      "source": [
        "varianza_EWMA = ((1-Lambda))*((Retorno_Mensual_Rus_3**2*Alfa).sum())\n",
        "varianza_EWMA"
      ],
      "metadata": {
        "colab": {
          "base_uri": "https://localhost:8080/"
        },
        "id": "01berI7D52wT",
        "outputId": "568a3653-b8e0-4237-8716-24555ca6c278"
      },
      "execution_count": 118,
      "outputs": [
        {
          "output_type": "execute_result",
          "data": {
            "text/plain": [
              "0.00022503837581540806"
            ]
          },
          "metadata": {},
          "execution_count": 118
        }
      ]
    },
    {
      "cell_type": "markdown",
      "source": [
        "#####Desviación Estándar (Volatilidad) (Mensual)"
      ],
      "metadata": {
        "id": "ftd04GFF59qE"
      }
    },
    {
      "cell_type": "code",
      "source": [
        "sigma_EWMA = np.sqrt(varianza_EWMA)\n",
        "sigma_EWMA"
      ],
      "metadata": {
        "colab": {
          "base_uri": "https://localhost:8080/"
        },
        "id": "SPxuXT-k59Y8",
        "outputId": "60b6b8c0-9b75-49bd-8d84-b3e571facd0d"
      },
      "execution_count": 119,
      "outputs": [
        {
          "output_type": "execute_result",
          "data": {
            "text/plain": [
              "0.015001279139307024"
            ]
          },
          "metadata": {},
          "execution_count": 119
        }
      ]
    },
    {
      "cell_type": "markdown",
      "source": [
        "#####Anualizada"
      ],
      "metadata": {
        "id": "OEoKJQoA2SAl"
      }
    },
    {
      "cell_type": "code",
      "source": [
        "sigma_EWMA_Anual = sigma_EWMA*np.sqrt(12)\n",
        "sigma_EWMA_Anual"
      ],
      "metadata": {
        "colab": {
          "base_uri": "https://localhost:8080/"
        },
        "id": "U1SKb3iZ2VJf",
        "outputId": "4457f3b0-eabd-4f05-94bc-4b12647e9138"
      },
      "execution_count": 120,
      "outputs": [
        {
          "output_type": "execute_result",
          "data": {
            "text/plain": [
              "0.05196595529560576"
            ]
          },
          "metadata": {},
          "execution_count": 120
        }
      ]
    },
    {
      "cell_type": "markdown",
      "source": [
        "#####Analisis Volatilidad de los Retornos (Desv Estándar y EWMA)"
      ],
      "metadata": {
        "id": "Gzn-adIsUy9N"
      }
    },
    {
      "cell_type": "markdown",
      "source": [
        "Para el analisis de la volatilidad de los retornos usamos la desviación estándar, la cual nos da como resultado una volatilidad anual de 0.0478 y usando la EWMA nos dio como resultado una volatilidad de 0.051. Por lo que concluimos que la volatilidad de los retornos es relativamente alta y nos dan resultados muy parecidos con los 2 modelos de volatilidad."
      ],
      "metadata": {
        "id": "3RAwsg8XU859"
      }
    },
    {
      "cell_type": "markdown",
      "source": [
        "#####Analisis Volatilidad de los Precios (Parkinson y Garman-Klass)"
      ],
      "metadata": {
        "id": "xNIZdmOMWZ9X"
      }
    },
    {
      "cell_type": "markdown",
      "source": [
        "Para el analisis de la volatilidad de los precios usamos el modelo de volatilidad parkinson, el cual nos da como resultado una volatilidad anual de 0.030 y usando el modelo de volatilidad Garman-Klass nos dio como resultado una volatilidad de 0.028. Por lo que concluimos que la volatilidad de los precios no es tan alta y nos dan resultados muy parecidos con los 2 modelos de volatilidades."
      ],
      "metadata": {
        "id": "jJfGxyzNWii1"
      }
    }
  ]
}